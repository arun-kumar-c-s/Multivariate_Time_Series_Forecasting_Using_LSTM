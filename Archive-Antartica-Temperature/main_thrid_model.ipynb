{
 "cells": [
  {
   "attachments": {},
   "cell_type": "markdown",
   "metadata": {},
   "source": [
    "# Notebook 3: Trying with last 3 days input data"
   ]
  },
  {
   "attachments": {},
   "cell_type": "markdown",
   "metadata": {},
   "source": [
    "# Data\n",
    "\n",
    "The data is downloaded from NATIONAL CENTRE FOR POLAR AND OCEAN RESEARCH, India: http://data.ncaor.gov.in/newhtml"
   ]
  },
  {
   "attachments": {},
   "cell_type": "markdown",
   "metadata": {},
   "source": [
    "# Dataset Info"
   ]
  },
  {
   "cell_type": "code",
   "execution_count": 1,
   "metadata": {},
   "outputs": [
    {
     "name": "stdout",
     "output_type": "stream",
     "text": [
      "\n",
      " ----------------------Synoptic Data-------------------------------------------------------------------\n",
      " \n",
      " Measurements/ data\t: Synoptic\n",
      " Parameters\t\t: Observation Time,  wind direction, wind speed, temparature, MSLP\n",
      " Duration\t\t: 05-05-2016 to\t02-08-2021\n",
      " Location\t\t: Bharati\n",
      " Latitude and Longitude\t: 69Â°24.41'S, 76Â°11.72'E\n",
      " Data file format\t: ASCII\n",
      " \n",
      " ------------------------------------------------------------------------------------------------------\n",
      " \n",
      " \n",
      " \n",
      "\n"
     ]
    }
   ],
   "source": [
    "with open('b_imdncpor_synoptic.txt') as f:\n",
    "    print(' '.join(f.readlines()))"
   ]
  },
  {
   "cell_type": "code",
   "execution_count": 2,
   "metadata": {},
   "outputs": [],
   "source": [
    "import seaborn as sns\n",
    "from matplotlib import pyplot as plt\n",
    "import pandas as pd\n",
    "import numpy as np"
   ]
  },
  {
   "cell_type": "code",
   "execution_count": 3,
   "metadata": {},
   "outputs": [
    {
     "data": {
      "text/html": [
       "<div>\n",
       "<style scoped>\n",
       "    .dataframe tbody tr th:only-of-type {\n",
       "        vertical-align: middle;\n",
       "    }\n",
       "\n",
       "    .dataframe tbody tr th {\n",
       "        vertical-align: top;\n",
       "    }\n",
       "\n",
       "    .dataframe thead th {\n",
       "        text-align: right;\n",
       "    }\n",
       "</style>\n",
       "<table border=\"1\" class=\"dataframe\">\n",
       "  <thead>\n",
       "    <tr style=\"text-align: right;\">\n",
       "      <th></th>\n",
       "      <th>Time</th>\n",
       "      <th>WindDirection</th>\n",
       "      <th>WindSpeed</th>\n",
       "      <th>Temperature</th>\n",
       "      <th>Pressure</th>\n",
       "    </tr>\n",
       "  </thead>\n",
       "  <tbody>\n",
       "    <tr>\n",
       "      <th>0</th>\n",
       "      <td>2016-05-01 00:00:00</td>\n",
       "      <td>5</td>\n",
       "      <td>8.0</td>\n",
       "      <td>-21.5</td>\n",
       "      <td>981.1</td>\n",
       "    </tr>\n",
       "    <tr>\n",
       "      <th>1</th>\n",
       "      <td>2016-05-22 00:00:00</td>\n",
       "      <td>0</td>\n",
       "      <td>0.0</td>\n",
       "      <td>-19.4</td>\n",
       "      <td>986.1</td>\n",
       "    </tr>\n",
       "    <tr>\n",
       "      <th>2</th>\n",
       "      <td>2016-05-22 06:00:00</td>\n",
       "      <td>9</td>\n",
       "      <td>10.0</td>\n",
       "      <td>-16.6</td>\n",
       "      <td>980.4</td>\n",
       "    </tr>\n",
       "    <tr>\n",
       "      <th>3</th>\n",
       "      <td>2016-05-22 12:00:00</td>\n",
       "      <td>9</td>\n",
       "      <td>9.0</td>\n",
       "      <td>-17.4</td>\n",
       "      <td>973.4</td>\n",
       "    </tr>\n",
       "    <tr>\n",
       "      <th>4</th>\n",
       "      <td>2016-05-22 18:00:00</td>\n",
       "      <td>5</td>\n",
       "      <td>13.0</td>\n",
       "      <td>-17.4</td>\n",
       "      <td>970.7</td>\n",
       "    </tr>\n",
       "  </tbody>\n",
       "</table>\n",
       "</div>"
      ],
      "text/plain": [
       "                 Time  WindDirection  WindSpeed  Temperature  Pressure\n",
       "0 2016-05-01 00:00:00              5        8.0        -21.5     981.1\n",
       "1 2016-05-22 00:00:00              0        0.0        -19.4     986.1\n",
       "2 2016-05-22 06:00:00              9       10.0        -16.6     980.4\n",
       "3 2016-05-22 12:00:00              9        9.0        -17.4     973.4\n",
       "4 2016-05-22 18:00:00              5       13.0        -17.4     970.7"
      ]
     },
     "execution_count": 3,
     "metadata": {},
     "output_type": "execute_result"
    }
   ],
   "source": [
    "df = pd.read_csv('synoptic_bharati.csv')\n",
    "df.Time = pd.to_datetime(df.Time)\n",
    "df.head()"
   ]
  },
  {
   "cell_type": "code",
   "execution_count": 4,
   "metadata": {},
   "outputs": [
    {
     "data": {
      "text/html": [
       "<div>\n",
       "<style scoped>\n",
       "    .dataframe tbody tr th:only-of-type {\n",
       "        vertical-align: middle;\n",
       "    }\n",
       "\n",
       "    .dataframe tbody tr th {\n",
       "        vertical-align: top;\n",
       "    }\n",
       "\n",
       "    .dataframe thead th {\n",
       "        text-align: right;\n",
       "    }\n",
       "</style>\n",
       "<table border=\"1\" class=\"dataframe\">\n",
       "  <thead>\n",
       "    <tr style=\"text-align: right;\">\n",
       "      <th></th>\n",
       "      <th>Time</th>\n",
       "    </tr>\n",
       "  </thead>\n",
       "  <tbody>\n",
       "    <tr>\n",
       "      <th>0</th>\n",
       "      <td>2016-05-01 00:00:00</td>\n",
       "    </tr>\n",
       "    <tr>\n",
       "      <th>1</th>\n",
       "      <td>2016-05-01 06:00:00</td>\n",
       "    </tr>\n",
       "    <tr>\n",
       "      <th>2</th>\n",
       "      <td>2016-05-01 12:00:00</td>\n",
       "    </tr>\n",
       "    <tr>\n",
       "      <th>3</th>\n",
       "      <td>2016-05-01 18:00:00</td>\n",
       "    </tr>\n",
       "    <tr>\n",
       "      <th>4</th>\n",
       "      <td>2016-05-02 00:00:00</td>\n",
       "    </tr>\n",
       "  </tbody>\n",
       "</table>\n",
       "</div>"
      ],
      "text/plain": [
       "                 Time\n",
       "0 2016-05-01 00:00:00\n",
       "1 2016-05-01 06:00:00\n",
       "2 2016-05-01 12:00:00\n",
       "3 2016-05-01 18:00:00\n",
       "4 2016-05-02 00:00:00"
      ]
     },
     "execution_count": 4,
     "metadata": {},
     "output_type": "execute_result"
    }
   ],
   "source": [
    "min_time = df.Time.min()\n",
    "max_time = df.Time.max()\n",
    "weather_data = pd.DataFrame(pd.date_range(min_time,max_time, freq='6H'), columns=['Time'])\n",
    "weather_data.head()"
   ]
  },
  {
   "attachments": {},
   "cell_type": "markdown",
   "metadata": {},
   "source": [
    "https://pandas.pydata.org/pandas-docs/stable/user_guide/timeseries.html#offset-aliases\n",
    "\n",
    "https://pandas.pydata.org/docs/reference/api/pandas.DataFrame.asfreq.html"
   ]
  },
  {
   "cell_type": "code",
   "execution_count": 5,
   "metadata": {},
   "outputs": [
    {
     "data": {
      "text/plain": [
       "Time                0\n",
       "WindDirection    1906\n",
       "WindSpeed        2013\n",
       "Temperature      1922\n",
       "Pressure         2268\n",
       "dtype: int64"
      ]
     },
     "execution_count": 5,
     "metadata": {},
     "output_type": "execute_result"
    }
   ],
   "source": [
    "weather_data = pd.merge(weather_data, df, on='Time', how='left')\n",
    "weather_data.isna().sum()"
   ]
  },
  {
   "cell_type": "code",
   "execution_count": 6,
   "metadata": {},
   "outputs": [],
   "source": [
    "weather_data = weather_data.loc[2715:6000] # Through manual inspection and checking"
   ]
  },
  {
   "attachments": {},
   "cell_type": "markdown",
   "metadata": {},
   "source": [
    "Using Temperature data to forecast future temperature."
   ]
  },
  {
   "cell_type": "code",
   "execution_count": 7,
   "metadata": {},
   "outputs": [
    {
     "data": {
      "text/html": [
       "<div>\n",
       "<style scoped>\n",
       "    .dataframe tbody tr th:only-of-type {\n",
       "        vertical-align: middle;\n",
       "    }\n",
       "\n",
       "    .dataframe tbody tr th {\n",
       "        vertical-align: top;\n",
       "    }\n",
       "\n",
       "    .dataframe thead th {\n",
       "        text-align: right;\n",
       "    }\n",
       "</style>\n",
       "<table border=\"1\" class=\"dataframe\">\n",
       "  <thead>\n",
       "    <tr style=\"text-align: right;\">\n",
       "      <th></th>\n",
       "      <th>Temperature</th>\n",
       "    </tr>\n",
       "  </thead>\n",
       "  <tbody>\n",
       "    <tr>\n",
       "      <th>2715</th>\n",
       "      <td>-14.6</td>\n",
       "    </tr>\n",
       "    <tr>\n",
       "      <th>2716</th>\n",
       "      <td>-17.2</td>\n",
       "    </tr>\n",
       "    <tr>\n",
       "      <th>2717</th>\n",
       "      <td>-14.0</td>\n",
       "    </tr>\n",
       "    <tr>\n",
       "      <th>2718</th>\n",
       "      <td>-15.5</td>\n",
       "    </tr>\n",
       "    <tr>\n",
       "      <th>2719</th>\n",
       "      <td>-16.8</td>\n",
       "    </tr>\n",
       "  </tbody>\n",
       "</table>\n",
       "</div>"
      ],
      "text/plain": [
       "      Temperature\n",
       "2715        -14.6\n",
       "2716        -17.2\n",
       "2717        -14.0\n",
       "2718        -15.5\n",
       "2719        -16.8"
      ]
     },
     "execution_count": 7,
     "metadata": {},
     "output_type": "execute_result"
    }
   ],
   "source": [
    "temp_df = weather_data[['Temperature']].copy()\n",
    "temp_df.head()"
   ]
  },
  {
   "cell_type": "code",
   "execution_count": 8,
   "metadata": {},
   "outputs": [
    {
     "data": {
      "image/png": "[encoded data removed]",
      "text/plain": [
       "<Figure size 1800x288 with 1 Axes>"
      ]
     },
     "metadata": {
      "needs_background": "light"
     },
     "output_type": "display_data"
    }
   ],
   "source": [
    "weather_data.Temperature.plot(figsize=(25,4), title='Temperature Variation with Time')\n",
    "plt.show()"
   ]
  },
  {
   "attachments": {},
   "cell_type": "markdown",
   "metadata": {},
   "source": [
    "We can see highest temperature around january and lowet temperatures around July to October."
   ]
  },
  {
   "cell_type": "code",
   "execution_count": 9,
   "metadata": {},
   "outputs": [],
   "source": [
    "def simple_x_y_splitter(dataframe, col, prev_n_days=5):\n",
    "    df = dataframe.copy()\n",
    "    for lag in range(1, prev_n_days+1):\n",
    "        df[f'lag_{lag}'] = df[col].shift(lag)\n",
    "    df.dropna(inplace=True)\n",
    "    y = df[col].values\n",
    "    X = df.drop([col], axis=1).values\n",
    "    return np.expand_dims(X,2), y"
   ]
  },
  {
   "cell_type": "code",
   "execution_count": 10,
   "metadata": {},
   "outputs": [],
   "source": [
    "X, y = simple_x_y_splitter(temp_df, 'Temperature',prev_n_days=3)"
   ]
  },
  {
   "cell_type": "code",
   "execution_count": 11,
   "metadata": {},
   "outputs": [
    {
     "data": {
      "text/plain": [
       "array([-15.5, -16.8, -16.5, ..., -11.5,  -7.9,  -6.4])"
      ]
     },
     "execution_count": 11,
     "metadata": {},
     "output_type": "execute_result"
    }
   ],
   "source": [
    "y"
   ]
  },
  {
   "cell_type": "code",
   "execution_count": 12,
   "metadata": {},
   "outputs": [
    {
     "data": {
      "text/plain": [
       "array([[[-14. ],\n",
       "        [-17.2],\n",
       "        [-14.6]],\n",
       "\n",
       "       [[-15.5],\n",
       "        [-14. ],\n",
       "        [-17.2]],\n",
       "\n",
       "       [[-16.8],\n",
       "        [-15.5],\n",
       "        [-14. ]],\n",
       "\n",
       "       ...,\n",
       "\n",
       "       [[-10. ],\n",
       "        [ -9.6],\n",
       "        [ -9.4]],\n",
       "\n",
       "       [[-11.5],\n",
       "        [-10. ],\n",
       "        [ -9.6]],\n",
       "\n",
       "       [[ -7.9],\n",
       "        [-11.5],\n",
       "        [-10. ]]])"
      ]
     },
     "execution_count": 12,
     "metadata": {},
     "output_type": "execute_result"
    }
   ],
   "source": [
    "X"
   ]
  },
  {
   "attachments": {},
   "cell_type": "markdown",
   "metadata": {},
   "source": [
    "# Temporal splitting"
   ]
  },
  {
   "cell_type": "code",
   "execution_count": 13,
   "metadata": {},
   "outputs": [
    {
     "name": "stdout",
     "output_type": "stream",
     "text": [
      "1462 1775\n"
     ]
    }
   ],
   "source": [
    "train_val_split_idx, val_test_split_idx = int(X.shape[0]*.7), int(X.shape[0]*.85)\n",
    "print(train_val_split_idx, val_test_split_idx)\n",
    "X_train, y_train = X[:train_val_split_idx], y[:train_val_split_idx]\n",
    "X_val, y_val = X[train_val_split_idx:val_test_split_idx], y[train_val_split_idx:val_test_split_idx]\n",
    "X_test, y_test = X[val_test_split_idx:], y[val_test_split_idx:]"
   ]
  },
  {
   "attachments": {},
   "cell_type": "markdown",
   "metadata": {},
   "source": [
    "# Standardization"
   ]
  },
  {
   "cell_type": "code",
   "execution_count": 14,
   "metadata": {},
   "outputs": [],
   "source": [
    "X_train_mean = X_train.mean()\n",
    "X_train_sd= X_train.std()\n",
    "y_train_mean = y_train.mean()\n",
    "y_train_sd= y_train.std()\n",
    "\n",
    "def standardize(x, y):\n",
    "    x_std = (x-X_train_mean)/X_train_sd\n",
    "    y_std = (y-y_train_mean)/y_train_sd\n",
    "    return x_std, y_std\n",
    "\n",
    "X_train_std, y_train_std = standardize(X_train, y_train)\n",
    "X_val_std, y_val_std = standardize(X_val, y_val)\n",
    "X_test_std, y_test_std = standardize(X_test, y_test)"
   ]
  },
  {
   "attachments": {},
   "cell_type": "markdown",
   "metadata": {},
   "source": [
    "# LSTM Model 1"
   ]
  },
  {
   "cell_type": "code",
   "execution_count": 15,
   "metadata": {},
   "outputs": [],
   "source": [
    "from tensorflow.keras.layers import *\n",
    "from tensorflow.keras.models import Sequential\n",
    "from tensorflow.keras.optimizers import Adam\n",
    "from tensorflow.keras.callbacks import ModelCheckpoint\n",
    "from tensorflow.keras.losses import MeanSquaredError\n",
    "from tensorflow.keras.metrics import RootMeanSquaredError"
   ]
  },
  {
   "cell_type": "code",
   "execution_count": 16,
   "metadata": {},
   "outputs": [],
   "source": [
    "from tensorflow.keras.callbacks import TensorBoard\n",
    "\n",
    "tb1 = TensorBoard(\n",
    "    log_dir='logs1',\n",
    "    histogram_freq=0,\n",
    "    write_graph=True,\n",
    "    write_images=False,\n",
    "    write_steps_per_second=False,\n",
    "    update_freq='epoch',\n",
    "    profile_batch=0,\n",
    "    embeddings_freq=0,\n",
    "    embeddings_metadata=None\n",
    ")"
   ]
  },
  {
   "cell_type": "code",
   "execution_count": 17,
   "metadata": {},
   "outputs": [
    {
     "name": "stdout",
     "output_type": "stream",
     "text": [
      "Model: \"sequential\"\n",
      "_________________________________________________________________\n",
      " Layer (type)                Output Shape              Param #   \n",
      "=================================================================\n",
      " lstm (LSTM)                 (None, 64)                16896     \n",
      "                                                                 \n",
      " dense (Dense)               (None, 8)                 520       \n",
      "                                                                 \n",
      " dense_1 (Dense)             (None, 1)                 9         \n",
      "                                                                 \n",
      "=================================================================\n",
      "Total params: 17,425\n",
      "Trainable params: 17,425\n",
      "Non-trainable params: 0\n",
      "_________________________________________________________________\n"
     ]
    }
   ],
   "source": [
    "model1 = Sequential()\n",
    "model1.add(InputLayer((3,1)))\n",
    "model1.add(LSTM(64))\n",
    "model1.add(Dense(8,'relu'))\n",
    "model1.add(Dense(1,'linear'))\n",
    "model1.summary()"
   ]
  },
  {
   "cell_type": "code",
   "execution_count": 18,
   "metadata": {},
   "outputs": [],
   "source": [
    "cp1 = ModelCheckpoint('model1/', save_best_only=True)\n",
    "model1.compile(loss=MeanSquaredError(), optimizer=Adam(learning_rate=0.001), metrics=[RootMeanSquaredError()])"
   ]
  },
  {
   "cell_type": "code",
   "execution_count": 19,
   "metadata": {},
   "outputs": [
    {
     "name": "stdout",
     "output_type": "stream",
     "text": [
      "Epoch 1/50\n",
      "46/46 [==============================] - ETA: 0s - loss: 105.8300 - root_mean_squared_error: 10.2874"
     ]
    },
    {
     "name": "stderr",
     "output_type": "stream",
     "text": [
      "WARNING:absl:Found untraced functions such as lstm_cell_layer_call_fn, lstm_cell_layer_call_and_return_conditional_losses while saving (showing 2 of 2). These functions will not be directly callable after loading.\n"
     ]
    },
    {
     "name": "stdout",
     "output_type": "stream",
     "text": [
      "INFO:tensorflow:Assets written to: model1\\assets\n"
     ]
    },
    {
     "name": "stderr",
     "output_type": "stream",
     "text": [
      "INFO:tensorflow:Assets written to: model1\\assets\n"
     ]
    },
    {
     "name": "stdout",
     "output_type": "stream",
     "text": [
      "46/46 [==============================] - 21s 353ms/step - loss: 105.8300 - root_mean_squared_error: 10.2874 - val_loss: 18.7910 - val_root_mean_squared_error: 4.3349\n",
      "Epoch 2/50\n",
      "44/46 [===========================>..] - ETA: 0s - loss: 34.9898 - root_mean_squared_error: 5.9152"
     ]
    },
    {
     "name": "stderr",
     "output_type": "stream",
     "text": [
      "WARNING:absl:Found untraced functions such as lstm_cell_layer_call_fn, lstm_cell_layer_call_and_return_conditional_losses while saving (showing 2 of 2). These functions will not be directly callable after loading.\n"
     ]
    },
    {
     "name": "stdout",
     "output_type": "stream",
     "text": [
      "INFO:tensorflow:Assets written to: model1\\assets\n"
     ]
    },
    {
     "name": "stderr",
     "output_type": "stream",
     "text": [
      "INFO:tensorflow:Assets written to: model1\\assets\n"
     ]
    },
    {
     "name": "stdout",
     "output_type": "stream",
     "text": [
      "46/46 [==============================] - 12s 256ms/step - loss: 34.4375 - root_mean_squared_error: 5.8683 - val_loss: 11.1706 - val_root_mean_squared_error: 3.3422\n",
      "Epoch 3/50\n",
      "44/46 [===========================>..] - ETA: 0s - loss: 15.3613 - root_mean_squared_error: 3.9194"
     ]
    },
    {
     "name": "stderr",
     "output_type": "stream",
     "text": [
      "WARNING:absl:Found untraced functions such as lstm_cell_layer_call_fn, lstm_cell_layer_call_and_return_conditional_losses while saving (showing 2 of 2). These functions will not be directly callable after loading.\n"
     ]
    },
    {
     "name": "stdout",
     "output_type": "stream",
     "text": [
      "INFO:tensorflow:Assets written to: model1\\assets\n"
     ]
    },
    {
     "name": "stderr",
     "output_type": "stream",
     "text": [
      "INFO:tensorflow:Assets written to: model1\\assets\n"
     ]
    },
    {
     "name": "stdout",
     "output_type": "stream",
     "text": [
      "46/46 [==============================] - 12s 272ms/step - loss: 15.4344 - root_mean_squared_error: 3.9287 - val_loss: 6.5894 - val_root_mean_squared_error: 2.5670\n",
      "Epoch 4/50\n",
      "43/46 [===========================>..] - ETA: 0s - loss: 10.0559 - root_mean_squared_error: 3.1711"
     ]
    },
    {
     "name": "stderr",
     "output_type": "stream",
     "text": [
      "WARNING:absl:Found untraced functions such as lstm_cell_layer_call_fn, lstm_cell_layer_call_and_return_conditional_losses while saving (showing 2 of 2). These functions will not be directly callable after loading.\n"
     ]
    },
    {
     "name": "stdout",
     "output_type": "stream",
     "text": [
      "INFO:tensorflow:Assets written to: model1\\assets\n"
     ]
    },
    {
     "name": "stderr",
     "output_type": "stream",
     "text": [
      "INFO:tensorflow:Assets written to: model1\\assets\n"
     ]
    },
    {
     "name": "stdout",
     "output_type": "stream",
     "text": [
      "46/46 [==============================] - 12s 269ms/step - loss: 10.0299 - root_mean_squared_error: 3.1670 - val_loss: 5.9319 - val_root_mean_squared_error: 2.4356\n",
      "Epoch 5/50\n",
      "41/46 [=========================>....] - ETA: 0s - loss: 8.3377 - root_mean_squared_error: 2.8875"
     ]
    },
    {
     "name": "stderr",
     "output_type": "stream",
     "text": [
      "WARNING:absl:Found untraced functions such as lstm_cell_layer_call_fn, lstm_cell_layer_call_and_return_conditional_losses while saving (showing 2 of 2). These functions will not be directly callable after loading.\n"
     ]
    },
    {
     "name": "stdout",
     "output_type": "stream",
     "text": [
      "INFO:tensorflow:Assets written to: model1\\assets\n"
     ]
    },
    {
     "name": "stderr",
     "output_type": "stream",
     "text": [
      "INFO:tensorflow:Assets written to: model1\\assets\n"
     ]
    },
    {
     "name": "stdout",
     "output_type": "stream",
     "text": [
      "46/46 [==============================] - 11s 245ms/step - loss: 8.3691 - root_mean_squared_error: 2.8929 - val_loss: 5.5462 - val_root_mean_squared_error: 2.3550\n",
      "Epoch 6/50\n",
      "36/46 [======================>.......] - ETA: 0s - loss: 7.2458 - root_mean_squared_error: 2.6918"
     ]
    },
    {
     "name": "stderr",
     "output_type": "stream",
     "text": [
      "WARNING:absl:Found untraced functions such as lstm_cell_layer_call_fn, lstm_cell_layer_call_and_return_conditional_losses while saving (showing 2 of 2). These functions will not be directly callable after loading.\n"
     ]
    },
    {
     "name": "stdout",
     "output_type": "stream",
     "text": [
      "INFO:tensorflow:Assets written to: model1\\assets\n"
     ]
    },
    {
     "name": "stderr",
     "output_type": "stream",
     "text": [
      "INFO:tensorflow:Assets written to: model1\\assets\n"
     ]
    },
    {
     "name": "stdout",
     "output_type": "stream",
     "text": [
      "46/46 [==============================] - 12s 264ms/step - loss: 7.1113 - root_mean_squared_error: 2.6667 - val_loss: 5.2546 - val_root_mean_squared_error: 2.2923\n",
      "Epoch 7/50\n",
      "41/46 [=========================>....] - ETA: 0s - loss: 6.1357 - root_mean_squared_error: 2.4770"
     ]
    },
    {
     "name": "stderr",
     "output_type": "stream",
     "text": [
      "WARNING:absl:Found untraced functions such as lstm_cell_layer_call_fn, lstm_cell_layer_call_and_return_conditional_losses while saving (showing 2 of 2). These functions will not be directly callable after loading.\n"
     ]
    },
    {
     "name": "stdout",
     "output_type": "stream",
     "text": [
      "INFO:tensorflow:Assets written to: model1\\assets\n"
     ]
    },
    {
     "name": "stderr",
     "output_type": "stream",
     "text": [
      "INFO:tensorflow:Assets written to: model1\\assets\n"
     ]
    },
    {
     "name": "stdout",
     "output_type": "stream",
     "text": [
      "46/46 [==============================] - 12s 271ms/step - loss: 6.0278 - root_mean_squared_error: 2.4552 - val_loss: 5.0206 - val_root_mean_squared_error: 2.2407\n",
      "Epoch 8/50\n",
      "42/46 [==========================>...] - ETA: 0s - loss: 5.5912 - root_mean_squared_error: 2.3646"
     ]
    },
    {
     "name": "stderr",
     "output_type": "stream",
     "text": [
      "WARNING:absl:Found untraced functions such as lstm_cell_layer_call_fn, lstm_cell_layer_call_and_return_conditional_losses while saving (showing 2 of 2). These functions will not be directly callable after loading.\n"
     ]
    },
    {
     "name": "stdout",
     "output_type": "stream",
     "text": [
      "INFO:tensorflow:Assets written to: model1\\assets\n"
     ]
    },
    {
     "name": "stderr",
     "output_type": "stream",
     "text": [
      "INFO:tensorflow:Assets written to: model1\\assets\n"
     ]
    },
    {
     "name": "stdout",
     "output_type": "stream",
     "text": [
      "46/46 [==============================] - 13s 282ms/step - loss: 5.4469 - root_mean_squared_error: 2.3339 - val_loss: 4.9951 - val_root_mean_squared_error: 2.2350\n",
      "Epoch 9/50\n",
      "46/46 [==============================] - 0s 7ms/step - loss: 5.0031 - root_mean_squared_error: 2.2368 - val_loss: 4.9984 - val_root_mean_squared_error: 2.2357\n",
      "Epoch 10/50\n",
      "41/46 [=========================>....] - ETA: 0s - loss: 4.8234 - root_mean_squared_error: 2.1962"
     ]
    },
    {
     "name": "stderr",
     "output_type": "stream",
     "text": [
      "WARNING:absl:Found untraced functions such as lstm_cell_layer_call_fn, lstm_cell_layer_call_and_return_conditional_losses while saving (showing 2 of 2). These functions will not be directly callable after loading.\n"
     ]
    },
    {
     "name": "stdout",
     "output_type": "stream",
     "text": [
      "INFO:tensorflow:Assets written to: model1\\assets\n"
     ]
    },
    {
     "name": "stderr",
     "output_type": "stream",
     "text": [
      "INFO:tensorflow:Assets written to: model1\\assets\n"
     ]
    },
    {
     "name": "stdout",
     "output_type": "stream",
     "text": [
      "46/46 [==============================] - 13s 285ms/step - loss: 4.8088 - root_mean_squared_error: 2.1929 - val_loss: 4.9801 - val_root_mean_squared_error: 2.2316\n",
      "Epoch 11/50\n",
      "46/46 [==============================] - 0s 6ms/step - loss: 4.6233 - root_mean_squared_error: 2.1502 - val_loss: 5.0155 - val_root_mean_squared_error: 2.2395\n",
      "Epoch 12/50\n",
      "42/46 [==========================>...] - ETA: 0s - loss: 4.6605 - root_mean_squared_error: 2.1588"
     ]
    },
    {
     "name": "stderr",
     "output_type": "stream",
     "text": [
      "WARNING:absl:Found untraced functions such as lstm_cell_layer_call_fn, lstm_cell_layer_call_and_return_conditional_losses while saving (showing 2 of 2). These functions will not be directly callable after loading.\n"
     ]
    },
    {
     "name": "stdout",
     "output_type": "stream",
     "text": [
      "INFO:tensorflow:Assets written to: model1\\assets\n"
     ]
    },
    {
     "name": "stderr",
     "output_type": "stream",
     "text": [
      "INFO:tensorflow:Assets written to: model1\\assets\n"
     ]
    },
    {
     "name": "stdout",
     "output_type": "stream",
     "text": [
      "46/46 [==============================] - 12s 265ms/step - loss: 4.6500 - root_mean_squared_error: 2.1564 - val_loss: 4.9517 - val_root_mean_squared_error: 2.2252\n",
      "Epoch 13/50\n",
      "36/46 [======================>.......] - ETA: 0s - loss: 4.4848 - root_mean_squared_error: 2.1177"
     ]
    },
    {
     "name": "stderr",
     "output_type": "stream",
     "text": [
      "WARNING:absl:Found untraced functions such as lstm_cell_layer_call_fn, lstm_cell_layer_call_and_return_conditional_losses while saving (showing 2 of 2). These functions will not be directly callable after loading.\n"
     ]
    },
    {
     "name": "stdout",
     "output_type": "stream",
     "text": [
      "INFO:tensorflow:Assets written to: model1\\assets\n"
     ]
    },
    {
     "name": "stderr",
     "output_type": "stream",
     "text": [
      "INFO:tensorflow:Assets written to: model1\\assets\n"
     ]
    },
    {
     "name": "stdout",
     "output_type": "stream",
     "text": [
      "46/46 [==============================] - 12s 264ms/step - loss: 4.4208 - root_mean_squared_error: 2.1026 - val_loss: 4.9306 - val_root_mean_squared_error: 2.2205\n",
      "Epoch 14/50\n",
      "46/46 [==============================] - ETA: 0s - loss: 4.2757 - root_mean_squared_error: 2.0678"
     ]
    },
    {
     "name": "stderr",
     "output_type": "stream",
     "text": [
      "WARNING:absl:Found untraced functions such as lstm_cell_layer_call_fn, lstm_cell_layer_call_and_return_conditional_losses while saving (showing 2 of 2). These functions will not be directly callable after loading.\n"
     ]
    },
    {
     "name": "stdout",
     "output_type": "stream",
     "text": [
      "INFO:tensorflow:Assets written to: model1\\assets\n"
     ]
    },
    {
     "name": "stderr",
     "output_type": "stream",
     "text": [
      "INFO:tensorflow:Assets written to: model1\\assets\n"
     ]
    },
    {
     "name": "stdout",
     "output_type": "stream",
     "text": [
      "46/46 [==============================] - 11s 254ms/step - loss: 4.2757 - root_mean_squared_error: 2.0678 - val_loss: 4.8551 - val_root_mean_squared_error: 2.2034\n",
      "Epoch 15/50\n",
      "35/46 [=====================>........] - ETA: 0s - loss: 4.2676 - root_mean_squared_error: 2.0658"
     ]
    },
    {
     "name": "stderr",
     "output_type": "stream",
     "text": [
      "WARNING:absl:Found untraced functions such as lstm_cell_layer_call_fn, lstm_cell_layer_call_and_return_conditional_losses while saving (showing 2 of 2). These functions will not be directly callable after loading.\n"
     ]
    },
    {
     "name": "stdout",
     "output_type": "stream",
     "text": [
      "INFO:tensorflow:Assets written to: model1\\assets\n"
     ]
    },
    {
     "name": "stderr",
     "output_type": "stream",
     "text": [
      "INFO:tensorflow:Assets written to: model1\\assets\n"
     ]
    },
    {
     "name": "stdout",
     "output_type": "stream",
     "text": [
      "46/46 [==============================] - 11s 254ms/step - loss: 4.2522 - root_mean_squared_error: 2.0621 - val_loss: 4.8435 - val_root_mean_squared_error: 2.2008\n",
      "Epoch 16/50\n",
      "42/46 [==========================>...] - ETA: 0s - loss: 4.2407 - root_mean_squared_error: 2.0593"
     ]
    },
    {
     "name": "stderr",
     "output_type": "stream",
     "text": [
      "WARNING:absl:Found untraced functions such as lstm_cell_layer_call_fn, lstm_cell_layer_call_and_return_conditional_losses while saving (showing 2 of 2). These functions will not be directly callable after loading.\n"
     ]
    },
    {
     "name": "stdout",
     "output_type": "stream",
     "text": [
      "INFO:tensorflow:Assets written to: model1\\assets\n"
     ]
    },
    {
     "name": "stderr",
     "output_type": "stream",
     "text": [
      "INFO:tensorflow:Assets written to: model1\\assets\n"
     ]
    },
    {
     "name": "stdout",
     "output_type": "stream",
     "text": [
      "46/46 [==============================] - 12s 267ms/step - loss: 4.2126 - root_mean_squared_error: 2.0525 - val_loss: 4.7447 - val_root_mean_squared_error: 2.1782\n",
      "Epoch 17/50\n",
      "42/46 [==========================>...] - ETA: 0s - loss: 4.0792 - root_mean_squared_error: 2.0197"
     ]
    },
    {
     "name": "stderr",
     "output_type": "stream",
     "text": [
      "WARNING:absl:Found untraced functions such as lstm_cell_layer_call_fn, lstm_cell_layer_call_and_return_conditional_losses while saving (showing 2 of 2). These functions will not be directly callable after loading.\n"
     ]
    },
    {
     "name": "stdout",
     "output_type": "stream",
     "text": [
      "INFO:tensorflow:Assets written to: model1\\assets\n"
     ]
    },
    {
     "name": "stderr",
     "output_type": "stream",
     "text": [
      "INFO:tensorflow:Assets written to: model1\\assets\n"
     ]
    },
    {
     "name": "stdout",
     "output_type": "stream",
     "text": [
      "46/46 [==============================] - 11s 250ms/step - loss: 4.0802 - root_mean_squared_error: 2.0200 - val_loss: 4.6546 - val_root_mean_squared_error: 2.1574\n",
      "Epoch 18/50\n",
      "44/46 [===========================>..] - ETA: 0s - loss: 4.0743 - root_mean_squared_error: 2.0185"
     ]
    },
    {
     "name": "stderr",
     "output_type": "stream",
     "text": [
      "WARNING:absl:Found untraced functions such as lstm_cell_layer_call_fn, lstm_cell_layer_call_and_return_conditional_losses while saving (showing 2 of 2). These functions will not be directly callable after loading.\n"
     ]
    },
    {
     "name": "stdout",
     "output_type": "stream",
     "text": [
      "INFO:tensorflow:Assets written to: model1\\assets\n"
     ]
    },
    {
     "name": "stderr",
     "output_type": "stream",
     "text": [
      "INFO:tensorflow:Assets written to: model1\\assets\n"
     ]
    },
    {
     "name": "stdout",
     "output_type": "stream",
     "text": [
      "46/46 [==============================] - 12s 270ms/step - loss: 4.0469 - root_mean_squared_error: 2.0117 - val_loss: 4.6049 - val_root_mean_squared_error: 2.1459\n",
      "Epoch 19/50\n",
      "46/46 [==============================] - 0s 7ms/step - loss: 3.8829 - root_mean_squared_error: 1.9705 - val_loss: 4.7571 - val_root_mean_squared_error: 2.1811\n",
      "Epoch 20/50\n",
      "35/46 [=====================>........] - ETA: 0s - loss: 3.9406 - root_mean_squared_error: 1.9851"
     ]
    },
    {
     "name": "stderr",
     "output_type": "stream",
     "text": [
      "WARNING:absl:Found untraced functions such as lstm_cell_layer_call_fn, lstm_cell_layer_call_and_return_conditional_losses while saving (showing 2 of 2). These functions will not be directly callable after loading.\n"
     ]
    },
    {
     "name": "stdout",
     "output_type": "stream",
     "text": [
      "INFO:tensorflow:Assets written to: model1\\assets\n"
     ]
    },
    {
     "name": "stderr",
     "output_type": "stream",
     "text": [
      "INFO:tensorflow:Assets written to: model1\\assets\n"
     ]
    },
    {
     "name": "stdout",
     "output_type": "stream",
     "text": [
      "46/46 [==============================] - 13s 278ms/step - loss: 4.0969 - root_mean_squared_error: 2.0241 - val_loss: 4.5117 - val_root_mean_squared_error: 2.1241\n",
      "Epoch 21/50\n",
      "41/46 [=========================>....] - ETA: 0s - loss: 3.9734 - root_mean_squared_error: 1.9934"
     ]
    },
    {
     "name": "stderr",
     "output_type": "stream",
     "text": [
      "WARNING:absl:Found untraced functions such as lstm_cell_layer_call_fn, lstm_cell_layer_call_and_return_conditional_losses while saving (showing 2 of 2). These functions will not be directly callable after loading.\n"
     ]
    },
    {
     "name": "stdout",
     "output_type": "stream",
     "text": [
      "INFO:tensorflow:Assets written to: model1\\assets\n"
     ]
    },
    {
     "name": "stderr",
     "output_type": "stream",
     "text": [
      "INFO:tensorflow:Assets written to: model1\\assets\n"
     ]
    },
    {
     "name": "stdout",
     "output_type": "stream",
     "text": [
      "46/46 [==============================] - 17s 383ms/step - loss: 4.0158 - root_mean_squared_error: 2.0040 - val_loss: 4.4641 - val_root_mean_squared_error: 2.1129\n",
      "Epoch 22/50\n",
      "46/46 [==============================] - 2s 40ms/step - loss: 3.9895 - root_mean_squared_error: 1.9974 - val_loss: 4.4731 - val_root_mean_squared_error: 2.1150\n",
      "Epoch 23/50\n",
      "46/46 [==============================] - 1s 13ms/step - loss: 3.8905 - root_mean_squared_error: 1.9724 - val_loss: 4.5374 - val_root_mean_squared_error: 2.1301\n",
      "Epoch 24/50\n",
      "40/46 [=========================>....] - ETA: 0s - loss: 3.9619 - root_mean_squared_error: 1.9904"
     ]
    },
    {
     "name": "stderr",
     "output_type": "stream",
     "text": [
      "WARNING:absl:Found untraced functions such as lstm_cell_layer_call_fn, lstm_cell_layer_call_and_return_conditional_losses while saving (showing 2 of 2). These functions will not be directly callable after loading.\n"
     ]
    },
    {
     "name": "stdout",
     "output_type": "stream",
     "text": [
      "INFO:tensorflow:Assets written to: model1\\assets\n"
     ]
    },
    {
     "name": "stderr",
     "output_type": "stream",
     "text": [
      "INFO:tensorflow:Assets written to: model1\\assets\n"
     ]
    },
    {
     "name": "stdout",
     "output_type": "stream",
     "text": [
      "46/46 [==============================] - 13s 282ms/step - loss: 3.8557 - root_mean_squared_error: 1.9636 - val_loss: 4.4183 - val_root_mean_squared_error: 2.1020\n",
      "Epoch 25/50\n",
      "46/46 [==============================] - 0s 6ms/step - loss: 3.7823 - root_mean_squared_error: 1.9448 - val_loss: 4.6567 - val_root_mean_squared_error: 2.1579\n",
      "Epoch 26/50\n",
      "36/46 [======================>.......] - ETA: 0s - loss: 4.0213 - root_mean_squared_error: 2.0053"
     ]
    },
    {
     "name": "stderr",
     "output_type": "stream",
     "text": [
      "WARNING:absl:Found untraced functions such as lstm_cell_layer_call_fn, lstm_cell_layer_call_and_return_conditional_losses while saving (showing 2 of 2). These functions will not be directly callable after loading.\n"
     ]
    },
    {
     "name": "stdout",
     "output_type": "stream",
     "text": [
      "INFO:tensorflow:Assets written to: model1\\assets\n"
     ]
    },
    {
     "name": "stderr",
     "output_type": "stream",
     "text": [
      "INFO:tensorflow:Assets written to: model1\\assets\n"
     ]
    },
    {
     "name": "stdout",
     "output_type": "stream",
     "text": [
      "46/46 [==============================] - 12s 259ms/step - loss: 4.0246 - root_mean_squared_error: 2.0061 - val_loss: 4.3083 - val_root_mean_squared_error: 2.0756\n",
      "Epoch 27/50\n",
      "46/46 [==============================] - 0s 6ms/step - loss: 4.0462 - root_mean_squared_error: 2.0115 - val_loss: 4.3228 - val_root_mean_squared_error: 2.0791\n",
      "Epoch 28/50\n",
      "41/46 [=========================>....] - ETA: 0s - loss: 3.8282 - root_mean_squared_error: 1.9566"
     ]
    },
    {
     "name": "stderr",
     "output_type": "stream",
     "text": [
      "WARNING:absl:Found untraced functions such as lstm_cell_layer_call_fn, lstm_cell_layer_call_and_return_conditional_losses while saving (showing 2 of 2). These functions will not be directly callable after loading.\n"
     ]
    },
    {
     "name": "stdout",
     "output_type": "stream",
     "text": [
      "INFO:tensorflow:Assets written to: model1\\assets\n"
     ]
    },
    {
     "name": "stderr",
     "output_type": "stream",
     "text": [
      "INFO:tensorflow:Assets written to: model1\\assets\n"
     ]
    },
    {
     "name": "stdout",
     "output_type": "stream",
     "text": [
      "46/46 [==============================] - 11s 246ms/step - loss: 3.7872 - root_mean_squared_error: 1.9461 - val_loss: 4.3029 - val_root_mean_squared_error: 2.0744\n",
      "Epoch 29/50\n",
      "46/46 [==============================] - 0s 7ms/step - loss: 3.8328 - root_mean_squared_error: 1.9577 - val_loss: 4.5251 - val_root_mean_squared_error: 2.1272\n",
      "Epoch 30/50\n",
      "36/46 [======================>.......] - ETA: 0s - loss: 3.7961 - root_mean_squared_error: 1.9484"
     ]
    },
    {
     "name": "stderr",
     "output_type": "stream",
     "text": [
      "WARNING:absl:Found untraced functions such as lstm_cell_layer_call_fn, lstm_cell_layer_call_and_return_conditional_losses while saving (showing 2 of 2). These functions will not be directly callable after loading.\n"
     ]
    },
    {
     "name": "stdout",
     "output_type": "stream",
     "text": [
      "INFO:tensorflow:Assets written to: model1\\assets\n"
     ]
    },
    {
     "name": "stderr",
     "output_type": "stream",
     "text": [
      "INFO:tensorflow:Assets written to: model1\\assets\n"
     ]
    },
    {
     "name": "stdout",
     "output_type": "stream",
     "text": [
      "46/46 [==============================] - 29s 644ms/step - loss: 3.8157 - root_mean_squared_error: 1.9534 - val_loss: 4.3019 - val_root_mean_squared_error: 2.0741\n",
      "Epoch 31/50\n",
      "35/46 [=====================>........] - ETA: 0s - loss: 3.6958 - root_mean_squared_error: 1.9224"
     ]
    },
    {
     "name": "stderr",
     "output_type": "stream",
     "text": [
      "WARNING:absl:Found untraced functions such as lstm_cell_layer_call_fn, lstm_cell_layer_call_and_return_conditional_losses while saving (showing 2 of 2). These functions will not be directly callable after loading.\n"
     ]
    },
    {
     "name": "stdout",
     "output_type": "stream",
     "text": [
      "INFO:tensorflow:Assets written to: model1\\assets\n"
     ]
    },
    {
     "name": "stderr",
     "output_type": "stream",
     "text": [
      "INFO:tensorflow:Assets written to: model1\\assets\n"
     ]
    },
    {
     "name": "stdout",
     "output_type": "stream",
     "text": [
      "46/46 [==============================] - 13s 282ms/step - loss: 3.7165 - root_mean_squared_error: 1.9278 - val_loss: 4.2855 - val_root_mean_squared_error: 2.0701\n",
      "Epoch 32/50\n",
      "44/46 [===========================>..] - ETA: 0s - loss: 3.7002 - root_mean_squared_error: 1.9236"
     ]
    },
    {
     "name": "stderr",
     "output_type": "stream",
     "text": [
      "WARNING:absl:Found untraced functions such as lstm_cell_layer_call_fn, lstm_cell_layer_call_and_return_conditional_losses while saving (showing 2 of 2). These functions will not be directly callable after loading.\n"
     ]
    },
    {
     "name": "stdout",
     "output_type": "stream",
     "text": [
      "INFO:tensorflow:Assets written to: model1\\assets\n"
     ]
    },
    {
     "name": "stderr",
     "output_type": "stream",
     "text": [
      "INFO:tensorflow:Assets written to: model1\\assets\n"
     ]
    },
    {
     "name": "stdout",
     "output_type": "stream",
     "text": [
      "46/46 [==============================] - 12s 276ms/step - loss: 3.7428 - root_mean_squared_error: 1.9346 - val_loss: 4.2622 - val_root_mean_squared_error: 2.0645\n",
      "Epoch 33/50\n",
      "41/46 [=========================>....] - ETA: 0s - loss: 3.6958 - root_mean_squared_error: 1.9224"
     ]
    },
    {
     "name": "stderr",
     "output_type": "stream",
     "text": [
      "WARNING:absl:Found untraced functions such as lstm_cell_layer_call_fn, lstm_cell_layer_call_and_return_conditional_losses while saving (showing 2 of 2). These functions will not be directly callable after loading.\n"
     ]
    },
    {
     "name": "stdout",
     "output_type": "stream",
     "text": [
      "INFO:tensorflow:Assets written to: model1\\assets\n"
     ]
    },
    {
     "name": "stderr",
     "output_type": "stream",
     "text": [
      "INFO:tensorflow:Assets written to: model1\\assets\n"
     ]
    },
    {
     "name": "stdout",
     "output_type": "stream",
     "text": [
      "46/46 [==============================] - 13s 285ms/step - loss: 3.6441 - root_mean_squared_error: 1.9090 - val_loss: 4.2358 - val_root_mean_squared_error: 2.0581\n",
      "Epoch 34/50\n",
      "46/46 [==============================] - 0s 7ms/step - loss: 3.7627 - root_mean_squared_error: 1.9398 - val_loss: 4.2811 - val_root_mean_squared_error: 2.0691\n",
      "Epoch 35/50\n",
      "46/46 [==============================] - 0s 7ms/step - loss: 3.8079 - root_mean_squared_error: 1.9514 - val_loss: 4.2487 - val_root_mean_squared_error: 2.0612\n",
      "Epoch 36/50\n",
      "43/46 [===========================>..] - ETA: 0s - loss: 3.7457 - root_mean_squared_error: 1.9354"
     ]
    },
    {
     "name": "stderr",
     "output_type": "stream",
     "text": [
      "WARNING:absl:Found untraced functions such as lstm_cell_layer_call_fn, lstm_cell_layer_call_and_return_conditional_losses while saving (showing 2 of 2). These functions will not be directly callable after loading.\n"
     ]
    },
    {
     "name": "stdout",
     "output_type": "stream",
     "text": [
      "INFO:tensorflow:Assets written to: model1\\assets\n"
     ]
    },
    {
     "name": "stderr",
     "output_type": "stream",
     "text": [
      "INFO:tensorflow:Assets written to: model1\\assets\n"
     ]
    },
    {
     "name": "stdout",
     "output_type": "stream",
     "text": [
      "46/46 [==============================] - 12s 272ms/step - loss: 3.7260 - root_mean_squared_error: 1.9303 - val_loss: 4.1665 - val_root_mean_squared_error: 2.0412\n",
      "Epoch 37/50\n",
      "46/46 [==============================] - 0s 6ms/step - loss: 3.6407 - root_mean_squared_error: 1.9081 - val_loss: 4.2100 - val_root_mean_squared_error: 2.0518\n",
      "Epoch 38/50\n",
      "46/46 [==============================] - ETA: 0s - loss: 3.7620 - root_mean_squared_error: 1.9396"
     ]
    },
    {
     "name": "stderr",
     "output_type": "stream",
     "text": [
      "WARNING:absl:Found untraced functions such as lstm_cell_layer_call_fn, lstm_cell_layer_call_and_return_conditional_losses while saving (showing 2 of 2). These functions will not be directly callable after loading.\n"
     ]
    },
    {
     "name": "stdout",
     "output_type": "stream",
     "text": [
      "INFO:tensorflow:Assets written to: model1\\assets\n"
     ]
    },
    {
     "name": "stderr",
     "output_type": "stream",
     "text": [
      "INFO:tensorflow:Assets written to: model1\\assets\n"
     ]
    },
    {
     "name": "stdout",
     "output_type": "stream",
     "text": [
      "46/46 [==============================] - 15s 331ms/step - loss: 3.7620 - root_mean_squared_error: 1.9396 - val_loss: 4.1516 - val_root_mean_squared_error: 2.0376\n",
      "Epoch 39/50\n",
      "46/46 [==============================] - 1s 16ms/step - loss: 3.7200 - root_mean_squared_error: 1.9287 - val_loss: 4.1571 - val_root_mean_squared_error: 2.0389\n",
      "Epoch 40/50\n",
      "39/46 [========================>.....] - ETA: 0s - loss: 3.6188 - root_mean_squared_error: 1.9023"
     ]
    },
    {
     "name": "stderr",
     "output_type": "stream",
     "text": [
      "WARNING:absl:Found untraced functions such as lstm_cell_layer_call_fn, lstm_cell_layer_call_and_return_conditional_losses while saving (showing 2 of 2). These functions will not be directly callable after loading.\n"
     ]
    },
    {
     "name": "stdout",
     "output_type": "stream",
     "text": [
      "INFO:tensorflow:Assets written to: model1\\assets\n"
     ]
    },
    {
     "name": "stderr",
     "output_type": "stream",
     "text": [
      "INFO:tensorflow:Assets written to: model1\\assets\n"
     ]
    },
    {
     "name": "stdout",
     "output_type": "stream",
     "text": [
      "46/46 [==============================] - 16s 344ms/step - loss: 3.7270 - root_mean_squared_error: 1.9305 - val_loss: 4.1273 - val_root_mean_squared_error: 2.0316\n",
      "Epoch 41/50\n",
      "45/46 [============================>.] - ETA: 0s - loss: 3.6050 - root_mean_squared_error: 1.8987"
     ]
    },
    {
     "name": "stderr",
     "output_type": "stream",
     "text": [
      "WARNING:absl:Found untraced functions such as lstm_cell_layer_call_fn, lstm_cell_layer_call_and_return_conditional_losses while saving (showing 2 of 2). These functions will not be directly callable after loading.\n"
     ]
    },
    {
     "name": "stdout",
     "output_type": "stream",
     "text": [
      "INFO:tensorflow:Assets written to: model1\\assets\n"
     ]
    },
    {
     "name": "stderr",
     "output_type": "stream",
     "text": [
      "INFO:tensorflow:Assets written to: model1\\assets\n"
     ]
    },
    {
     "name": "stdout",
     "output_type": "stream",
     "text": [
      "46/46 [==============================] - 17s 380ms/step - loss: 3.6149 - root_mean_squared_error: 1.9013 - val_loss: 4.1047 - val_root_mean_squared_error: 2.0260\n",
      "Epoch 42/50\n",
      "46/46 [==============================] - 1s 12ms/step - loss: 3.6491 - root_mean_squared_error: 1.9103 - val_loss: 4.1454 - val_root_mean_squared_error: 2.0360\n",
      "Epoch 43/50\n",
      "46/46 [==============================] - 0s 9ms/step - loss: 3.6131 - root_mean_squared_error: 1.9008 - val_loss: 4.1927 - val_root_mean_squared_error: 2.0476\n",
      "Epoch 44/50\n",
      "37/46 [=======================>......] - ETA: 0s - loss: 3.6041 - root_mean_squared_error: 1.8984"
     ]
    },
    {
     "name": "stderr",
     "output_type": "stream",
     "text": [
      "WARNING:absl:Found untraced functions such as lstm_cell_layer_call_fn, lstm_cell_layer_call_and_return_conditional_losses while saving (showing 2 of 2). These functions will not be directly callable after loading.\n"
     ]
    },
    {
     "name": "stdout",
     "output_type": "stream",
     "text": [
      "INFO:tensorflow:Assets written to: model1\\assets\n"
     ]
    },
    {
     "name": "stderr",
     "output_type": "stream",
     "text": [
      "INFO:tensorflow:Assets written to: model1\\assets\n"
     ]
    },
    {
     "name": "stdout",
     "output_type": "stream",
     "text": [
      "46/46 [==============================] - 14s 302ms/step - loss: 3.6242 - root_mean_squared_error: 1.9037 - val_loss: 4.0519 - val_root_mean_squared_error: 2.0129\n",
      "Epoch 45/50\n",
      "41/46 [=========================>....] - ETA: 0s - loss: 3.7682 - root_mean_squared_error: 1.9412"
     ]
    },
    {
     "name": "stderr",
     "output_type": "stream",
     "text": [
      "WARNING:absl:Found untraced functions such as lstm_cell_layer_call_fn, lstm_cell_layer_call_and_return_conditional_losses while saving (showing 2 of 2). These functions will not be directly callable after loading.\n"
     ]
    },
    {
     "name": "stdout",
     "output_type": "stream",
     "text": [
      "INFO:tensorflow:Assets written to: model1\\assets\n"
     ]
    },
    {
     "name": "stderr",
     "output_type": "stream",
     "text": [
      "INFO:tensorflow:Assets written to: model1\\assets\n"
     ]
    },
    {
     "name": "stdout",
     "output_type": "stream",
     "text": [
      "46/46 [==============================] - 15s 332ms/step - loss: 3.7301 - root_mean_squared_error: 1.9313 - val_loss: 4.0438 - val_root_mean_squared_error: 2.0109\n",
      "Epoch 46/50\n",
      "46/46 [==============================] - ETA: 0s - loss: 3.6683 - root_mean_squared_error: 1.9153"
     ]
    },
    {
     "name": "stderr",
     "output_type": "stream",
     "text": [
      "WARNING:absl:Found untraced functions such as lstm_cell_layer_call_fn, lstm_cell_layer_call_and_return_conditional_losses while saving (showing 2 of 2). These functions will not be directly callable after loading.\n"
     ]
    },
    {
     "name": "stdout",
     "output_type": "stream",
     "text": [
      "INFO:tensorflow:Assets written to: model1\\assets\n"
     ]
    },
    {
     "name": "stderr",
     "output_type": "stream",
     "text": [
      "INFO:tensorflow:Assets written to: model1\\assets\n"
     ]
    },
    {
     "name": "stdout",
     "output_type": "stream",
     "text": [
      "46/46 [==============================] - 15s 334ms/step - loss: 3.6683 - root_mean_squared_error: 1.9153 - val_loss: 4.0074 - val_root_mean_squared_error: 2.0018\n",
      "Epoch 47/50\n",
      "38/46 [=======================>......] - ETA: 0s - loss: 3.6778 - root_mean_squared_error: 1.9178"
     ]
    },
    {
     "name": "stderr",
     "output_type": "stream",
     "text": [
      "WARNING:absl:Found untraced functions such as lstm_cell_layer_call_fn, lstm_cell_layer_call_and_return_conditional_losses while saving (showing 2 of 2). These functions will not be directly callable after loading.\n"
     ]
    },
    {
     "name": "stdout",
     "output_type": "stream",
     "text": [
      "INFO:tensorflow:Assets written to: model1\\assets\n"
     ]
    },
    {
     "name": "stderr",
     "output_type": "stream",
     "text": [
      "INFO:tensorflow:Assets written to: model1\\assets\n"
     ]
    },
    {
     "name": "stdout",
     "output_type": "stream",
     "text": [
      "46/46 [==============================] - 15s 327ms/step - loss: 3.6356 - root_mean_squared_error: 1.9067 - val_loss: 3.9953 - val_root_mean_squared_error: 1.9988\n",
      "Epoch 48/50\n",
      "46/46 [==============================] - 0s 10ms/step - loss: 3.6965 - root_mean_squared_error: 1.9226 - val_loss: 4.0121 - val_root_mean_squared_error: 2.0030\n",
      "Epoch 49/50\n",
      "46/46 [==============================] - 0s 9ms/step - loss: 3.6548 - root_mean_squared_error: 1.9117 - val_loss: 4.0029 - val_root_mean_squared_error: 2.0007\n",
      "Epoch 50/50\n",
      "46/46 [==============================] - ETA: 0s - loss: 3.6269 - root_mean_squared_error: 1.9044"
     ]
    },
    {
     "name": "stderr",
     "output_type": "stream",
     "text": [
      "WARNING:absl:Found untraced functions such as lstm_cell_layer_call_fn, lstm_cell_layer_call_and_return_conditional_losses while saving (showing 2 of 2). These functions will not be directly callable after loading.\n"
     ]
    },
    {
     "name": "stdout",
     "output_type": "stream",
     "text": [
      "INFO:tensorflow:Assets written to: model1\\assets\n"
     ]
    },
    {
     "name": "stderr",
     "output_type": "stream",
     "text": [
      "INFO:tensorflow:Assets written to: model1\\assets\n"
     ]
    },
    {
     "name": "stdout",
     "output_type": "stream",
     "text": [
      "46/46 [==============================] - 19s 416ms/step - loss: 3.6269 - root_mean_squared_error: 1.9044 - val_loss: 3.9538 - val_root_mean_squared_error: 1.9884\n"
     ]
    },
    {
     "data": {
      "text/plain": [
       "<keras.callbacks.History at 0x21cff683ca0>"
      ]
     },
     "execution_count": 19,
     "metadata": {},
     "output_type": "execute_result"
    }
   ],
   "source": [
    "model1.fit(X_train, y_train, validation_data=(X_val, y_val), epochs=50, callbacks=[cp1, tb1])"
   ]
  },
  {
   "cell_type": "code",
   "execution_count": 20,
   "metadata": {},
   "outputs": [],
   "source": [
    "def post_process(y):\n",
    "    return (X_train_sd*y)+X_train_mean"
   ]
  },
  {
   "cell_type": "code",
   "execution_count": 21,
   "metadata": {},
   "outputs": [],
   "source": [
    "from tensorflow.keras.models import load_model\n",
    "model1 = load_model('model1/')"
   ]
  },
  {
   "cell_type": "code",
   "execution_count": 22,
   "metadata": {},
   "outputs": [
    {
     "name": "stdout",
     "output_type": "stream",
     "text": [
      "10/10 [==============================] - 1s 3ms/step\n",
      "10/10 [==============================] - 0s 4ms/step\n",
      "46/46 [==============================] - 0s 7ms/step\n"
     ]
    }
   ],
   "source": [
    "predicted_test_df = pd.DataFrame({'Predicted Temperature':post_process(model1.predict(X_test_std).flatten()), 'Actual Temperature': y_test})\n",
    "predicted_val_df = pd.DataFrame({'Predicted Temperature':post_process(model1.predict(X_val_std).flatten()), 'Actual Temperature': y_val})\n",
    "predicted_train_df = pd.DataFrame({'Predicted Temperature':post_process(model1.predict(X_train_std).flatten()), 'Actual Temperature': y_train})"
   ]
  },
  {
   "cell_type": "code",
   "execution_count": 23,
   "metadata": {},
   "outputs": [],
   "source": [
    "from sklearn.metrics import mean_squared_error"
   ]
  },
  {
   "cell_type": "code",
   "execution_count": 24,
   "metadata": {},
   "outputs": [
    {
     "data": {
      "text/plain": [
       "<AxesSubplot:title={'center':'RMSE: 2.6543938186985576'}>"
      ]
     },
     "execution_count": 24,
     "metadata": {},
     "output_type": "execute_result"
    },
    {
     "data": {
      "image/png": "[encoded data removed]",
      "text/plain": [
       "<Figure size 432x288 with 1 Axes>"
      ]
     },
     "metadata": {
      "needs_background": "light"
     },
     "output_type": "display_data"
    }
   ],
   "source": [
    "predicted_train_df.plot(title=f\"RMSE: {mean_squared_error(predicted_train_df['Actual Temperature'], predicted_train_df['Predicted Temperature'], squared=False)}\")"
   ]
  },
  {
   "cell_type": "code",
   "execution_count": 25,
   "metadata": {},
   "outputs": [
    {
     "data": {
      "text/plain": [
       "<AxesSubplot:title={'center':'RMSE:2.045258097214259'}>"
      ]
     },
     "execution_count": 25,
     "metadata": {},
     "output_type": "execute_result"
    },
    {
     "data": {
      "image/png": "[encoded data removed]",
      "text/plain": [
       "<Figure size 432x288 with 1 Axes>"
      ]
     },
     "metadata": {
      "needs_background": "light"
     },
     "output_type": "display_data"
    }
   ],
   "source": [
    "predicted_val_df.plot(title = f\"RMSE:{mean_squared_error(predicted_val_df['Actual Temperature'], predicted_val_df['Predicted Temperature'], squared=False)}\")"
   ]
  },
  {
   "cell_type": "code",
   "execution_count": 26,
   "metadata": {},
   "outputs": [
    {
     "data": {
      "text/plain": [
       "<AxesSubplot:title={'center':'RMSE:2.8252405213623435'}>"
      ]
     },
     "execution_count": 26,
     "metadata": {},
     "output_type": "execute_result"
    },
    {
     "data": {
      "image/png": "[encoded data removed]",
      "text/plain": [
       "<Figure size 432x288 with 1 Axes>"
      ]
     },
     "metadata": {
      "needs_background": "light"
     },
     "output_type": "display_data"
    }
   ],
   "source": [
    "predicted_test_df.plot(title = f\"RMSE:{mean_squared_error(predicted_test_df['Actual Temperature'], predicted_test_df['Predicted Temperature'], squared=False)}\")\n"
   ]
  },
  {
   "cell_type": "code",
   "execution_count": 27,
   "metadata": {},
   "outputs": [
    {
     "data": {
      "text/plain": [
       "(1462,)"
      ]
     },
     "execution_count": 27,
     "metadata": {},
     "output_type": "execute_result"
    }
   ],
   "source": [
    "y_train.shape"
   ]
  },
  {
   "attachments": {},
   "cell_type": "markdown",
   "metadata": {},
   "source": [
    "Model performance improved using last 3 values only compared to last 5, 10 days value"
   ]
  },
  {
   "cell_type": "markdown",
   "metadata": {},
   "source": []
  }
 ],
 "metadata": {
  "kernelspec": {
   "display_name": "base",
   "language": "python",
   "name": "python3"
  },
  "language_info": {
   "codemirror_mode": {
    "name": "ipython",
    "version": 3
   },
   "file_extension": ".py",
   "mimetype": "text/x-python",
   "name": "python",
   "nbconvert_exporter": "python",
   "pygments_lexer": "ipython3",
   "version": "3.9.12"
  },
  "orig_nbformat": 4,
  "vscode": {
   "interpreter": {
    "hash": "b9baaabb7af3f92ae09d746be89d264ca11beda4dade21bcf0e4e74ca662ee82"
   }
  }
 },
 "nbformat": 4,
 "nbformat_minor": 2
}
