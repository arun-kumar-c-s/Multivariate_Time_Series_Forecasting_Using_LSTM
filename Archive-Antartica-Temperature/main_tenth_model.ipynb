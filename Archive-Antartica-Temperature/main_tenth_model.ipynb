{
 "cells": [
  {
   "attachments": {},
   "cell_type": "markdown",
   "metadata": {},
   "source": [
    "Giving 28 days of data"
   ]
  },
  {
   "attachments": {},
   "cell_type": "markdown",
   "metadata": {},
   "source": [
    "# Data\n",
    "\n",
    "The data is downloaded from NATIONAL CENTRE FOR POLAR AND OCEAN RESEARCH, India: http://data.ncaor.gov.in/newhtml"
   ]
  },
  {
   "attachments": {},
   "cell_type": "markdown",
   "metadata": {},
   "source": [
    "# Dataset Info"
   ]
  },
  {
   "cell_type": "code",
   "execution_count": 1,
   "metadata": {},
   "outputs": [
    {
     "name": "stdout",
     "output_type": "stream",
     "text": [
      "\n",
      " ----------------------Synoptic Data-------------------------------------------------------------------\n",
      " \n",
      " Measurements/ data\t: Synoptic\n",
      " Parameters\t\t: Observation Time,  wind direction, wind speed, temparature, MSLP\n",
      " Duration\t\t: 05-05-2016 to\t02-08-2021\n",
      " Location\t\t: Bharati\n",
      " Latitude and Longitude\t: 69Â°24.41'S, 76Â°11.72'E\n",
      " Data file format\t: ASCII\n",
      " \n",
      " ------------------------------------------------------------------------------------------------------\n",
      " \n",
      " \n",
      " \n",
      "\n"
     ]
    }
   ],
   "source": [
    "with open('b_imdncpor_synoptic.txt') as f:\n",
    "    print(' '.join(f.readlines()))"
   ]
  },
  {
   "cell_type": "code",
   "execution_count": 2,
   "metadata": {},
   "outputs": [],
   "source": [
    "import seaborn as sns\n",
    "from matplotlib import pyplot as plt\n",
    "import pandas as pd\n",
    "import numpy as np"
   ]
  },
  {
   "cell_type": "code",
   "execution_count": 3,
   "metadata": {},
   "outputs": [
    {
     "data": {
      "text/html": [
       "<div>\n",
       "<style scoped>\n",
       "    .dataframe tbody tr th:only-of-type {\n",
       "        vertical-align: middle;\n",
       "    }\n",
       "\n",
       "    .dataframe tbody tr th {\n",
       "        vertical-align: top;\n",
       "    }\n",
       "\n",
       "    .dataframe thead th {\n",
       "        text-align: right;\n",
       "    }\n",
       "</style>\n",
       "<table border=\"1\" class=\"dataframe\">\n",
       "  <thead>\n",
       "    <tr style=\"text-align: right;\">\n",
       "      <th></th>\n",
       "      <th>Time</th>\n",
       "      <th>WindDirection</th>\n",
       "      <th>WindSpeed</th>\n",
       "      <th>Temperature</th>\n",
       "      <th>Pressure</th>\n",
       "    </tr>\n",
       "  </thead>\n",
       "  <tbody>\n",
       "    <tr>\n",
       "      <th>0</th>\n",
       "      <td>2016-05-01 00:00:00</td>\n",
       "      <td>5</td>\n",
       "      <td>8.0</td>\n",
       "      <td>-21.5</td>\n",
       "      <td>981.1</td>\n",
       "    </tr>\n",
       "    <tr>\n",
       "      <th>1</th>\n",
       "      <td>2016-05-22 00:00:00</td>\n",
       "      <td>0</td>\n",
       "      <td>0.0</td>\n",
       "      <td>-19.4</td>\n",
       "      <td>986.1</td>\n",
       "    </tr>\n",
       "    <tr>\n",
       "      <th>2</th>\n",
       "      <td>2016-05-22 06:00:00</td>\n",
       "      <td>9</td>\n",
       "      <td>10.0</td>\n",
       "      <td>-16.6</td>\n",
       "      <td>980.4</td>\n",
       "    </tr>\n",
       "    <tr>\n",
       "      <th>3</th>\n",
       "      <td>2016-05-22 12:00:00</td>\n",
       "      <td>9</td>\n",
       "      <td>9.0</td>\n",
       "      <td>-17.4</td>\n",
       "      <td>973.4</td>\n",
       "    </tr>\n",
       "    <tr>\n",
       "      <th>4</th>\n",
       "      <td>2016-05-22 18:00:00</td>\n",
       "      <td>5</td>\n",
       "      <td>13.0</td>\n",
       "      <td>-17.4</td>\n",
       "      <td>970.7</td>\n",
       "    </tr>\n",
       "  </tbody>\n",
       "</table>\n",
       "</div>"
      ],
      "text/plain": [
       "                 Time  WindDirection  WindSpeed  Temperature  Pressure\n",
       "0 2016-05-01 00:00:00              5        8.0        -21.5     981.1\n",
       "1 2016-05-22 00:00:00              0        0.0        -19.4     986.1\n",
       "2 2016-05-22 06:00:00              9       10.0        -16.6     980.4\n",
       "3 2016-05-22 12:00:00              9        9.0        -17.4     973.4\n",
       "4 2016-05-22 18:00:00              5       13.0        -17.4     970.7"
      ]
     },
     "execution_count": 3,
     "metadata": {},
     "output_type": "execute_result"
    }
   ],
   "source": [
    "df = pd.read_csv('synoptic_bharati.csv')\n",
    "df.Time = pd.to_datetime(df.Time)\n",
    "df.head()"
   ]
  },
  {
   "cell_type": "code",
   "execution_count": 4,
   "metadata": {},
   "outputs": [
    {
     "data": {
      "text/plain": [
       "Time               0\n",
       "WindDirection      0\n",
       "WindSpeed        107\n",
       "Temperature       16\n",
       "Pressure         362\n",
       "dtype: int64"
      ]
     },
     "execution_count": 4,
     "metadata": {},
     "output_type": "execute_result"
    }
   ],
   "source": [
    "df.isna().sum()"
   ]
  },
  {
   "cell_type": "code",
   "execution_count": 5,
   "metadata": {},
   "outputs": [
    {
     "data": {
      "text/html": [
       "<div>\n",
       "<style scoped>\n",
       "    .dataframe tbody tr th:only-of-type {\n",
       "        vertical-align: middle;\n",
       "    }\n",
       "\n",
       "    .dataframe tbody tr th {\n",
       "        vertical-align: top;\n",
       "    }\n",
       "\n",
       "    .dataframe thead th {\n",
       "        text-align: right;\n",
       "    }\n",
       "</style>\n",
       "<table border=\"1\" class=\"dataframe\">\n",
       "  <thead>\n",
       "    <tr style=\"text-align: right;\">\n",
       "      <th></th>\n",
       "      <th>Time</th>\n",
       "    </tr>\n",
       "  </thead>\n",
       "  <tbody>\n",
       "    <tr>\n",
       "      <th>0</th>\n",
       "      <td>2016-05-01 00:00:00</td>\n",
       "    </tr>\n",
       "    <tr>\n",
       "      <th>1</th>\n",
       "      <td>2016-05-01 06:00:00</td>\n",
       "    </tr>\n",
       "    <tr>\n",
       "      <th>2</th>\n",
       "      <td>2016-05-01 12:00:00</td>\n",
       "    </tr>\n",
       "    <tr>\n",
       "      <th>3</th>\n",
       "      <td>2016-05-01 18:00:00</td>\n",
       "    </tr>\n",
       "    <tr>\n",
       "      <th>4</th>\n",
       "      <td>2016-05-02 00:00:00</td>\n",
       "    </tr>\n",
       "  </tbody>\n",
       "</table>\n",
       "</div>"
      ],
      "text/plain": [
       "                 Time\n",
       "0 2016-05-01 00:00:00\n",
       "1 2016-05-01 06:00:00\n",
       "2 2016-05-01 12:00:00\n",
       "3 2016-05-01 18:00:00\n",
       "4 2016-05-02 00:00:00"
      ]
     },
     "execution_count": 5,
     "metadata": {},
     "output_type": "execute_result"
    }
   ],
   "source": [
    "min_time = df.Time.min()\n",
    "max_time = df.Time.max()\n",
    "weather_data = pd.DataFrame(pd.date_range(min_time,max_time, freq='6H'), columns=['Time'])\n",
    "weather_data.head()"
   ]
  },
  {
   "attachments": {},
   "cell_type": "markdown",
   "metadata": {},
   "source": [
    "https://pandas.pydata.org/pandas-docs/stable/user_guide/timeseries.html#offset-aliases\n",
    "\n",
    "https://pandas.pydata.org/docs/reference/api/pandas.DataFrame.asfreq.html"
   ]
  },
  {
   "cell_type": "code",
   "execution_count": 6,
   "metadata": {},
   "outputs": [
    {
     "data": {
      "text/plain": [
       "Time                0\n",
       "WindDirection    1906\n",
       "WindSpeed        2013\n",
       "Temperature      1922\n",
       "Pressure         2268\n",
       "dtype: int64"
      ]
     },
     "execution_count": 6,
     "metadata": {},
     "output_type": "execute_result"
    }
   ],
   "source": [
    "weather_data = pd.merge(weather_data, df, on='Time', how='left')\n",
    "weather_data.isna().sum()"
   ]
  },
  {
   "cell_type": "code",
   "execution_count": 7,
   "metadata": {},
   "outputs": [
    {
     "data": {
      "image/png": "[encoded data removed]",
      "text/plain": [
       "<Figure size 1440x360 with 2 Axes>"
      ]
     },
     "metadata": {
      "needs_background": "light"
     },
     "output_type": "display_data"
    }
   ],
   "source": [
    "plt.figure(figsize=(20,5))\n",
    "plt.title('Missing Data for 6 hour window measurements')\n",
    "sns.heatmap(weather_data.isna().T)\n",
    "plt.show()"
   ]
  },
  {
   "attachments": {},
   "cell_type": "markdown",
   "metadata": {},
   "source": [
    "We can observe that there is a significant period of time where there are missing values, especially around loc 1914, 6177, 7047 etc.."
   ]
  },
  {
   "attachments": {},
   "cell_type": "markdown",
   "metadata": {},
   "source": [
    "One idea is to impute data from nearby stations after analysis, but unfortunately there were no data available from the website. I emailed them hoping to get another dataset in from same location."
   ]
  },
  {
   "attachments": {},
   "cell_type": "markdown",
   "metadata": {},
   "source": [
    "In the mean time, we can trim out the begining and last portions where log of missing values are there. \n",
    "So we take data from only 2715:6000"
   ]
  },
  {
   "cell_type": "code",
   "execution_count": 8,
   "metadata": {},
   "outputs": [
    {
     "data": {
      "text/plain": [
       "Time               0\n",
       "WindDirection    582\n",
       "WindSpeed        635\n",
       "Temperature      582\n",
       "Pressure         794\n",
       "dtype: int64"
      ]
     },
     "execution_count": 8,
     "metadata": {},
     "output_type": "execute_result"
    }
   ],
   "source": [
    "weather_data = weather_data.loc[2715:6000] # Through manual inspection and checking\n",
    "weather_data.isna().sum()"
   ]
  },
  {
   "cell_type": "code",
   "execution_count": 9,
   "metadata": {},
   "outputs": [
    {
     "data": {
      "image/png": "[encoded data removed]",
      "text/plain": [
       "<Figure size 1440x360 with 2 Axes>"
      ]
     },
     "metadata": {
      "needs_background": "light"
     },
     "output_type": "display_data"
    }
   ],
   "source": [
    "plt.figure(figsize=(20,5))\n",
    "plt.title('Missing Data for 6 hour window measurements (trimmed data)')\n",
    "sns.heatmap(weather_data.isna().T)\n",
    "plt.show()"
   ]
  },
  {
   "cell_type": "code",
   "execution_count": 10,
   "metadata": {},
   "outputs": [
    {
     "data": {
      "text/plain": [
       "(Timestamp('2020-06-09 00:00:00'),\n",
       " Timestamp('2018-03-10 18:00:00'),\n",
       " Timedelta('821 days 06:00:00'))"
      ]
     },
     "execution_count": 10,
     "metadata": {},
     "output_type": "execute_result"
    }
   ],
   "source": [
    "weather_data.index = weather_data.Time\n",
    "weather_data.drop(['Time'], axis=1, inplace=True)\n",
    "weather_data.index.max(), weather_data.index.min(), weather_data.index.max() - weather_data.index.min()"
   ]
  },
  {
   "attachments": {},
   "cell_type": "markdown",
   "metadata": {},
   "source": [
    "We won't impute this data now. We ignore the continuity when we are treating it as a machine learning problem. Once we create the train and test pairs, we will drop the pairs which have nan values in the X, y pairs."
   ]
  },
  {
   "attachments": {},
   "cell_type": "markdown",
   "metadata": {},
   "source": [
    "We can also try to use a random based splitting cv model to predict the in between points and impute the missing data, and a time based splitting cv model on the imputed data to predict for future days."
   ]
  },
  {
   "cell_type": "code",
   "execution_count": 11,
   "metadata": {},
   "outputs": [
    {
     "data": {
      "text/html": [
       "<div>\n",
       "<style scoped>\n",
       "    .dataframe tbody tr th:only-of-type {\n",
       "        vertical-align: middle;\n",
       "    }\n",
       "\n",
       "    .dataframe tbody tr th {\n",
       "        vertical-align: top;\n",
       "    }\n",
       "\n",
       "    .dataframe thead th {\n",
       "        text-align: right;\n",
       "    }\n",
       "</style>\n",
       "<table border=\"1\" class=\"dataframe\">\n",
       "  <thead>\n",
       "    <tr style=\"text-align: right;\">\n",
       "      <th></th>\n",
       "      <th>WindDirection</th>\n",
       "      <th>WindSpeed</th>\n",
       "      <th>Temperature</th>\n",
       "      <th>Pressure</th>\n",
       "    </tr>\n",
       "    <tr>\n",
       "      <th>Time</th>\n",
       "      <th></th>\n",
       "      <th></th>\n",
       "      <th></th>\n",
       "      <th></th>\n",
       "    </tr>\n",
       "  </thead>\n",
       "  <tbody>\n",
       "    <tr>\n",
       "      <th>2018-03-10 18:00:00</th>\n",
       "      <td>9.0</td>\n",
       "      <td>19.0</td>\n",
       "      <td>-14.6</td>\n",
       "      <td>992.2</td>\n",
       "    </tr>\n",
       "    <tr>\n",
       "      <th>2018-03-11 00:00:00</th>\n",
       "      <td>11.0</td>\n",
       "      <td>16.0</td>\n",
       "      <td>-17.2</td>\n",
       "      <td>992.2</td>\n",
       "    </tr>\n",
       "    <tr>\n",
       "      <th>2018-03-11 06:00:00</th>\n",
       "      <td>9.0</td>\n",
       "      <td>9.0</td>\n",
       "      <td>-14.0</td>\n",
       "      <td>989.2</td>\n",
       "    </tr>\n",
       "    <tr>\n",
       "      <th>2018-03-11 12:00:00</th>\n",
       "      <td>9.0</td>\n",
       "      <td>14.0</td>\n",
       "      <td>-15.5</td>\n",
       "      <td>986.2</td>\n",
       "    </tr>\n",
       "    <tr>\n",
       "      <th>2018-03-11 18:00:00</th>\n",
       "      <td>7.0</td>\n",
       "      <td>18.0</td>\n",
       "      <td>-16.8</td>\n",
       "      <td>984.4</td>\n",
       "    </tr>\n",
       "    <tr>\n",
       "      <th>...</th>\n",
       "      <td>...</td>\n",
       "      <td>...</td>\n",
       "      <td>...</td>\n",
       "      <td>...</td>\n",
       "    </tr>\n",
       "    <tr>\n",
       "      <th>2020-06-08 00:00:00</th>\n",
       "      <td>5.0</td>\n",
       "      <td>5.0</td>\n",
       "      <td>-9.6</td>\n",
       "      <td>981.7</td>\n",
       "    </tr>\n",
       "    <tr>\n",
       "      <th>2020-06-08 06:00:00</th>\n",
       "      <td>5.0</td>\n",
       "      <td>8.0</td>\n",
       "      <td>-10.0</td>\n",
       "      <td>980.5</td>\n",
       "    </tr>\n",
       "    <tr>\n",
       "      <th>2020-06-08 12:00:00</th>\n",
       "      <td>11.0</td>\n",
       "      <td>4.0</td>\n",
       "      <td>-11.5</td>\n",
       "      <td>977.7</td>\n",
       "    </tr>\n",
       "    <tr>\n",
       "      <th>2020-06-08 18:00:00</th>\n",
       "      <td>5.0</td>\n",
       "      <td>8.0</td>\n",
       "      <td>-7.9</td>\n",
       "      <td>974.1</td>\n",
       "    </tr>\n",
       "    <tr>\n",
       "      <th>2020-06-09 00:00:00</th>\n",
       "      <td>5.0</td>\n",
       "      <td>23.0</td>\n",
       "      <td>-6.4</td>\n",
       "      <td>971.7</td>\n",
       "    </tr>\n",
       "  </tbody>\n",
       "</table>\n",
       "<p>3286 rows × 4 columns</p>\n",
       "</div>"
      ],
      "text/plain": [
       "                     WindDirection  WindSpeed  Temperature  Pressure\n",
       "Time                                                                \n",
       "2018-03-10 18:00:00            9.0       19.0        -14.6     992.2\n",
       "2018-03-11 00:00:00           11.0       16.0        -17.2     992.2\n",
       "2018-03-11 06:00:00            9.0        9.0        -14.0     989.2\n",
       "2018-03-11 12:00:00            9.0       14.0        -15.5     986.2\n",
       "2018-03-11 18:00:00            7.0       18.0        -16.8     984.4\n",
       "...                            ...        ...          ...       ...\n",
       "2020-06-08 00:00:00            5.0        5.0         -9.6     981.7\n",
       "2020-06-08 06:00:00            5.0        8.0        -10.0     980.5\n",
       "2020-06-08 12:00:00           11.0        4.0        -11.5     977.7\n",
       "2020-06-08 18:00:00            5.0        8.0         -7.9     974.1\n",
       "2020-06-09 00:00:00            5.0       23.0         -6.4     971.7\n",
       "\n",
       "[3286 rows x 4 columns]"
      ]
     },
     "execution_count": 11,
     "metadata": {},
     "output_type": "execute_result"
    }
   ],
   "source": [
    "weather_data"
   ]
  },
  {
   "attachments": {},
   "cell_type": "markdown",
   "metadata": {},
   "source": [
    "Using Temperature data to forecast future temperature."
   ]
  },
  {
   "cell_type": "code",
   "execution_count": 12,
   "metadata": {},
   "outputs": [
    {
     "data": {
      "text/html": [
       "<div>\n",
       "<style scoped>\n",
       "    .dataframe tbody tr th:only-of-type {\n",
       "        vertical-align: middle;\n",
       "    }\n",
       "\n",
       "    .dataframe tbody tr th {\n",
       "        vertical-align: top;\n",
       "    }\n",
       "\n",
       "    .dataframe thead th {\n",
       "        text-align: right;\n",
       "    }\n",
       "</style>\n",
       "<table border=\"1\" class=\"dataframe\">\n",
       "  <thead>\n",
       "    <tr style=\"text-align: right;\">\n",
       "      <th></th>\n",
       "      <th>Temperature</th>\n",
       "    </tr>\n",
       "    <tr>\n",
       "      <th>Time</th>\n",
       "      <th></th>\n",
       "    </tr>\n",
       "  </thead>\n",
       "  <tbody>\n",
       "    <tr>\n",
       "      <th>2018-03-10 18:00:00</th>\n",
       "      <td>-14.6</td>\n",
       "    </tr>\n",
       "    <tr>\n",
       "      <th>2018-03-11 00:00:00</th>\n",
       "      <td>-17.2</td>\n",
       "    </tr>\n",
       "    <tr>\n",
       "      <th>2018-03-11 06:00:00</th>\n",
       "      <td>-14.0</td>\n",
       "    </tr>\n",
       "    <tr>\n",
       "      <th>2018-03-11 12:00:00</th>\n",
       "      <td>-15.5</td>\n",
       "    </tr>\n",
       "    <tr>\n",
       "      <th>2018-03-11 18:00:00</th>\n",
       "      <td>-16.8</td>\n",
       "    </tr>\n",
       "  </tbody>\n",
       "</table>\n",
       "</div>"
      ],
      "text/plain": [
       "                     Temperature\n",
       "Time                            \n",
       "2018-03-10 18:00:00        -14.6\n",
       "2018-03-11 00:00:00        -17.2\n",
       "2018-03-11 06:00:00        -14.0\n",
       "2018-03-11 12:00:00        -15.5\n",
       "2018-03-11 18:00:00        -16.8"
      ]
     },
     "execution_count": 12,
     "metadata": {},
     "output_type": "execute_result"
    }
   ],
   "source": [
    "temp_df = weather_data[['Temperature']].copy()\n",
    "temp_df.head()"
   ]
  },
  {
   "cell_type": "code",
   "execution_count": 13,
   "metadata": {},
   "outputs": [
    {
     "data": {
      "text/html": [
       "<div>\n",
       "<style scoped>\n",
       "    .dataframe tbody tr th:only-of-type {\n",
       "        vertical-align: middle;\n",
       "    }\n",
       "\n",
       "    .dataframe tbody tr th {\n",
       "        vertical-align: top;\n",
       "    }\n",
       "\n",
       "    .dataframe thead th {\n",
       "        text-align: right;\n",
       "    }\n",
       "</style>\n",
       "<table border=\"1\" class=\"dataframe\">\n",
       "  <thead>\n",
       "    <tr style=\"text-align: right;\">\n",
       "      <th></th>\n",
       "      <th>Temperature</th>\n",
       "    </tr>\n",
       "  </thead>\n",
       "  <tbody>\n",
       "    <tr>\n",
       "      <th>count</th>\n",
       "      <td>2704.000000</td>\n",
       "    </tr>\n",
       "    <tr>\n",
       "      <th>mean</th>\n",
       "      <td>-9.463277</td>\n",
       "    </tr>\n",
       "    <tr>\n",
       "      <th>std</th>\n",
       "      <td>7.216770</td>\n",
       "    </tr>\n",
       "    <tr>\n",
       "      <th>min</th>\n",
       "      <td>-33.000000</td>\n",
       "    </tr>\n",
       "    <tr>\n",
       "      <th>25%</th>\n",
       "      <td>-14.600000</td>\n",
       "    </tr>\n",
       "    <tr>\n",
       "      <th>50%</th>\n",
       "      <td>-9.300000</td>\n",
       "    </tr>\n",
       "    <tr>\n",
       "      <th>75%</th>\n",
       "      <td>-3.800000</td>\n",
       "    </tr>\n",
       "    <tr>\n",
       "      <th>max</th>\n",
       "      <td>6.000000</td>\n",
       "    </tr>\n",
       "  </tbody>\n",
       "</table>\n",
       "</div>"
      ],
      "text/plain": [
       "       Temperature\n",
       "count  2704.000000\n",
       "mean     -9.463277\n",
       "std       7.216770\n",
       "min     -33.000000\n",
       "25%     -14.600000\n",
       "50%      -9.300000\n",
       "75%      -3.800000\n",
       "max       6.000000"
      ]
     },
     "execution_count": 13,
     "metadata": {},
     "output_type": "execute_result"
    }
   ],
   "source": [
    "temp_df.describe()"
   ]
  },
  {
   "cell_type": "code",
   "execution_count": 14,
   "metadata": {},
   "outputs": [
    {
     "data": {
      "text/plain": [
       "Temperature    582\n",
       "dtype: int64"
      ]
     },
     "execution_count": 14,
     "metadata": {},
     "output_type": "execute_result"
    }
   ],
   "source": [
    "temp_df.isna().sum()"
   ]
  },
  {
   "cell_type": "code",
   "execution_count": 15,
   "metadata": {},
   "outputs": [
    {
     "data": {
      "text/html": [
       "<div>\n",
       "<style scoped>\n",
       "    .dataframe tbody tr th:only-of-type {\n",
       "        vertical-align: middle;\n",
       "    }\n",
       "\n",
       "    .dataframe tbody tr th {\n",
       "        vertical-align: top;\n",
       "    }\n",
       "\n",
       "    .dataframe thead th {\n",
       "        text-align: right;\n",
       "    }\n",
       "</style>\n",
       "<table border=\"1\" class=\"dataframe\">\n",
       "  <thead>\n",
       "    <tr style=\"text-align: right;\">\n",
       "      <th>Time</th>\n",
       "      <th>2018-03-10 18:00:00</th>\n",
       "      <th>2018-03-11 00:00:00</th>\n",
       "      <th>2018-03-11 06:00:00</th>\n",
       "      <th>2018-03-11 12:00:00</th>\n",
       "      <th>2018-03-11 18:00:00</th>\n",
       "      <th>2018-03-12 00:00:00</th>\n",
       "      <th>2018-03-12 06:00:00</th>\n",
       "      <th>2018-03-12 12:00:00</th>\n",
       "      <th>2018-03-12 18:00:00</th>\n",
       "      <th>2018-03-13 00:00:00</th>\n",
       "      <th>...</th>\n",
       "      <th>2020-06-06 18:00:00</th>\n",
       "      <th>2020-06-07 00:00:00</th>\n",
       "      <th>2020-06-07 06:00:00</th>\n",
       "      <th>2020-06-07 12:00:00</th>\n",
       "      <th>2020-06-07 18:00:00</th>\n",
       "      <th>2020-06-08 00:00:00</th>\n",
       "      <th>2020-06-08 06:00:00</th>\n",
       "      <th>2020-06-08 12:00:00</th>\n",
       "      <th>2020-06-08 18:00:00</th>\n",
       "      <th>2020-06-09 00:00:00</th>\n",
       "    </tr>\n",
       "  </thead>\n",
       "  <tbody>\n",
       "    <tr>\n",
       "      <th>Temperature</th>\n",
       "      <td>False</td>\n",
       "      <td>False</td>\n",
       "      <td>False</td>\n",
       "      <td>False</td>\n",
       "      <td>False</td>\n",
       "      <td>False</td>\n",
       "      <td>False</td>\n",
       "      <td>True</td>\n",
       "      <td>False</td>\n",
       "      <td>False</td>\n",
       "      <td>...</td>\n",
       "      <td>False</td>\n",
       "      <td>False</td>\n",
       "      <td>False</td>\n",
       "      <td>False</td>\n",
       "      <td>False</td>\n",
       "      <td>False</td>\n",
       "      <td>False</td>\n",
       "      <td>False</td>\n",
       "      <td>False</td>\n",
       "      <td>False</td>\n",
       "    </tr>\n",
       "    <tr>\n",
       "      <th>Temperature</th>\n",
       "      <td>-14.6</td>\n",
       "      <td>-17.2</td>\n",
       "      <td>-14.0</td>\n",
       "      <td>-15.5</td>\n",
       "      <td>-16.8</td>\n",
       "      <td>-16.5</td>\n",
       "      <td>-15.1</td>\n",
       "      <td>NaN</td>\n",
       "      <td>-17.0</td>\n",
       "      <td>-17.3</td>\n",
       "      <td>...</td>\n",
       "      <td>-8.4</td>\n",
       "      <td>-8.8</td>\n",
       "      <td>-8.9</td>\n",
       "      <td>-8.9</td>\n",
       "      <td>-9.4</td>\n",
       "      <td>-9.6</td>\n",
       "      <td>-10.0</td>\n",
       "      <td>-11.5</td>\n",
       "      <td>-7.9</td>\n",
       "      <td>-6.4</td>\n",
       "    </tr>\n",
       "  </tbody>\n",
       "</table>\n",
       "<p>2 rows × 3286 columns</p>\n",
       "</div>"
      ],
      "text/plain": [
       "Time        2018-03-10 18:00:00 2018-03-11 00:00:00 2018-03-11 06:00:00  \\\n",
       "Temperature               False               False               False   \n",
       "Temperature               -14.6               -17.2               -14.0   \n",
       "\n",
       "Time        2018-03-11 12:00:00 2018-03-11 18:00:00 2018-03-12 00:00:00  \\\n",
       "Temperature               False               False               False   \n",
       "Temperature               -15.5               -16.8               -16.5   \n",
       "\n",
       "Time        2018-03-12 06:00:00 2018-03-12 12:00:00 2018-03-12 18:00:00  \\\n",
       "Temperature               False                True               False   \n",
       "Temperature               -15.1                 NaN               -17.0   \n",
       "\n",
       "Time        2018-03-13 00:00:00  ... 2020-06-06 18:00:00 2020-06-07 00:00:00  \\\n",
       "Temperature               False  ...               False               False   \n",
       "Temperature               -17.3  ...                -8.4                -8.8   \n",
       "\n",
       "Time        2020-06-07 06:00:00 2020-06-07 12:00:00 2020-06-07 18:00:00  \\\n",
       "Temperature               False               False               False   \n",
       "Temperature                -8.9                -8.9                -9.4   \n",
       "\n",
       "Time        2020-06-08 00:00:00 2020-06-08 06:00:00 2020-06-08 12:00:00  \\\n",
       "Temperature               False               False               False   \n",
       "Temperature                -9.6               -10.0               -11.5   \n",
       "\n",
       "Time        2020-06-08 18:00:00 2020-06-09 00:00:00  \n",
       "Temperature               False               False  \n",
       "Temperature                -7.9                -6.4  \n",
       "\n",
       "[2 rows x 3286 columns]"
      ]
     },
     "execution_count": 15,
     "metadata": {},
     "output_type": "execute_result"
    }
   ],
   "source": [
    "pd.concat((temp_df.isna().T,temp_df.T), axis=0)"
   ]
  },
  {
   "cell_type": "code",
   "execution_count": 16,
   "metadata": {},
   "outputs": [
    {
     "data": {
      "text/plain": [
       "[]"
      ]
     },
     "execution_count": 16,
     "metadata": {},
     "output_type": "execute_result"
    },
    {
     "data": {
      "image/png": "[encoded data removed]",
      "text/plain": [
       "<Figure size 1800x144 with 2 Axes>"
      ]
     },
     "metadata": {
      "needs_background": "light"
     },
     "output_type": "display_data"
    }
   ],
   "source": [
    "plt.figure(figsize=(25,2))\n",
    "sns.heatmap(temp_df.isna().T)\n",
    "plt.plot()"
   ]
  },
  {
   "cell_type": "code",
   "execution_count": 17,
   "metadata": {},
   "outputs": [
    {
     "data": {
      "image/png": "[encoded data removed]",
      "text/plain": [
       "<Figure size 1800x288 with 1 Axes>"
      ]
     },
     "metadata": {
      "needs_background": "light"
     },
     "output_type": "display_data"
    }
   ],
   "source": [
    "weather_data.Temperature.plot(figsize=(25,4), title='Temperature Variation with Time')\n",
    "plt.show()"
   ]
  },
  {
   "attachments": {},
   "cell_type": "markdown",
   "metadata": {},
   "source": [
    "We can see highest temperature around january and lowet temperatures around July to October."
   ]
  },
  {
   "cell_type": "code",
   "execution_count": 18,
   "metadata": {},
   "outputs": [],
   "source": [
    "\n",
    "def simple_x_y_splitter(dataframe, col, prev_n_days=5):\n",
    "    df = dataframe.copy()\n",
    "    for lag in range(1, prev_n_days+1):\n",
    "        df[f'lag_{lag}'] = df[col].shift(lag)\n",
    "    df.dropna(inplace=True)\n",
    "    y = df[col].values\n",
    "    X = df.drop([col], axis=1).values\n",
    "    return np.expand_dims(X,2), y"
   ]
  },
  {
   "cell_type": "code",
   "execution_count": 19,
   "metadata": {},
   "outputs": [],
   "source": [
    "X, y = simple_x_y_splitter(temp_df, 'Temperature',28)"
   ]
  },
  {
   "cell_type": "code",
   "execution_count": 20,
   "metadata": {},
   "outputs": [
    {
     "data": {
      "text/plain": [
       "array([ -8.9, -12.4, -12.9, -12.9, -13.8, -14.4, -10.8, -10.4, -12.8,\n",
       "       -12.7, -11.5, -10.7, -14. , -14.2, -11.4,  -9.1,  -9.3,  -6.3,\n",
       "        -3.7,  -8.3,  -6.4,  -6.9,  -6.8,  -8.8, -10.7,  -9.5,  -8.5,\n",
       "        -8.7,  -8. ,  -7.3,  -6.2,  -6.9,  -9.8, -10.5,  -9.1,  -9.5,\n",
       "       -11. , -10.9,  -8.4,  -7.1,  -5.5,  -6.9,  -7.2,  -7. ,  -9.1,\n",
       "        -8. ,  -5. ,  -5.8,  -4.1,  -2.8,  -9.3,  -6.6,  -5.3,  -5.1,\n",
       "        -5. ,  -7.6,  -9.2, -10.6,  -9.3,  -9.5, -10.3, -12.3, -11.3,\n",
       "       -10.5, -10.1, -10.6,  -9.3,  -8.9,  -7.9,  -6.4,  -6.6,  -6.4,\n",
       "        -6.6,  -7.9,  -8.6,  -9.6,  -9.9, -10.6, -10.5, -13.5, -15. ,\n",
       "       -15.8, -13.7, -14.1, -12.4, -12.1, -10.9, -11. ,  -9.6,  -8.8,\n",
       "        -7.1,  -5.3,  -6. ,  -6.1,  -7.1,  -8.2,  -9.3, -10.4, -10.7,\n",
       "        -9.9,  -9.7, -11.2, -11. , -10.1, -10.2, -11. , -10. , -11.4,\n",
       "       -11.5, -12.7, -10.7, -10.8, -10.8, -10.9,  -8.3,  -6.6,  -4.9,\n",
       "        -3.4,  -2.7,  -2.7,  -3.4,  -3.5,  -6.4,  -8.7, -10.9,  -9.3,\n",
       "       -10.1,  -9.9, -10.1, -10.6,  -9.7, -10.1, -10.8, -11.8,  -9.3,\n",
       "        -8.9,  -5.3,  -4.1,  -4.5,  -5.3,  -8.8,  -8.1,  -6.7,  -5.8,\n",
       "        -5. ,  -5.6,  -5.9,  -7. ,  -9.6, -10.4,  -9.8, -11.1, -11. ,\n",
       "       -11.3, -11.3, -12.2, -14.1, -13.7, -14. , -14.7, -11.6, -13. ,\n",
       "       -11.5,  -7.7,  -8.5,  -9.4,  -9.6,  -9.7,  -8. , -12.2, -13.8,\n",
       "       -16.1, -16.3, -14.3, -14.7, -15.7, -17. , -18.4, -17.3, -17.5,\n",
       "        -8. ,  -7.7,  -8.3,  -6.9,  -9.7, -10.2, -10.4,  -8.8,  -7.1,\n",
       "        -7.9,  -8.4,  -9.3, -11.3, -12. , -13.5, -13.1, -22.6, -19.1,\n",
       "       -16.7, -11.5, -12.9,  -7.2,  -5.4,  -6.8,  -9.5,  -9.6, -10.7,\n",
       "       -12.9, -14.9, -14.6, -13.8, -17.2, -17.7, -16.3, -16.8, -17.4,\n",
       "       -18. , -14.1, -18.1, -18.6, -20.2, -15.6, -19.7, -21.1, -19.5,\n",
       "       -17.5, -22.1, -22.5, -21.2, -20.9, -24.6, -24.7, -22.3, -21.5,\n",
       "       -23.7, -25.5, -22. , -20.4, -24.4, -25.7, -21.8, -20.9, -23.8,\n",
       "       -21.7, -19.6, -14.1, -12.7, -11.9, -10.5, -10.9, -10.7, -13.7,\n",
       "       -12. , -11.1, -13.2, -14.8, -13.3, -13.1, -17. , -17.7, -13.9,\n",
       "       -13.6, -16.3, -17.6, -14.9, -14. , -16.5, -17.7, -13.9, -12.5,\n",
       "       -17. , -15.1, -11.4,  -9.5, -10.6, -13. ,  -7.3, -11. , -11.6,\n",
       "        -6.2,  -4.6,  -5.1,  -5.4,  -3.6,  -0.7,  -2.5,  -4.9,  -1.8,\n",
       "        -2.1,  -3.4,   2.5,   2.9,   1.1,   0.1,   1.7,   2.4,   0.2,\n",
       "        -0.6,   1.7,   0.4,  -0.3,   0. ,   0.4,   1.3,   0.9,   2.9,\n",
       "         3.6,   5.7,   2. ,  -0.2,   2.8,   3. ,   1.5,  -0.5,  -2.4,\n",
       "         4.2,  -0.6,   0.5,   4. ,   6. ,   2.9,  -0.1,   2.1,   1.9,\n",
       "        -0.6,  -0.5,   2.5,   2.2,  -0.1,  -1.7,   1.9,   3.4,   2.2,\n",
       "         0.9,   3.5,   3.4,  -0.3,  -1.8,   2. ,   3.5,  -1.2,  -1.9,\n",
       "         1.6,   1. ,  -0.8,  -0.8,   0.8,   0.8,   0. ,  -0.8,   1.2,\n",
       "         2.4,   1.2,  -0.7,   1.8,   1.7,   0.5,  -1. ,  -1.1,  -1.3,\n",
       "        -2.1,  -3.2,  -1.3,  -1.6,  -3.5,  -3.5,  -0.4,   0.8,  -1.2,\n",
       "        -1.5,   0.3,  -4.1,  -6.4,  -2.5,  -2.6,  -6.2,  -8. ,  -5.6,\n",
       "        -4.7,  -4.7,  -7.1,  -3.4,  -2.4,  -1.4,  -1.9,  -0.3,  -1.5,\n",
       "        -1.4,  -7.3, -10.8, -11.8,  -9.6,  -8.4,  -8.1,  -7. ,  -5.7,\n",
       "        -5.8,  -5.3,  -5.4,  -3.9,  -5.3,  -5.6,  -5.9,  -7.1,  -6.4,\n",
       "        -5.7,  -9.8,  -6.8,  -5.7,  -5.6, -10. , -10.9, -11.5, -15.9,\n",
       "       -17.1, -14.1, -22.1, -25.7, -21.4, -23.6, -25.2, -26. , -26.3,\n",
       "       -27.6, -20.9, -21. , -21.2, -20.6, -21.3, -20.5, -20. , -18.3,\n",
       "       -17.1, -16.3, -15.6, -17.1, -17.2, -18.3, -18.7, -19.3, -19.9,\n",
       "       -19.7, -21.4, -16. , -22.7, -20.9, -19.7, -17.7,  -5.8,  -0.9,\n",
       "        -0.2,  -1.7,  -1.5,   0.7,   0.7,  -4.6,  -8.3,  -4.9,  -4.1,\n",
       "        -7.8,  -7.8,  -5.8,  -5.1,  -6.3,  -8.8,  -5.4,  -5.7,  -6.5,\n",
       "         0.2,   0.5,  -1. ,  -0.8,   4.6,   4.2,   2.5,   0.8,   2.7,\n",
       "         2. ,  -0.4,  -2.4,  -1.5,   3.7,   0.7,   0.2,   0.9,   2.1,\n",
       "        -1. ,  -1.9,  -1.9,  -1.7,  -1.8,  -3.3,  -1.6,  -0.7,  -3.4,\n",
       "        -1.7,   0.6,   0.4,  -1.1,   1.2,   3.8,   4.1,   1. ,   1.9,\n",
       "         3.2,   2.7,   2.1,   3. ,   1.2,   0.9,   0.5,   1.4,   0.3,\n",
       "         0.1,  -1.4,  -0.5,   0.8,  -1.2,   0. ,   3.1,  -9.9, -10.3,\n",
       "       -12.3, -11.6, -16. , -20.9, -16.6, -15.1, -14.6, -14.1, -15.2,\n",
       "       -18.4, -17.5, -17.3, -17.5, -19.1, -19.2, -22.5, -20.5, -19.1,\n",
       "       -20. , -18.6, -20.7, -18.8, -16.5,  -7.3,  -5.7,  -7.6, -15.7,\n",
       "       -20. , -21.4, -19. , -17.1, -12.3,  -9.4, -11.4, -11.9, -14.9,\n",
       "       -16.6, -15.3, -15. , -14.8, -15.4, -11.6, -12.1, -16.9, -17.4,\n",
       "       -15.8, -14.9, -14.7, -15.4, -14.5, -15.5, -15.6, -14.3, -10.1,\n",
       "       -11.3,  -8.8,  -6.5,  -5.2,  -8.9,  -9.7,  -9.3,  -8.7,  -8.7,\n",
       "        -9.4, -11.5,  -9.6,  -9.3,  -9.1,  -9.3,  -8.9,  -8.3, -10.6,\n",
       "        -9.5, -10.2, -11.1, -11.9, -12.8, -11.4, -14.2, -17.9, -12.8,\n",
       "       -14.2, -16.4, -16.7, -18.3, -16. , -18.5, -16.5, -13.8, -11.5,\n",
       "       -12.9, -13.3, -13.1, -12.6, -15.1, -14.7, -15.5, -15.5, -16.1,\n",
       "       -16.3, -15.1, -14.2, -15.3, -19.3, -15. , -13.7, -14.7, -16.6,\n",
       "       -17.9, -15. , -15.1, -14.7, -14.2, -11.3, -10.8, -10.4])"
      ]
     },
     "execution_count": 20,
     "metadata": {},
     "output_type": "execute_result"
    }
   ],
   "source": [
    "y"
   ]
  },
  {
   "cell_type": "code",
   "execution_count": 21,
   "metadata": {},
   "outputs": [
    {
     "data": {
      "text/plain": [
       "array([[[ -7.9],\n",
       "        [ -8.4],\n",
       "        [ -8.9],\n",
       "        ...,\n",
       "        [-13.4],\n",
       "        [-17.3],\n",
       "        [-17. ]],\n",
       "\n",
       "       [[ -8.9],\n",
       "        [ -7.9],\n",
       "        [ -8.4],\n",
       "        ...,\n",
       "        [-11.7],\n",
       "        [-13.4],\n",
       "        [-17.3]],\n",
       "\n",
       "       [[-12.4],\n",
       "        [ -8.9],\n",
       "        [ -7.9],\n",
       "        ...,\n",
       "        [ -5.9],\n",
       "        [-11.7],\n",
       "        [-13.4]],\n",
       "\n",
       "       ...,\n",
       "\n",
       "       [[-14.2],\n",
       "        [-14.7],\n",
       "        [-15.1],\n",
       "        ...,\n",
       "        [-16.5],\n",
       "        [-18.5],\n",
       "        [-16. ]],\n",
       "\n",
       "       [[-11.3],\n",
       "        [-14.2],\n",
       "        [-14.7],\n",
       "        ...,\n",
       "        [-13.8],\n",
       "        [-16.5],\n",
       "        [-18.5]],\n",
       "\n",
       "       [[-10.8],\n",
       "        [-11.3],\n",
       "        [-14.2],\n",
       "        ...,\n",
       "        [-11.5],\n",
       "        [-13.8],\n",
       "        [-16.5]]])"
      ]
     },
     "execution_count": 21,
     "metadata": {},
     "output_type": "execute_result"
    }
   ],
   "source": [
    "X"
   ]
  },
  {
   "attachments": {},
   "cell_type": "markdown",
   "metadata": {},
   "source": [
    "# Temporal splitting"
   ]
  },
  {
   "cell_type": "code",
   "execution_count": 22,
   "metadata": {},
   "outputs": [
    {
     "name": "stdout",
     "output_type": "stream",
     "text": [
      "446 542\n"
     ]
    }
   ],
   "source": [
    "train_val_split_idx, val_test_split_idx = int(X.shape[0]*.7), int(X.shape[0]*.85)\n",
    "print(train_val_split_idx, val_test_split_idx)\n",
    "X_train, y_train = X[:train_val_split_idx], y[:train_val_split_idx]\n",
    "X_val, y_val = X[train_val_split_idx:val_test_split_idx], y[train_val_split_idx:val_test_split_idx]\n",
    "X_test, y_test = X[val_test_split_idx:], y[val_test_split_idx:]"
   ]
  },
  {
   "attachments": {},
   "cell_type": "markdown",
   "metadata": {},
   "source": [
    "# Standardization"
   ]
  },
  {
   "cell_type": "code",
   "execution_count": 23,
   "metadata": {},
   "outputs": [],
   "source": [
    "X_train_mean = X_train.mean()\n",
    "X_train_sd= X_train.std()\n",
    "y_train_mean = y_train.mean()\n",
    "y_train_sd= y_train.std()\n",
    "\n",
    "def standardize(x, y):\n",
    "    x_std = (x-X_train_mean)/X_train_sd\n",
    "    y_std = (y-y_train_mean)/y_train_sd\n",
    "    return x_std, y_std\n",
    "\n",
    "X_train_std, y_train_std = standardize(X_train, y_train)\n",
    "X_val_std, y_val_std = standardize(X_val, y_val)\n",
    "X_test_std, y_test_std = standardize(X_test, y_test)"
   ]
  },
  {
   "attachments": {},
   "cell_type": "markdown",
   "metadata": {},
   "source": [
    "# LSTM Model 1"
   ]
  },
  {
   "cell_type": "code",
   "execution_count": 24,
   "metadata": {},
   "outputs": [],
   "source": [
    "from tensorflow.keras.layers import *\n",
    "from tensorflow.keras.models import Sequential\n",
    "from tensorflow.keras.optimizers import Adam\n",
    "from tensorflow.keras.callbacks import ModelCheckpoint\n",
    "from tensorflow.keras.losses import MeanSquaredError\n",
    "from tensorflow.keras.metrics import RootMeanSquaredError"
   ]
  },
  {
   "cell_type": "code",
   "execution_count": 25,
   "metadata": {},
   "outputs": [],
   "source": [
    "from tensorflow.keras.callbacks import TensorBoard\n",
    "\n",
    "tb1 = TensorBoard(\n",
    "    log_dir='logs1',\n",
    "    histogram_freq=0,\n",
    "    write_graph=True,\n",
    "    write_images=False,\n",
    "    write_steps_per_second=False,\n",
    "    update_freq='epoch',\n",
    "    profile_batch=0,\n",
    "    embeddings_freq=0,\n",
    "    embeddings_metadata=None\n",
    ")"
   ]
  },
  {
   "cell_type": "code",
   "execution_count": 26,
   "metadata": {},
   "outputs": [
    {
     "name": "stdout",
     "output_type": "stream",
     "text": [
      "Model: \"sequential\"\n",
      "_________________________________________________________________\n",
      " Layer (type)                Output Shape              Param #   \n",
      "=================================================================\n",
      " lstm (LSTM)                 (None, 64)                16896     \n",
      "                                                                 \n",
      " dense (Dense)               (None, 8)                 520       \n",
      "                                                                 \n",
      " dense_1 (Dense)             (None, 1)                 9         \n",
      "                                                                 \n",
      "=================================================================\n",
      "Total params: 17,425\n",
      "Trainable params: 17,425\n",
      "Non-trainable params: 0\n",
      "_________________________________________________________________\n"
     ]
    }
   ],
   "source": [
    "model1 = Sequential()\n",
    "model1.add(InputLayer((28,1)))\n",
    "model1.add(LSTM(64))\n",
    "model1.add(Dense(8,'relu'))\n",
    "model1.add(Dense(1,'linear'))\n",
    "model1.summary()"
   ]
  },
  {
   "cell_type": "code",
   "execution_count": 27,
   "metadata": {},
   "outputs": [],
   "source": [
    "cp1 = ModelCheckpoint('model1/', save_best_only=True)\n",
    "model1.compile(loss=MeanSquaredError(), optimizer=Adam(learning_rate=0.001), metrics=[RootMeanSquaredError()])"
   ]
  },
  {
   "cell_type": "code",
   "execution_count": 28,
   "metadata": {},
   "outputs": [
    {
     "name": "stdout",
     "output_type": "stream",
     "text": [
      "Epoch 1/50\n",
      "13/14 [==========================>...] - ETA: 0s - loss: 114.9332 - root_mean_squared_error: 10.7207"
     ]
    },
    {
     "name": "stderr",
     "output_type": "stream",
     "text": [
      "WARNING:absl:Found untraced functions such as lstm_cell_layer_call_fn, lstm_cell_layer_call_and_return_conditional_losses while saving (showing 2 of 2). These functions will not be directly callable after loading.\n"
     ]
    },
    {
     "name": "stdout",
     "output_type": "stream",
     "text": [
      "INFO:tensorflow:Assets written to: model1\\assets\n"
     ]
    },
    {
     "name": "stderr",
     "output_type": "stream",
     "text": [
      "INFO:tensorflow:Assets written to: model1\\assets\n"
     ]
    },
    {
     "name": "stdout",
     "output_type": "stream",
     "text": [
      "14/14 [==============================] - 21s 1s/step - loss: 110.7120 - root_mean_squared_error: 10.5220 - val_loss: 58.0165 - val_root_mean_squared_error: 7.6169\n",
      "Epoch 2/50\n",
      "13/14 [==========================>...] - ETA: 0s - loss: 74.0175 - root_mean_squared_error: 8.6033"
     ]
    },
    {
     "name": "stderr",
     "output_type": "stream",
     "text": [
      "WARNING:absl:Found untraced functions such as lstm_cell_layer_call_fn, lstm_cell_layer_call_and_return_conditional_losses while saving (showing 2 of 2). These functions will not be directly callable after loading.\n"
     ]
    },
    {
     "name": "stdout",
     "output_type": "stream",
     "text": [
      "INFO:tensorflow:Assets written to: model1\\assets\n"
     ]
    },
    {
     "name": "stderr",
     "output_type": "stream",
     "text": [
      "INFO:tensorflow:Assets written to: model1\\assets\n"
     ]
    },
    {
     "name": "stdout",
     "output_type": "stream",
     "text": [
      "14/14 [==============================] - 13s 1s/step - loss: 71.0532 - root_mean_squared_error: 8.4293 - val_loss: 41.2296 - val_root_mean_squared_error: 6.4210\n",
      "Epoch 3/50\n",
      "13/14 [==========================>...] - ETA: 0s - loss: 40.5846 - root_mean_squared_error: 6.3706"
     ]
    },
    {
     "name": "stderr",
     "output_type": "stream",
     "text": [
      "WARNING:absl:Found untraced functions such as lstm_cell_layer_call_fn, lstm_cell_layer_call_and_return_conditional_losses while saving (showing 2 of 2). These functions will not be directly callable after loading.\n"
     ]
    },
    {
     "name": "stdout",
     "output_type": "stream",
     "text": [
      "INFO:tensorflow:Assets written to: model1\\assets\n"
     ]
    },
    {
     "name": "stderr",
     "output_type": "stream",
     "text": [
      "INFO:tensorflow:Assets written to: model1\\assets\n"
     ]
    },
    {
     "name": "stdout",
     "output_type": "stream",
     "text": [
      "14/14 [==============================] - 13s 993ms/step - loss: 40.0829 - root_mean_squared_error: 6.3311 - val_loss: 37.7480 - val_root_mean_squared_error: 6.1439\n",
      "Epoch 4/50\n",
      "13/14 [==========================>...] - ETA: 0s - loss: 27.7419 - root_mean_squared_error: 5.2671"
     ]
    },
    {
     "name": "stderr",
     "output_type": "stream",
     "text": [
      "WARNING:absl:Found untraced functions such as lstm_cell_layer_call_fn, lstm_cell_layer_call_and_return_conditional_losses while saving (showing 2 of 2). These functions will not be directly callable after loading.\n"
     ]
    },
    {
     "name": "stdout",
     "output_type": "stream",
     "text": [
      "INFO:tensorflow:Assets written to: model1\\assets\n"
     ]
    },
    {
     "name": "stderr",
     "output_type": "stream",
     "text": [
      "INFO:tensorflow:Assets written to: model1\\assets\n"
     ]
    },
    {
     "name": "stdout",
     "output_type": "stream",
     "text": [
      "14/14 [==============================] - 16s 1s/step - loss: 26.8069 - root_mean_squared_error: 5.1775 - val_loss: 24.2337 - val_root_mean_squared_error: 4.9228\n",
      "Epoch 5/50\n",
      "14/14 [==============================] - ETA: 0s - loss: 21.4920 - root_mean_squared_error: 4.6360"
     ]
    },
    {
     "name": "stderr",
     "output_type": "stream",
     "text": [
      "WARNING:absl:Found untraced functions such as lstm_cell_layer_call_fn, lstm_cell_layer_call_and_return_conditional_losses while saving (showing 2 of 2). These functions will not be directly callable after loading.\n"
     ]
    },
    {
     "name": "stdout",
     "output_type": "stream",
     "text": [
      "INFO:tensorflow:Assets written to: model1\\assets\n"
     ]
    },
    {
     "name": "stderr",
     "output_type": "stream",
     "text": [
      "INFO:tensorflow:Assets written to: model1\\assets\n"
     ]
    },
    {
     "name": "stdout",
     "output_type": "stream",
     "text": [
      "14/14 [==============================] - 15s 1s/step - loss: 21.4920 - root_mean_squared_error: 4.6360 - val_loss: 15.5520 - val_root_mean_squared_error: 3.9436\n",
      "Epoch 6/50\n",
      "14/14 [==============================] - ETA: 0s - loss: 17.6799 - root_mean_squared_error: 4.2047"
     ]
    },
    {
     "name": "stderr",
     "output_type": "stream",
     "text": [
      "WARNING:absl:Found untraced functions such as lstm_cell_layer_call_fn, lstm_cell_layer_call_and_return_conditional_losses while saving (showing 2 of 2). These functions will not be directly callable after loading.\n"
     ]
    },
    {
     "name": "stdout",
     "output_type": "stream",
     "text": [
      "INFO:tensorflow:Assets written to: model1\\assets\n"
     ]
    },
    {
     "name": "stderr",
     "output_type": "stream",
     "text": [
      "INFO:tensorflow:Assets written to: model1\\assets\n"
     ]
    },
    {
     "name": "stdout",
     "output_type": "stream",
     "text": [
      "14/14 [==============================] - 13s 971ms/step - loss: 17.6799 - root_mean_squared_error: 4.2047 - val_loss: 12.1391 - val_root_mean_squared_error: 3.4841\n",
      "Epoch 7/50\n",
      "13/14 [==========================>...] - ETA: 0s - loss: 14.8223 - root_mean_squared_error: 3.8500"
     ]
    },
    {
     "name": "stderr",
     "output_type": "stream",
     "text": [
      "WARNING:absl:Found untraced functions such as lstm_cell_layer_call_fn, lstm_cell_layer_call_and_return_conditional_losses while saving (showing 2 of 2). These functions will not be directly callable after loading.\n"
     ]
    },
    {
     "name": "stdout",
     "output_type": "stream",
     "text": [
      "INFO:tensorflow:Assets written to: model1\\assets\n"
     ]
    },
    {
     "name": "stderr",
     "output_type": "stream",
     "text": [
      "INFO:tensorflow:Assets written to: model1\\assets\n"
     ]
    },
    {
     "name": "stdout",
     "output_type": "stream",
     "text": [
      "14/14 [==============================] - 13s 967ms/step - loss: 14.9220 - root_mean_squared_error: 3.8629 - val_loss: 12.1375 - val_root_mean_squared_error: 3.4839\n",
      "Epoch 8/50\n",
      "13/14 [==========================>...] - ETA: 0s - loss: 13.5727 - root_mean_squared_error: 3.6841"
     ]
    },
    {
     "name": "stderr",
     "output_type": "stream",
     "text": [
      "WARNING:absl:Found untraced functions such as lstm_cell_layer_call_fn, lstm_cell_layer_call_and_return_conditional_losses while saving (showing 2 of 2). These functions will not be directly callable after loading.\n"
     ]
    },
    {
     "name": "stdout",
     "output_type": "stream",
     "text": [
      "INFO:tensorflow:Assets written to: model1\\assets\n"
     ]
    },
    {
     "name": "stderr",
     "output_type": "stream",
     "text": [
      "INFO:tensorflow:Assets written to: model1\\assets\n"
     ]
    },
    {
     "name": "stdout",
     "output_type": "stream",
     "text": [
      "14/14 [==============================] - 13s 977ms/step - loss: 13.2372 - root_mean_squared_error: 3.6383 - val_loss: 11.1369 - val_root_mean_squared_error: 3.3372\n",
      "Epoch 9/50\n",
      "13/14 [==========================>...] - ETA: 0s - loss: 10.7867 - root_mean_squared_error: 3.2843"
     ]
    },
    {
     "name": "stderr",
     "output_type": "stream",
     "text": [
      "WARNING:absl:Found untraced functions such as lstm_cell_layer_call_fn, lstm_cell_layer_call_and_return_conditional_losses while saving (showing 2 of 2). These functions will not be directly callable after loading.\n"
     ]
    },
    {
     "name": "stdout",
     "output_type": "stream",
     "text": [
      "INFO:tensorflow:Assets written to: model1\\assets\n"
     ]
    },
    {
     "name": "stderr",
     "output_type": "stream",
     "text": [
      "INFO:tensorflow:Assets written to: model1\\assets\n"
     ]
    },
    {
     "name": "stdout",
     "output_type": "stream",
     "text": [
      "14/14 [==============================] - 13s 1s/step - loss: 11.1433 - root_mean_squared_error: 3.3382 - val_loss: 9.2936 - val_root_mean_squared_error: 3.0485\n",
      "Epoch 10/50\n",
      "13/14 [==========================>...] - ETA: 0s - loss: 9.6822 - root_mean_squared_error: 3.1116"
     ]
    },
    {
     "name": "stderr",
     "output_type": "stream",
     "text": [
      "WARNING:absl:Found untraced functions such as lstm_cell_layer_call_fn, lstm_cell_layer_call_and_return_conditional_losses while saving (showing 2 of 2). These functions will not be directly callable after loading.\n"
     ]
    },
    {
     "name": "stdout",
     "output_type": "stream",
     "text": [
      "INFO:tensorflow:Assets written to: model1\\assets\n"
     ]
    },
    {
     "name": "stderr",
     "output_type": "stream",
     "text": [
      "INFO:tensorflow:Assets written to: model1\\assets\n"
     ]
    },
    {
     "name": "stdout",
     "output_type": "stream",
     "text": [
      "14/14 [==============================] - 13s 1s/step - loss: 9.7044 - root_mean_squared_error: 3.1152 - val_loss: 7.8595 - val_root_mean_squared_error: 2.8035\n",
      "Epoch 11/50\n",
      "14/14 [==============================] - 1s 54ms/step - loss: 8.1893 - root_mean_squared_error: 2.8617 - val_loss: 8.6311 - val_root_mean_squared_error: 2.9379\n",
      "Epoch 12/50\n",
      "14/14 [==============================] - 0s 31ms/step - loss: 6.9890 - root_mean_squared_error: 2.6437 - val_loss: 9.1641 - val_root_mean_squared_error: 3.0272\n",
      "Epoch 13/50\n",
      "14/14 [==============================] - 0s 26ms/step - loss: 6.1113 - root_mean_squared_error: 2.4721 - val_loss: 9.5868 - val_root_mean_squared_error: 3.0963\n",
      "Epoch 14/50\n",
      "14/14 [==============================] - 0s 23ms/step - loss: 5.6949 - root_mean_squared_error: 2.3864 - val_loss: 9.5307 - val_root_mean_squared_error: 3.0872\n",
      "Epoch 15/50\n",
      "14/14 [==============================] - 0s 23ms/step - loss: 5.3511 - root_mean_squared_error: 2.3132 - val_loss: 10.2590 - val_root_mean_squared_error: 3.2030\n",
      "Epoch 16/50\n",
      "14/14 [==============================] - 0s 22ms/step - loss: 5.4639 - root_mean_squared_error: 2.3375 - val_loss: 8.7952 - val_root_mean_squared_error: 2.9657\n",
      "Epoch 17/50\n",
      "14/14 [==============================] - 0s 24ms/step - loss: 5.4681 - root_mean_squared_error: 2.3384 - val_loss: 10.0663 - val_root_mean_squared_error: 3.1727\n",
      "Epoch 18/50\n",
      "14/14 [==============================] - 0s 23ms/step - loss: 4.8927 - root_mean_squared_error: 2.2119 - val_loss: 8.5061 - val_root_mean_squared_error: 2.9165\n",
      "Epoch 19/50\n",
      "14/14 [==============================] - 0s 22ms/step - loss: 4.6362 - root_mean_squared_error: 2.1532 - val_loss: 11.0523 - val_root_mean_squared_error: 3.3245\n",
      "Epoch 20/50\n",
      "14/14 [==============================] - 0s 23ms/step - loss: 4.6618 - root_mean_squared_error: 2.1591 - val_loss: 8.9904 - val_root_mean_squared_error: 2.9984\n",
      "Epoch 21/50\n",
      "14/14 [==============================] - 0s 23ms/step - loss: 4.7214 - root_mean_squared_error: 2.1729 - val_loss: 12.0558 - val_root_mean_squared_error: 3.4721\n",
      "Epoch 22/50\n",
      "14/14 [==============================] - 0s 23ms/step - loss: 4.2840 - root_mean_squared_error: 2.0698 - val_loss: 10.4979 - val_root_mean_squared_error: 3.2400\n",
      "Epoch 23/50\n",
      "14/14 [==============================] - 0s 24ms/step - loss: 4.3373 - root_mean_squared_error: 2.0826 - val_loss: 12.4236 - val_root_mean_squared_error: 3.5247\n",
      "Epoch 24/50\n",
      "14/14 [==============================] - 0s 24ms/step - loss: 4.3394 - root_mean_squared_error: 2.0831 - val_loss: 9.5646 - val_root_mean_squared_error: 3.0927\n",
      "Epoch 25/50\n",
      "14/14 [==============================] - 0s 25ms/step - loss: 4.3358 - root_mean_squared_error: 2.0823 - val_loss: 13.6675 - val_root_mean_squared_error: 3.6970\n",
      "Epoch 26/50\n",
      "14/14 [==============================] - 0s 26ms/step - loss: 4.7114 - root_mean_squared_error: 2.1706 - val_loss: 12.0902 - val_root_mean_squared_error: 3.4771\n",
      "Epoch 27/50\n",
      "14/14 [==============================] - 0s 24ms/step - loss: 5.1720 - root_mean_squared_error: 2.2742 - val_loss: 10.9133 - val_root_mean_squared_error: 3.3035\n",
      "Epoch 28/50\n",
      "14/14 [==============================] - 0s 24ms/step - loss: 4.7192 - root_mean_squared_error: 2.1724 - val_loss: 12.0888 - val_root_mean_squared_error: 3.4769\n",
      "Epoch 29/50\n",
      "14/14 [==============================] - 0s 26ms/step - loss: 4.4128 - root_mean_squared_error: 2.1007 - val_loss: 11.9733 - val_root_mean_squared_error: 3.4603\n",
      "Epoch 30/50\n",
      "14/14 [==============================] - 0s 32ms/step - loss: 4.1900 - root_mean_squared_error: 2.0469 - val_loss: 12.6415 - val_root_mean_squared_error: 3.5555\n",
      "Epoch 31/50\n",
      "14/14 [==============================] - 0s 25ms/step - loss: 3.9934 - root_mean_squared_error: 1.9984 - val_loss: 11.0064 - val_root_mean_squared_error: 3.3176\n",
      "Epoch 32/50\n",
      "14/14 [==============================] - 0s 26ms/step - loss: 3.9708 - root_mean_squared_error: 1.9927 - val_loss: 11.4466 - val_root_mean_squared_error: 3.3833\n",
      "Epoch 33/50\n",
      "14/14 [==============================] - 0s 25ms/step - loss: 3.8197 - root_mean_squared_error: 1.9544 - val_loss: 12.7641 - val_root_mean_squared_error: 3.5727\n",
      "Epoch 34/50\n",
      "14/14 [==============================] - 0s 25ms/step - loss: 3.9113 - root_mean_squared_error: 1.9777 - val_loss: 13.0319 - val_root_mean_squared_error: 3.6100\n",
      "Epoch 35/50\n",
      "14/14 [==============================] - 0s 25ms/step - loss: 4.3591 - root_mean_squared_error: 2.0878 - val_loss: 12.7376 - val_root_mean_squared_error: 3.5690\n",
      "Epoch 36/50\n",
      "14/14 [==============================] - 0s 25ms/step - loss: 4.0781 - root_mean_squared_error: 2.0194 - val_loss: 13.7900 - val_root_mean_squared_error: 3.7135\n",
      "Epoch 37/50\n",
      "14/14 [==============================] - 0s 25ms/step - loss: 4.0204 - root_mean_squared_error: 2.0051 - val_loss: 11.9807 - val_root_mean_squared_error: 3.4613\n",
      "Epoch 38/50\n",
      "14/14 [==============================] - 0s 28ms/step - loss: 3.8399 - root_mean_squared_error: 1.9596 - val_loss: 12.0109 - val_root_mean_squared_error: 3.4657\n",
      "Epoch 39/50\n",
      "14/14 [==============================] - 0s 25ms/step - loss: 3.8332 - root_mean_squared_error: 1.9579 - val_loss: 12.4693 - val_root_mean_squared_error: 3.5312\n",
      "Epoch 40/50\n",
      "14/14 [==============================] - 0s 25ms/step - loss: 3.6766 - root_mean_squared_error: 1.9175 - val_loss: 13.6138 - val_root_mean_squared_error: 3.6897\n",
      "Epoch 41/50\n",
      "14/14 [==============================] - 0s 26ms/step - loss: 3.5889 - root_mean_squared_error: 1.8944 - val_loss: 13.6839 - val_root_mean_squared_error: 3.6992\n",
      "Epoch 42/50\n",
      "14/14 [==============================] - 0s 25ms/step - loss: 3.9708 - root_mean_squared_error: 1.9927 - val_loss: 14.4609 - val_root_mean_squared_error: 3.8027\n",
      "Epoch 43/50\n",
      "14/14 [==============================] - 0s 26ms/step - loss: 4.1380 - root_mean_squared_error: 2.0342 - val_loss: 17.0052 - val_root_mean_squared_error: 4.1237\n",
      "Epoch 44/50\n",
      "14/14 [==============================] - 0s 26ms/step - loss: 3.7962 - root_mean_squared_error: 1.9484 - val_loss: 16.2300 - val_root_mean_squared_error: 4.0286\n",
      "Epoch 45/50\n",
      "14/14 [==============================] - 0s 25ms/step - loss: 3.9066 - root_mean_squared_error: 1.9765 - val_loss: 16.8393 - val_root_mean_squared_error: 4.1036\n",
      "Epoch 46/50\n",
      "14/14 [==============================] - 0s 25ms/step - loss: 3.6290 - root_mean_squared_error: 1.9050 - val_loss: 14.7094 - val_root_mean_squared_error: 3.8353\n",
      "Epoch 47/50\n",
      "14/14 [==============================] - 0s 26ms/step - loss: 3.4277 - root_mean_squared_error: 1.8514 - val_loss: 16.7544 - val_root_mean_squared_error: 4.0932\n",
      "Epoch 48/50\n",
      "14/14 [==============================] - 0s 27ms/step - loss: 3.4339 - root_mean_squared_error: 1.8531 - val_loss: 16.4876 - val_root_mean_squared_error: 4.0605\n",
      "Epoch 49/50\n",
      "14/14 [==============================] - 0s 25ms/step - loss: 3.3774 - root_mean_squared_error: 1.8378 - val_loss: 18.1173 - val_root_mean_squared_error: 4.2564\n",
      "Epoch 50/50\n",
      "14/14 [==============================] - 0s 26ms/step - loss: 3.3312 - root_mean_squared_error: 1.8252 - val_loss: 16.6585 - val_root_mean_squared_error: 4.0815\n"
     ]
    },
    {
     "data": {
      "text/plain": [
       "<keras.callbacks.History at 0x1f6bc7e3c40>"
      ]
     },
     "execution_count": 28,
     "metadata": {},
     "output_type": "execute_result"
    }
   ],
   "source": [
    "model1.fit(X_train, y_train, validation_data=(X_val, y_val), epochs=50, callbacks=[cp1, tb1])"
   ]
  },
  {
   "cell_type": "code",
   "execution_count": 29,
   "metadata": {},
   "outputs": [],
   "source": [
    "def post_process(y):\n",
    "    return (X_train_sd*y)+X_train_mean"
   ]
  },
  {
   "cell_type": "code",
   "execution_count": 30,
   "metadata": {},
   "outputs": [
    {
     "name": "stdout",
     "output_type": "stream",
     "text": [
      "3/3 [==============================] - 1s 9ms/step\n",
      "3/3 [==============================] - 0s 9ms/step\n",
      "14/14 [==============================] - 1s 10ms/step\n"
     ]
    }
   ],
   "source": [
    "predicted_test_df = pd.DataFrame({'Predicted Temperature':post_process(model1.predict(X_test_std).flatten()), 'Actual Temperature': y_test})\n",
    "predicted_val_df = pd.DataFrame({'Predicted Temperature':post_process(model1.predict(X_val_std).flatten()), 'Actual Temperature': y_val})\n",
    "predicted_train_df = pd.DataFrame({'Predicted Temperature':post_process(model1.predict(X_train_std).flatten()), 'Actual Temperature': y_train})"
   ]
  },
  {
   "cell_type": "code",
   "execution_count": 31,
   "metadata": {},
   "outputs": [],
   "source": [
    "from sklearn.metrics import mean_squared_error"
   ]
  },
  {
   "cell_type": "code",
   "execution_count": 32,
   "metadata": {},
   "outputs": [
    {
     "data": {
      "text/plain": [
       "<AxesSubplot:title={'center':'RMSE: 5.5589867712422345'}>"
      ]
     },
     "execution_count": 32,
     "metadata": {},
     "output_type": "execute_result"
    },
    {
     "data": {
      "image/png": "[encoded data removed]",
      "text/plain": [
       "<Figure size 432x288 with 1 Axes>"
      ]
     },
     "metadata": {
      "needs_background": "light"
     },
     "output_type": "display_data"
    }
   ],
   "source": [
    "predicted_train_df.plot(title=f\"RMSE: {mean_squared_error(predicted_train_df['Actual Temperature'], predicted_train_df['Predicted Temperature'], squared=False)}\")"
   ]
  },
  {
   "cell_type": "code",
   "execution_count": 33,
   "metadata": {},
   "outputs": [
    {
     "data": {
      "text/plain": [
       "<AxesSubplot:title={'center':'RMSE:4.228324742490983'}>"
      ]
     },
     "execution_count": 33,
     "metadata": {},
     "output_type": "execute_result"
    },
    {
     "data": {
      "image/png": "[encoded data removed]",
      "text/plain": [
       "<Figure size 432x288 with 1 Axes>"
      ]
     },
     "metadata": {
      "needs_background": "light"
     },
     "output_type": "display_data"
    }
   ],
   "source": [
    "predicted_val_df.plot(title = f\"RMSE:{mean_squared_error(predicted_val_df['Actual Temperature'], predicted_val_df['Predicted Temperature'], squared=False)}\")"
   ]
  },
  {
   "cell_type": "code",
   "execution_count": 34,
   "metadata": {},
   "outputs": [
    {
     "data": {
      "text/plain": [
       "<AxesSubplot:title={'center':'RMSE:3.6248396819993496'}>"
      ]
     },
     "execution_count": 34,
     "metadata": {},
     "output_type": "execute_result"
    },
    {
     "data": {
      "image/png": "[encoded data removed]",
      "text/plain": [
       "<Figure size 432x288 with 1 Axes>"
      ]
     },
     "metadata": {
      "needs_background": "light"
     },
     "output_type": "display_data"
    }
   ],
   "source": [
    "predicted_test_df.plot(title = f\"RMSE:{mean_squared_error(predicted_test_df['Actual Temperature'], predicted_test_df['Predicted Temperature'], squared=False)}\")\n"
   ]
  },
  {
   "cell_type": "code",
   "execution_count": 36,
   "metadata": {},
   "outputs": [
    {
     "data": {
      "text/plain": [
       "(638,)"
      ]
     },
     "execution_count": 36,
     "metadata": {},
     "output_type": "execute_result"
    }
   ],
   "source": [
    "y.shape"
   ]
  }
 ],
 "metadata": {
  "kernelspec": {
   "display_name": "base",
   "language": "python",
   "name": "python3"
  },
  "language_info": {
   "codemirror_mode": {
    "name": "ipython",
    "version": 3
   },
   "file_extension": ".py",
   "mimetype": "text/x-python",
   "name": "python",
   "nbconvert_exporter": "python",
   "pygments_lexer": "ipython3",
   "version": "3.9.12"
  },
  "orig_nbformat": 4,
  "vscode": {
   "interpreter": {
    "hash": "b9baaabb7af3f92ae09d746be89d264ca11beda4dade21bcf0e4e74ca662ee82"
   }
  }
 },
 "nbformat": 4,
 "nbformat_minor": 2
}
