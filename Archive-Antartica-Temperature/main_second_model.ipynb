{
 "cells": [
  {
   "attachments": {},
   "cell_type": "markdown",
   "metadata": {},
   "source": [
    "# Notebook 2: Trying with last 10 days input data"
   ]
  },
  {
   "attachments": {},
   "cell_type": "markdown",
   "metadata": {},
   "source": [
    "# Data\n",
    "\n",
    "The data is downloaded from NATIONAL CENTRE FOR POLAR AND OCEAN RESEARCH, India: http://data.ncaor.gov.in/newhtml"
   ]
  },
  {
   "attachments": {},
   "cell_type": "markdown",
   "metadata": {},
   "source": [
    "# Dataset Info"
   ]
  },
  {
   "cell_type": "code",
   "execution_count": 1,
   "metadata": {},
   "outputs": [
    {
     "name": "stdout",
     "output_type": "stream",
     "text": [
      "\n",
      " ----------------------Synoptic Data-------------------------------------------------------------------\n",
      " \n",
      " Measurements/ data\t: Synoptic\n",
      " Parameters\t\t: Observation Time,  wind direction, wind speed, temparature, MSLP\n",
      " Duration\t\t: 05-05-2016 to\t02-08-2021\n",
      " Location\t\t: Bharati\n",
      " Latitude and Longitude\t: 69Â°24.41'S, 76Â°11.72'E\n",
      " Data file format\t: ASCII\n",
      " \n",
      " ------------------------------------------------------------------------------------------------------\n",
      " \n",
      " \n",
      " \n",
      "\n"
     ]
    }
   ],
   "source": [
    "with open('b_imdncpor_synoptic.txt') as f:\n",
    "    print(' '.join(f.readlines()))"
   ]
  },
  {
   "cell_type": "code",
   "execution_count": 2,
   "metadata": {},
   "outputs": [],
   "source": [
    "import seaborn as sns\n",
    "from matplotlib import pyplot as plt\n",
    "import pandas as pd\n",
    "import numpy as np"
   ]
  },
  {
   "cell_type": "code",
   "execution_count": 3,
   "metadata": {},
   "outputs": [
    {
     "data": {
      "text/html": [
       "<div>\n",
       "<style scoped>\n",
       "    .dataframe tbody tr th:only-of-type {\n",
       "        vertical-align: middle;\n",
       "    }\n",
       "\n",
       "    .dataframe tbody tr th {\n",
       "        vertical-align: top;\n",
       "    }\n",
       "\n",
       "    .dataframe thead th {\n",
       "        text-align: right;\n",
       "    }\n",
       "</style>\n",
       "<table border=\"1\" class=\"dataframe\">\n",
       "  <thead>\n",
       "    <tr style=\"text-align: right;\">\n",
       "      <th></th>\n",
       "      <th>Time</th>\n",
       "      <th>WindDirection</th>\n",
       "      <th>WindSpeed</th>\n",
       "      <th>Temperature</th>\n",
       "      <th>Pressure</th>\n",
       "    </tr>\n",
       "  </thead>\n",
       "  <tbody>\n",
       "    <tr>\n",
       "      <th>0</th>\n",
       "      <td>2016-05-01 00:00:00</td>\n",
       "      <td>5</td>\n",
       "      <td>8.0</td>\n",
       "      <td>-21.5</td>\n",
       "      <td>981.1</td>\n",
       "    </tr>\n",
       "    <tr>\n",
       "      <th>1</th>\n",
       "      <td>2016-05-22 00:00:00</td>\n",
       "      <td>0</td>\n",
       "      <td>0.0</td>\n",
       "      <td>-19.4</td>\n",
       "      <td>986.1</td>\n",
       "    </tr>\n",
       "    <tr>\n",
       "      <th>2</th>\n",
       "      <td>2016-05-22 06:00:00</td>\n",
       "      <td>9</td>\n",
       "      <td>10.0</td>\n",
       "      <td>-16.6</td>\n",
       "      <td>980.4</td>\n",
       "    </tr>\n",
       "    <tr>\n",
       "      <th>3</th>\n",
       "      <td>2016-05-22 12:00:00</td>\n",
       "      <td>9</td>\n",
       "      <td>9.0</td>\n",
       "      <td>-17.4</td>\n",
       "      <td>973.4</td>\n",
       "    </tr>\n",
       "    <tr>\n",
       "      <th>4</th>\n",
       "      <td>2016-05-22 18:00:00</td>\n",
       "      <td>5</td>\n",
       "      <td>13.0</td>\n",
       "      <td>-17.4</td>\n",
       "      <td>970.7</td>\n",
       "    </tr>\n",
       "  </tbody>\n",
       "</table>\n",
       "</div>"
      ],
      "text/plain": [
       "                 Time  WindDirection  WindSpeed  Temperature  Pressure\n",
       "0 2016-05-01 00:00:00              5        8.0        -21.5     981.1\n",
       "1 2016-05-22 00:00:00              0        0.0        -19.4     986.1\n",
       "2 2016-05-22 06:00:00              9       10.0        -16.6     980.4\n",
       "3 2016-05-22 12:00:00              9        9.0        -17.4     973.4\n",
       "4 2016-05-22 18:00:00              5       13.0        -17.4     970.7"
      ]
     },
     "execution_count": 3,
     "metadata": {},
     "output_type": "execute_result"
    }
   ],
   "source": [
    "df = pd.read_csv('synoptic_bharati.csv')\n",
    "df.Time = pd.to_datetime(df.Time)\n",
    "df.head()"
   ]
  },
  {
   "cell_type": "code",
   "execution_count": 4,
   "metadata": {},
   "outputs": [
    {
     "data": {
      "text/html": [
       "<div>\n",
       "<style scoped>\n",
       "    .dataframe tbody tr th:only-of-type {\n",
       "        vertical-align: middle;\n",
       "    }\n",
       "\n",
       "    .dataframe tbody tr th {\n",
       "        vertical-align: top;\n",
       "    }\n",
       "\n",
       "    .dataframe thead th {\n",
       "        text-align: right;\n",
       "    }\n",
       "</style>\n",
       "<table border=\"1\" class=\"dataframe\">\n",
       "  <thead>\n",
       "    <tr style=\"text-align: right;\">\n",
       "      <th></th>\n",
       "      <th>Time</th>\n",
       "    </tr>\n",
       "  </thead>\n",
       "  <tbody>\n",
       "    <tr>\n",
       "      <th>0</th>\n",
       "      <td>2016-05-01 00:00:00</td>\n",
       "    </tr>\n",
       "    <tr>\n",
       "      <th>1</th>\n",
       "      <td>2016-05-01 06:00:00</td>\n",
       "    </tr>\n",
       "    <tr>\n",
       "      <th>2</th>\n",
       "      <td>2016-05-01 12:00:00</td>\n",
       "    </tr>\n",
       "    <tr>\n",
       "      <th>3</th>\n",
       "      <td>2016-05-01 18:00:00</td>\n",
       "    </tr>\n",
       "    <tr>\n",
       "      <th>4</th>\n",
       "      <td>2016-05-02 00:00:00</td>\n",
       "    </tr>\n",
       "  </tbody>\n",
       "</table>\n",
       "</div>"
      ],
      "text/plain": [
       "                 Time\n",
       "0 2016-05-01 00:00:00\n",
       "1 2016-05-01 06:00:00\n",
       "2 2016-05-01 12:00:00\n",
       "3 2016-05-01 18:00:00\n",
       "4 2016-05-02 00:00:00"
      ]
     },
     "execution_count": 4,
     "metadata": {},
     "output_type": "execute_result"
    }
   ],
   "source": [
    "min_time = df.Time.min()\n",
    "max_time = df.Time.max()\n",
    "weather_data = pd.DataFrame(pd.date_range(min_time,max_time, freq='6H'), columns=['Time'])\n",
    "weather_data.head()"
   ]
  },
  {
   "attachments": {},
   "cell_type": "markdown",
   "metadata": {},
   "source": [
    "https://pandas.pydata.org/pandas-docs/stable/user_guide/timeseries.html#offset-aliases\n",
    "\n",
    "https://pandas.pydata.org/docs/reference/api/pandas.DataFrame.asfreq.html"
   ]
  },
  {
   "cell_type": "code",
   "execution_count": 5,
   "metadata": {},
   "outputs": [
    {
     "data": {
      "text/plain": [
       "Time                0\n",
       "WindDirection    1906\n",
       "WindSpeed        2013\n",
       "Temperature      1922\n",
       "Pressure         2268\n",
       "dtype: int64"
      ]
     },
     "execution_count": 5,
     "metadata": {},
     "output_type": "execute_result"
    }
   ],
   "source": [
    "weather_data = pd.merge(weather_data, df, on='Time', how='left')\n",
    "weather_data.isna().sum()"
   ]
  },
  {
   "cell_type": "code",
   "execution_count": 6,
   "metadata": {},
   "outputs": [],
   "source": [
    "weather_data = weather_data.loc[2715:6000] # Through manual inspection and checking"
   ]
  },
  {
   "attachments": {},
   "cell_type": "markdown",
   "metadata": {},
   "source": [
    "Using Temperature data to forecast future temperature."
   ]
  },
  {
   "cell_type": "code",
   "execution_count": 7,
   "metadata": {},
   "outputs": [
    {
     "data": {
      "text/html": [
       "<div>\n",
       "<style scoped>\n",
       "    .dataframe tbody tr th:only-of-type {\n",
       "        vertical-align: middle;\n",
       "    }\n",
       "\n",
       "    .dataframe tbody tr th {\n",
       "        vertical-align: top;\n",
       "    }\n",
       "\n",
       "    .dataframe thead th {\n",
       "        text-align: right;\n",
       "    }\n",
       "</style>\n",
       "<table border=\"1\" class=\"dataframe\">\n",
       "  <thead>\n",
       "    <tr style=\"text-align: right;\">\n",
       "      <th></th>\n",
       "      <th>Temperature</th>\n",
       "    </tr>\n",
       "  </thead>\n",
       "  <tbody>\n",
       "    <tr>\n",
       "      <th>2715</th>\n",
       "      <td>-14.6</td>\n",
       "    </tr>\n",
       "    <tr>\n",
       "      <th>2716</th>\n",
       "      <td>-17.2</td>\n",
       "    </tr>\n",
       "    <tr>\n",
       "      <th>2717</th>\n",
       "      <td>-14.0</td>\n",
       "    </tr>\n",
       "    <tr>\n",
       "      <th>2718</th>\n",
       "      <td>-15.5</td>\n",
       "    </tr>\n",
       "    <tr>\n",
       "      <th>2719</th>\n",
       "      <td>-16.8</td>\n",
       "    </tr>\n",
       "  </tbody>\n",
       "</table>\n",
       "</div>"
      ],
      "text/plain": [
       "      Temperature\n",
       "2715        -14.6\n",
       "2716        -17.2\n",
       "2717        -14.0\n",
       "2718        -15.5\n",
       "2719        -16.8"
      ]
     },
     "execution_count": 7,
     "metadata": {},
     "output_type": "execute_result"
    }
   ],
   "source": [
    "temp_df = weather_data[['Temperature']].copy()\n",
    "temp_df.head()"
   ]
  },
  {
   "cell_type": "code",
   "execution_count": 8,
   "metadata": {},
   "outputs": [
    {
     "data": {
      "image/png": "[encoded data removed]",
      "text/plain": [
       "<Figure size 1800x288 with 1 Axes>"
      ]
     },
     "metadata": {
      "needs_background": "light"
     },
     "output_type": "display_data"
    }
   ],
   "source": [
    "weather_data.Temperature.plot(figsize=(25,4), title='Temperature Variation with Time')\n",
    "plt.show()"
   ]
  },
  {
   "attachments": {},
   "cell_type": "markdown",
   "metadata": {},
   "source": [
    "We can see highest temperature around january and lowet temperatures around July to October."
   ]
  },
  {
   "cell_type": "code",
   "execution_count": 9,
   "metadata": {},
   "outputs": [],
   "source": [
    "def simple_x_y_splitter(dataframe, col, prev_n_days=5):\n",
    "    df = dataframe.copy()\n",
    "    for lag in range(1, prev_n_days+1):\n",
    "        df[f'lag_{lag}'] = df[col].shift(lag)\n",
    "    df.dropna(inplace=True)\n",
    "    y = df[col].values\n",
    "    X = df.drop([col], axis=1).values\n",
    "    return np.expand_dims(X,2), y"
   ]
  },
  {
   "cell_type": "code",
   "execution_count": 10,
   "metadata": {},
   "outputs": [],
   "source": [
    "X, y = simple_x_y_splitter(temp_df, 'Temperature',prev_n_days=10)"
   ]
  },
  {
   "cell_type": "code",
   "execution_count": 11,
   "metadata": {},
   "outputs": [
    {
     "data": {
      "text/plain": [
       "array([ -4.3,  -4.6,  -5.6, ..., -11.5,  -7.9,  -6.4])"
      ]
     },
     "execution_count": 11,
     "metadata": {},
     "output_type": "execute_result"
    }
   ],
   "source": [
    "y"
   ]
  },
  {
   "cell_type": "code",
   "execution_count": 12,
   "metadata": {},
   "outputs": [
    {
     "data": {
      "text/plain": [
       "array([[[ -4.1],\n",
       "        [ -3.8],\n",
       "        [ -2.6],\n",
       "        ...,\n",
       "        [-13.4],\n",
       "        [-17.3],\n",
       "        [-17. ]],\n",
       "\n",
       "       [[ -4.3],\n",
       "        [ -4.1],\n",
       "        [ -3.8],\n",
       "        ...,\n",
       "        [-11.7],\n",
       "        [-13.4],\n",
       "        [-17.3]],\n",
       "\n",
       "       [[ -4.6],\n",
       "        [ -4.3],\n",
       "        [ -4.1],\n",
       "        ...,\n",
       "        [ -5.9],\n",
       "        [-11.7],\n",
       "        [-13.4]],\n",
       "\n",
       "       ...,\n",
       "\n",
       "       [[-10. ],\n",
       "        [ -9.6],\n",
       "        [ -9.4],\n",
       "        ...,\n",
       "        [ -6. ],\n",
       "        [ -8.4],\n",
       "        [ -6.8]],\n",
       "\n",
       "       [[-11.5],\n",
       "        [-10. ],\n",
       "        [ -9.6],\n",
       "        ...,\n",
       "        [ -8.4],\n",
       "        [ -6. ],\n",
       "        [ -8.4]],\n",
       "\n",
       "       [[ -7.9],\n",
       "        [-11.5],\n",
       "        [-10. ],\n",
       "        ...,\n",
       "        [ -8.8],\n",
       "        [ -8.4],\n",
       "        [ -6. ]]])"
      ]
     },
     "execution_count": 12,
     "metadata": {},
     "output_type": "execute_result"
    }
   ],
   "source": [
    "X"
   ]
  },
  {
   "attachments": {},
   "cell_type": "markdown",
   "metadata": {},
   "source": [
    "# Temporal splitting"
   ]
  },
  {
   "cell_type": "code",
   "execution_count": 13,
   "metadata": {},
   "outputs": [
    {
     "name": "stdout",
     "output_type": "stream",
     "text": [
      "953 1157\n"
     ]
    }
   ],
   "source": [
    "train_val_split_idx, val_test_split_idx = int(X.shape[0]*.7), int(X.shape[0]*.85)\n",
    "print(train_val_split_idx, val_test_split_idx)\n",
    "X_train, y_train = X[:train_val_split_idx], y[:train_val_split_idx]\n",
    "X_val, y_val = X[train_val_split_idx:val_test_split_idx], y[train_val_split_idx:val_test_split_idx]\n",
    "X_test, y_test = X[val_test_split_idx:], y[val_test_split_idx:]"
   ]
  },
  {
   "attachments": {},
   "cell_type": "markdown",
   "metadata": {},
   "source": [
    "# Standardization"
   ]
  },
  {
   "cell_type": "code",
   "execution_count": 14,
   "metadata": {},
   "outputs": [],
   "source": [
    "X_train_mean = X_train.mean()\n",
    "X_train_sd= X_train.std()\n",
    "y_train_mean = y_train.mean()\n",
    "y_train_sd= y_train.std()\n",
    "\n",
    "def standardize(x, y):\n",
    "    x_std = (x-X_train_mean)/X_train_sd\n",
    "    y_std = (y-y_train_mean)/y_train_sd\n",
    "    return x_std, y_std\n",
    "\n",
    "X_train_std, y_train_std = standardize(X_train, y_train)\n",
    "X_val_std, y_val_std = standardize(X_val, y_val)\n",
    "X_test_std, y_test_std = standardize(X_test, y_test)"
   ]
  },
  {
   "attachments": {},
   "cell_type": "markdown",
   "metadata": {},
   "source": [
    "# LSTM Model 1"
   ]
  },
  {
   "cell_type": "code",
   "execution_count": 15,
   "metadata": {},
   "outputs": [],
   "source": [
    "from tensorflow.keras.layers import *\n",
    "from tensorflow.keras.models import Sequential\n",
    "from tensorflow.keras.optimizers import Adam\n",
    "from tensorflow.keras.callbacks import ModelCheckpoint\n",
    "from tensorflow.keras.losses import MeanSquaredError\n",
    "from tensorflow.keras.metrics import RootMeanSquaredError"
   ]
  },
  {
   "cell_type": "code",
   "execution_count": 16,
   "metadata": {},
   "outputs": [],
   "source": [
    "from tensorflow.keras.callbacks import TensorBoard\n",
    "\n",
    "tb1 = TensorBoard(\n",
    "    log_dir='logs1',\n",
    "    histogram_freq=0,\n",
    "    write_graph=True,\n",
    "    write_images=False,\n",
    "    write_steps_per_second=False,\n",
    "    update_freq='epoch',\n",
    "    profile_batch=0,\n",
    "    embeddings_freq=0,\n",
    "    embeddings_metadata=None\n",
    ")"
   ]
  },
  {
   "cell_type": "code",
   "execution_count": 17,
   "metadata": {},
   "outputs": [
    {
     "name": "stdout",
     "output_type": "stream",
     "text": [
      "Model: \"sequential\"\n",
      "_________________________________________________________________\n",
      " Layer (type)                Output Shape              Param #   \n",
      "=================================================================\n",
      " lstm (LSTM)                 (None, 64)                16896     \n",
      "                                                                 \n",
      " dense (Dense)               (None, 8)                 520       \n",
      "                                                                 \n",
      " dense_1 (Dense)             (None, 1)                 9         \n",
      "                                                                 \n",
      "=================================================================\n",
      "Total params: 17,425\n",
      "Trainable params: 17,425\n",
      "Non-trainable params: 0\n",
      "_________________________________________________________________\n"
     ]
    }
   ],
   "source": [
    "model1 = Sequential()\n",
    "model1.add(InputLayer((10,1)))\n",
    "model1.add(LSTM(64))\n",
    "model1.add(Dense(8,'relu'))\n",
    "model1.add(Dense(1,'linear'))\n",
    "model1.summary()"
   ]
  },
  {
   "cell_type": "code",
   "execution_count": 18,
   "metadata": {},
   "outputs": [],
   "source": [
    "cp1 = ModelCheckpoint('model1/', save_best_only=True)\n",
    "model1.compile(loss=MeanSquaredError(), optimizer=Adam(learning_rate=0.001), metrics=[RootMeanSquaredError()])"
   ]
  },
  {
   "cell_type": "code",
   "execution_count": 19,
   "metadata": {},
   "outputs": [
    {
     "name": "stdout",
     "output_type": "stream",
     "text": [
      "Epoch 1/50\n",
      "30/30 [==============================] - ETA: 0s - loss: 142.5046 - root_mean_squared_error: 11.9375"
     ]
    },
    {
     "name": "stderr",
     "output_type": "stream",
     "text": [
      "WARNING:absl:Found untraced functions such as lstm_cell_layer_call_fn, lstm_cell_layer_call_and_return_conditional_losses while saving (showing 2 of 2). These functions will not be directly callable after loading.\n"
     ]
    },
    {
     "name": "stdout",
     "output_type": "stream",
     "text": [
      "INFO:tensorflow:Assets written to: model1\\assets\n"
     ]
    },
    {
     "name": "stderr",
     "output_type": "stream",
     "text": [
      "INFO:tensorflow:Assets written to: model1\\assets\n"
     ]
    },
    {
     "name": "stdout",
     "output_type": "stream",
     "text": [
      "30/30 [==============================] - 19s 482ms/step - loss: 142.5046 - root_mean_squared_error: 11.9375 - val_loss: 65.7076 - val_root_mean_squared_error: 8.1060\n",
      "Epoch 2/50\n",
      "28/30 [===========================>..] - ETA: 0s - loss: 97.2238 - root_mean_squared_error: 9.8602  "
     ]
    },
    {
     "name": "stderr",
     "output_type": "stream",
     "text": [
      "WARNING:absl:Found untraced functions such as lstm_cell_layer_call_fn, lstm_cell_layer_call_and_return_conditional_losses while saving (showing 2 of 2). These functions will not be directly callable after loading.\n"
     ]
    },
    {
     "name": "stdout",
     "output_type": "stream",
     "text": [
      "INFO:tensorflow:Assets written to: model1\\assets\n"
     ]
    },
    {
     "name": "stderr",
     "output_type": "stream",
     "text": [
      "INFO:tensorflow:Assets written to: model1\\assets\n"
     ]
    },
    {
     "name": "stdout",
     "output_type": "stream",
     "text": [
      "30/30 [==============================] - 12s 421ms/step - loss: 95.7706 - root_mean_squared_error: 9.7862 - val_loss: 37.2817 - val_root_mean_squared_error: 6.1059\n",
      "Epoch 3/50\n",
      "30/30 [==============================] - ETA: 0s - loss: 45.5844 - root_mean_squared_error: 6.7516"
     ]
    },
    {
     "name": "stderr",
     "output_type": "stream",
     "text": [
      "WARNING:absl:Found untraced functions such as lstm_cell_layer_call_fn, lstm_cell_layer_call_and_return_conditional_losses while saving (showing 2 of 2). These functions will not be directly callable after loading.\n"
     ]
    },
    {
     "name": "stdout",
     "output_type": "stream",
     "text": [
      "INFO:tensorflow:Assets written to: model1\\assets\n"
     ]
    },
    {
     "name": "stderr",
     "output_type": "stream",
     "text": [
      "INFO:tensorflow:Assets written to: model1\\assets\n"
     ]
    },
    {
     "name": "stdout",
     "output_type": "stream",
     "text": [
      "30/30 [==============================] - 13s 453ms/step - loss: 45.5844 - root_mean_squared_error: 6.7516 - val_loss: 19.6124 - val_root_mean_squared_error: 4.4286\n",
      "Epoch 4/50\n",
      "28/30 [===========================>..] - ETA: 0s - loss: 25.0013 - root_mean_squared_error: 5.0001"
     ]
    },
    {
     "name": "stderr",
     "output_type": "stream",
     "text": [
      "WARNING:absl:Found untraced functions such as lstm_cell_layer_call_fn, lstm_cell_layer_call_and_return_conditional_losses while saving (showing 2 of 2). These functions will not be directly callable after loading.\n"
     ]
    },
    {
     "name": "stdout",
     "output_type": "stream",
     "text": [
      "INFO:tensorflow:Assets written to: model1\\assets\n"
     ]
    },
    {
     "name": "stderr",
     "output_type": "stream",
     "text": [
      "INFO:tensorflow:Assets written to: model1\\assets\n"
     ]
    },
    {
     "name": "stdout",
     "output_type": "stream",
     "text": [
      "30/30 [==============================] - 13s 463ms/step - loss: 25.4473 - root_mean_squared_error: 5.0445 - val_loss: 14.0152 - val_root_mean_squared_error: 3.7437\n",
      "Epoch 5/50\n",
      "30/30 [==============================] - ETA: 0s - loss: 17.2837 - root_mean_squared_error: 4.1574"
     ]
    },
    {
     "name": "stderr",
     "output_type": "stream",
     "text": [
      "WARNING:absl:Found untraced functions such as lstm_cell_layer_call_fn, lstm_cell_layer_call_and_return_conditional_losses while saving (showing 2 of 2). These functions will not be directly callable after loading.\n"
     ]
    },
    {
     "name": "stdout",
     "output_type": "stream",
     "text": [
      "INFO:tensorflow:Assets written to: model1\\assets\n"
     ]
    },
    {
     "name": "stderr",
     "output_type": "stream",
     "text": [
      "INFO:tensorflow:Assets written to: model1\\assets\n"
     ]
    },
    {
     "name": "stdout",
     "output_type": "stream",
     "text": [
      "30/30 [==============================] - 12s 401ms/step - loss: 17.2837 - root_mean_squared_error: 4.1574 - val_loss: 10.9495 - val_root_mean_squared_error: 3.3090\n",
      "Epoch 6/50\n",
      "29/30 [============================>.] - ETA: 0s - loss: 11.8990 - root_mean_squared_error: 3.4495"
     ]
    },
    {
     "name": "stderr",
     "output_type": "stream",
     "text": [
      "WARNING:absl:Found untraced functions such as lstm_cell_layer_call_fn, lstm_cell_layer_call_and_return_conditional_losses while saving (showing 2 of 2). These functions will not be directly callable after loading.\n"
     ]
    },
    {
     "name": "stdout",
     "output_type": "stream",
     "text": [
      "INFO:tensorflow:Assets written to: model1\\assets\n"
     ]
    },
    {
     "name": "stderr",
     "output_type": "stream",
     "text": [
      "INFO:tensorflow:Assets written to: model1\\assets\n"
     ]
    },
    {
     "name": "stdout",
     "output_type": "stream",
     "text": [
      "30/30 [==============================] - 11s 391ms/step - loss: 11.9067 - root_mean_squared_error: 3.4506 - val_loss: 9.4045 - val_root_mean_squared_error: 3.0667\n",
      "Epoch 7/50\n",
      "24/30 [=======================>......] - ETA: 0s - loss: 8.3077 - root_mean_squared_error: 2.8823"
     ]
    },
    {
     "name": "stderr",
     "output_type": "stream",
     "text": [
      "WARNING:absl:Found untraced functions such as lstm_cell_layer_call_fn, lstm_cell_layer_call_and_return_conditional_losses while saving (showing 2 of 2). These functions will not be directly callable after loading.\n"
     ]
    },
    {
     "name": "stdout",
     "output_type": "stream",
     "text": [
      "INFO:tensorflow:Assets written to: model1\\assets\n"
     ]
    },
    {
     "name": "stderr",
     "output_type": "stream",
     "text": [
      "INFO:tensorflow:Assets written to: model1\\assets\n"
     ]
    },
    {
     "name": "stdout",
     "output_type": "stream",
     "text": [
      "30/30 [==============================] - 12s 406ms/step - loss: 8.6659 - root_mean_squared_error: 2.9438 - val_loss: 8.0499 - val_root_mean_squared_error: 2.8372\n",
      "Epoch 8/50\n",
      "29/30 [============================>.] - ETA: 0s - loss: 7.4043 - root_mean_squared_error: 2.7211"
     ]
    },
    {
     "name": "stderr",
     "output_type": "stream",
     "text": [
      "WARNING:absl:Found untraced functions such as lstm_cell_layer_call_fn, lstm_cell_layer_call_and_return_conditional_losses while saving (showing 2 of 2). These functions will not be directly callable after loading.\n"
     ]
    },
    {
     "name": "stdout",
     "output_type": "stream",
     "text": [
      "INFO:tensorflow:Assets written to: model1\\assets\n"
     ]
    },
    {
     "name": "stderr",
     "output_type": "stream",
     "text": [
      "INFO:tensorflow:Assets written to: model1\\assets\n"
     ]
    },
    {
     "name": "stdout",
     "output_type": "stream",
     "text": [
      "30/30 [==============================] - 12s 398ms/step - loss: 7.4278 - root_mean_squared_error: 2.7254 - val_loss: 7.6633 - val_root_mean_squared_error: 2.7683\n",
      "Epoch 9/50\n",
      "24/30 [=======================>......] - ETA: 0s - loss: 7.2670 - root_mean_squared_error: 2.6957"
     ]
    },
    {
     "name": "stderr",
     "output_type": "stream",
     "text": [
      "WARNING:absl:Found untraced functions such as lstm_cell_layer_call_fn, lstm_cell_layer_call_and_return_conditional_losses while saving (showing 2 of 2). These functions will not be directly callable after loading.\n"
     ]
    },
    {
     "name": "stdout",
     "output_type": "stream",
     "text": [
      "INFO:tensorflow:Assets written to: model1\\assets\n"
     ]
    },
    {
     "name": "stderr",
     "output_type": "stream",
     "text": [
      "INFO:tensorflow:Assets written to: model1\\assets\n"
     ]
    },
    {
     "name": "stdout",
     "output_type": "stream",
     "text": [
      "30/30 [==============================] - 11s 392ms/step - loss: 6.8627 - root_mean_squared_error: 2.6197 - val_loss: 6.4979 - val_root_mean_squared_error: 2.5491\n",
      "Epoch 10/50\n",
      "30/30 [==============================] - ETA: 0s - loss: 6.1555 - root_mean_squared_error: 2.4810"
     ]
    },
    {
     "name": "stderr",
     "output_type": "stream",
     "text": [
      "WARNING:absl:Found untraced functions such as lstm_cell_layer_call_fn, lstm_cell_layer_call_and_return_conditional_losses while saving (showing 2 of 2). These functions will not be directly callable after loading.\n"
     ]
    },
    {
     "name": "stdout",
     "output_type": "stream",
     "text": [
      "INFO:tensorflow:Assets written to: model1\\assets\n"
     ]
    },
    {
     "name": "stderr",
     "output_type": "stream",
     "text": [
      "INFO:tensorflow:Assets written to: model1\\assets\n"
     ]
    },
    {
     "name": "stdout",
     "output_type": "stream",
     "text": [
      "30/30 [==============================] - 12s 399ms/step - loss: 6.1555 - root_mean_squared_error: 2.4810 - val_loss: 6.1574 - val_root_mean_squared_error: 2.4814\n",
      "Epoch 11/50\n",
      "30/30 [==============================] - ETA: 0s - loss: 5.7539 - root_mean_squared_error: 2.3987"
     ]
    },
    {
     "name": "stderr",
     "output_type": "stream",
     "text": [
      "WARNING:absl:Found untraced functions such as lstm_cell_layer_call_fn, lstm_cell_layer_call_and_return_conditional_losses while saving (showing 2 of 2). These functions will not be directly callable after loading.\n"
     ]
    },
    {
     "name": "stdout",
     "output_type": "stream",
     "text": [
      "INFO:tensorflow:Assets written to: model1\\assets\n"
     ]
    },
    {
     "name": "stderr",
     "output_type": "stream",
     "text": [
      "INFO:tensorflow:Assets written to: model1\\assets\n"
     ]
    },
    {
     "name": "stdout",
     "output_type": "stream",
     "text": [
      "30/30 [==============================] - 11s 394ms/step - loss: 5.7539 - root_mean_squared_error: 2.3987 - val_loss: 5.7701 - val_root_mean_squared_error: 2.4021\n",
      "Epoch 12/50\n",
      "25/30 [========================>.....] - ETA: 0s - loss: 5.4639 - root_mean_squared_error: 2.3375"
     ]
    },
    {
     "name": "stderr",
     "output_type": "stream",
     "text": [
      "WARNING:absl:Found untraced functions such as lstm_cell_layer_call_fn, lstm_cell_layer_call_and_return_conditional_losses while saving (showing 2 of 2). These functions will not be directly callable after loading.\n"
     ]
    },
    {
     "name": "stdout",
     "output_type": "stream",
     "text": [
      "INFO:tensorflow:Assets written to: model1\\assets\n"
     ]
    },
    {
     "name": "stderr",
     "output_type": "stream",
     "text": [
      "INFO:tensorflow:Assets written to: model1\\assets\n"
     ]
    },
    {
     "name": "stdout",
     "output_type": "stream",
     "text": [
      "30/30 [==============================] - 12s 404ms/step - loss: 5.5356 - root_mean_squared_error: 2.3528 - val_loss: 5.6765 - val_root_mean_squared_error: 2.3825\n",
      "Epoch 13/50\n",
      "25/30 [========================>.....] - ETA: 0s - loss: 5.5539 - root_mean_squared_error: 2.3567"
     ]
    },
    {
     "name": "stderr",
     "output_type": "stream",
     "text": [
      "WARNING:absl:Found untraced functions such as lstm_cell_layer_call_fn, lstm_cell_layer_call_and_return_conditional_losses while saving (showing 2 of 2). These functions will not be directly callable after loading.\n"
     ]
    },
    {
     "name": "stdout",
     "output_type": "stream",
     "text": [
      "INFO:tensorflow:Assets written to: model1\\assets\n"
     ]
    },
    {
     "name": "stderr",
     "output_type": "stream",
     "text": [
      "INFO:tensorflow:Assets written to: model1\\assets\n"
     ]
    },
    {
     "name": "stdout",
     "output_type": "stream",
     "text": [
      "30/30 [==============================] - 12s 398ms/step - loss: 5.4340 - root_mean_squared_error: 2.3311 - val_loss: 5.5291 - val_root_mean_squared_error: 2.3514\n",
      "Epoch 14/50\n",
      "29/30 [============================>.] - ETA: 0s - loss: 5.2443 - root_mean_squared_error: 2.2900"
     ]
    },
    {
     "name": "stderr",
     "output_type": "stream",
     "text": [
      "WARNING:absl:Found untraced functions such as lstm_cell_layer_call_fn, lstm_cell_layer_call_and_return_conditional_losses while saving (showing 2 of 2). These functions will not be directly callable after loading.\n"
     ]
    },
    {
     "name": "stdout",
     "output_type": "stream",
     "text": [
      "INFO:tensorflow:Assets written to: model1\\assets\n"
     ]
    },
    {
     "name": "stderr",
     "output_type": "stream",
     "text": [
      "INFO:tensorflow:Assets written to: model1\\assets\n"
     ]
    },
    {
     "name": "stdout",
     "output_type": "stream",
     "text": [
      "30/30 [==============================] - 12s 401ms/step - loss: 5.2329 - root_mean_squared_error: 2.2876 - val_loss: 5.2342 - val_root_mean_squared_error: 2.2878\n",
      "Epoch 15/50\n",
      "29/30 [============================>.] - ETA: 0s - loss: 4.8691 - root_mean_squared_error: 2.2066"
     ]
    },
    {
     "name": "stderr",
     "output_type": "stream",
     "text": [
      "WARNING:absl:Found untraced functions such as lstm_cell_layer_call_fn, lstm_cell_layer_call_and_return_conditional_losses while saving (showing 2 of 2). These functions will not be directly callable after loading.\n"
     ]
    },
    {
     "name": "stdout",
     "output_type": "stream",
     "text": [
      "INFO:tensorflow:Assets written to: model1\\assets\n"
     ]
    },
    {
     "name": "stderr",
     "output_type": "stream",
     "text": [
      "INFO:tensorflow:Assets written to: model1\\assets\n"
     ]
    },
    {
     "name": "stdout",
     "output_type": "stream",
     "text": [
      "30/30 [==============================] - 12s 407ms/step - loss: 4.8752 - root_mean_squared_error: 2.2080 - val_loss: 5.2149 - val_root_mean_squared_error: 2.2836\n",
      "Epoch 16/50\n",
      "30/30 [==============================] - 0s 13ms/step - loss: 4.8781 - root_mean_squared_error: 2.2086 - val_loss: 5.3319 - val_root_mean_squared_error: 2.3091\n",
      "Epoch 17/50\n",
      "30/30 [==============================] - ETA: 0s - loss: 4.6884 - root_mean_squared_error: 2.1653"
     ]
    },
    {
     "name": "stderr",
     "output_type": "stream",
     "text": [
      "WARNING:absl:Found untraced functions such as lstm_cell_layer_call_fn, lstm_cell_layer_call_and_return_conditional_losses while saving (showing 2 of 2). These functions will not be directly callable after loading.\n"
     ]
    },
    {
     "name": "stdout",
     "output_type": "stream",
     "text": [
      "INFO:tensorflow:Assets written to: model1\\assets\n"
     ]
    },
    {
     "name": "stderr",
     "output_type": "stream",
     "text": [
      "INFO:tensorflow:Assets written to: model1\\assets\n"
     ]
    },
    {
     "name": "stdout",
     "output_type": "stream",
     "text": [
      "30/30 [==============================] - 12s 407ms/step - loss: 4.6884 - root_mean_squared_error: 2.1653 - val_loss: 4.9788 - val_root_mean_squared_error: 2.2313\n",
      "Epoch 18/50\n",
      "30/30 [==============================] - 0s 12ms/step - loss: 5.1347 - root_mean_squared_error: 2.2660 - val_loss: 5.2927 - val_root_mean_squared_error: 2.3006\n",
      "Epoch 19/50\n",
      "25/30 [========================>.....] - ETA: 0s - loss: 4.8044 - root_mean_squared_error: 2.1919"
     ]
    },
    {
     "name": "stderr",
     "output_type": "stream",
     "text": [
      "WARNING:absl:Found untraced functions such as lstm_cell_layer_call_fn, lstm_cell_layer_call_and_return_conditional_losses while saving (showing 2 of 2). These functions will not be directly callable after loading.\n"
     ]
    },
    {
     "name": "stdout",
     "output_type": "stream",
     "text": [
      "INFO:tensorflow:Assets written to: model1\\assets\n"
     ]
    },
    {
     "name": "stderr",
     "output_type": "stream",
     "text": [
      "INFO:tensorflow:Assets written to: model1\\assets\n"
     ]
    },
    {
     "name": "stdout",
     "output_type": "stream",
     "text": [
      "30/30 [==============================] - 12s 403ms/step - loss: 4.6693 - root_mean_squared_error: 2.1608 - val_loss: 4.7982 - val_root_mean_squared_error: 2.1905\n",
      "Epoch 20/50\n",
      "30/30 [==============================] - 0s 12ms/step - loss: 4.5758 - root_mean_squared_error: 2.1391 - val_loss: 4.9734 - val_root_mean_squared_error: 2.2301\n",
      "Epoch 21/50\n",
      "30/30 [==============================] - ETA: 0s - loss: 4.5625 - root_mean_squared_error: 2.1360"
     ]
    },
    {
     "name": "stderr",
     "output_type": "stream",
     "text": [
      "WARNING:absl:Found untraced functions such as lstm_cell_layer_call_fn, lstm_cell_layer_call_and_return_conditional_losses while saving (showing 2 of 2). These functions will not be directly callable after loading.\n"
     ]
    },
    {
     "name": "stdout",
     "output_type": "stream",
     "text": [
      "INFO:tensorflow:Assets written to: model1\\assets\n"
     ]
    },
    {
     "name": "stderr",
     "output_type": "stream",
     "text": [
      "INFO:tensorflow:Assets written to: model1\\assets\n"
     ]
    },
    {
     "name": "stdout",
     "output_type": "stream",
     "text": [
      "30/30 [==============================] - 11s 394ms/step - loss: 4.5625 - root_mean_squared_error: 2.1360 - val_loss: 4.6961 - val_root_mean_squared_error: 2.1670\n",
      "Epoch 22/50\n",
      "30/30 [==============================] - 0s 17ms/step - loss: 4.4400 - root_mean_squared_error: 2.1071 - val_loss: 4.8741 - val_root_mean_squared_error: 2.2077\n",
      "Epoch 23/50\n",
      "30/30 [==============================] - 0s 13ms/step - loss: 4.1637 - root_mean_squared_error: 2.0405 - val_loss: 4.8407 - val_root_mean_squared_error: 2.2002\n",
      "Epoch 24/50\n",
      "30/30 [==============================] - 1s 18ms/step - loss: 4.3090 - root_mean_squared_error: 2.0758 - val_loss: 5.4665 - val_root_mean_squared_error: 2.3381\n",
      "Epoch 25/50\n",
      "27/30 [==========================>...] - ETA: 0s - loss: 4.6045 - root_mean_squared_error: 2.1458"
     ]
    },
    {
     "name": "stderr",
     "output_type": "stream",
     "text": [
      "WARNING:absl:Found untraced functions such as lstm_cell_layer_call_fn, lstm_cell_layer_call_and_return_conditional_losses while saving (showing 2 of 2). These functions will not be directly callable after loading.\n"
     ]
    },
    {
     "name": "stdout",
     "output_type": "stream",
     "text": [
      "INFO:tensorflow:Assets written to: model1\\assets\n"
     ]
    },
    {
     "name": "stderr",
     "output_type": "stream",
     "text": [
      "INFO:tensorflow:Assets written to: model1\\assets\n"
     ]
    },
    {
     "name": "stdout",
     "output_type": "stream",
     "text": [
      "30/30 [==============================] - 11s 393ms/step - loss: 4.5726 - root_mean_squared_error: 2.1384 - val_loss: 4.6579 - val_root_mean_squared_error: 2.1582\n",
      "Epoch 26/50\n",
      "30/30 [==============================] - 0s 13ms/step - loss: 4.2107 - root_mean_squared_error: 2.0520 - val_loss: 5.2727 - val_root_mean_squared_error: 2.2962\n",
      "Epoch 27/50\n",
      "26/30 [=========================>....] - ETA: 0s - loss: 4.1655 - root_mean_squared_error: 2.0410"
     ]
    },
    {
     "name": "stderr",
     "output_type": "stream",
     "text": [
      "WARNING:absl:Found untraced functions such as lstm_cell_layer_call_fn, lstm_cell_layer_call_and_return_conditional_losses while saving (showing 2 of 2). These functions will not be directly callable after loading.\n"
     ]
    },
    {
     "name": "stdout",
     "output_type": "stream",
     "text": [
      "INFO:tensorflow:Assets written to: model1\\assets\n"
     ]
    },
    {
     "name": "stderr",
     "output_type": "stream",
     "text": [
      "INFO:tensorflow:Assets written to: model1\\assets\n"
     ]
    },
    {
     "name": "stdout",
     "output_type": "stream",
     "text": [
      "30/30 [==============================] - 12s 401ms/step - loss: 4.3058 - root_mean_squared_error: 2.0750 - val_loss: 4.5878 - val_root_mean_squared_error: 2.1419\n",
      "Epoch 28/50\n",
      "30/30 [==============================] - 0s 13ms/step - loss: 4.1663 - root_mean_squared_error: 2.0412 - val_loss: 4.6354 - val_root_mean_squared_error: 2.1530\n",
      "Epoch 29/50\n",
      "30/30 [==============================] - 0s 16ms/step - loss: 4.0316 - root_mean_squared_error: 2.0079 - val_loss: 4.9910 - val_root_mean_squared_error: 2.2341\n",
      "Epoch 30/50\n",
      "30/30 [==============================] - 1s 17ms/step - loss: 3.9614 - root_mean_squared_error: 1.9903 - val_loss: 5.0483 - val_root_mean_squared_error: 2.2468\n",
      "Epoch 31/50\n",
      "25/30 [========================>.....] - ETA: 0s - loss: 4.1091 - root_mean_squared_error: 2.0271"
     ]
    },
    {
     "name": "stderr",
     "output_type": "stream",
     "text": [
      "WARNING:absl:Found untraced functions such as lstm_cell_layer_call_fn, lstm_cell_layer_call_and_return_conditional_losses while saving (showing 2 of 2). These functions will not be directly callable after loading.\n"
     ]
    },
    {
     "name": "stdout",
     "output_type": "stream",
     "text": [
      "INFO:tensorflow:Assets written to: model1\\assets\n"
     ]
    },
    {
     "name": "stderr",
     "output_type": "stream",
     "text": [
      "INFO:tensorflow:Assets written to: model1\\assets\n"
     ]
    },
    {
     "name": "stdout",
     "output_type": "stream",
     "text": [
      "30/30 [==============================] - 12s 413ms/step - loss: 4.1104 - root_mean_squared_error: 2.0274 - val_loss: 4.4665 - val_root_mean_squared_error: 2.1134\n",
      "Epoch 32/50\n",
      "30/30 [==============================] - 0s 15ms/step - loss: 3.9995 - root_mean_squared_error: 1.9999 - val_loss: 4.5426 - val_root_mean_squared_error: 2.1313\n",
      "Epoch 33/50\n",
      "30/30 [==============================] - 0s 15ms/step - loss: 3.8439 - root_mean_squared_error: 1.9606 - val_loss: 4.5423 - val_root_mean_squared_error: 2.1313\n",
      "Epoch 34/50\n",
      "30/30 [==============================] - 1s 22ms/step - loss: 3.8279 - root_mean_squared_error: 1.9565 - val_loss: 4.6977 - val_root_mean_squared_error: 2.1674\n",
      "Epoch 35/50\n",
      "30/30 [==============================] - 0s 12ms/step - loss: 3.7841 - root_mean_squared_error: 1.9453 - val_loss: 4.5739 - val_root_mean_squared_error: 2.1387\n",
      "Epoch 36/50\n",
      "29/30 [============================>.] - ETA: 0s - loss: 3.7327 - root_mean_squared_error: 1.9320"
     ]
    },
    {
     "name": "stderr",
     "output_type": "stream",
     "text": [
      "WARNING:absl:Found untraced functions such as lstm_cell_layer_call_fn, lstm_cell_layer_call_and_return_conditional_losses while saving (showing 2 of 2). These functions will not be directly callable after loading.\n"
     ]
    },
    {
     "name": "stdout",
     "output_type": "stream",
     "text": [
      "INFO:tensorflow:Assets written to: model1\\assets\n"
     ]
    },
    {
     "name": "stderr",
     "output_type": "stream",
     "text": [
      "INFO:tensorflow:Assets written to: model1\\assets\n"
     ]
    },
    {
     "name": "stdout",
     "output_type": "stream",
     "text": [
      "30/30 [==============================] - 14s 470ms/step - loss: 3.6944 - root_mean_squared_error: 1.9221 - val_loss: 4.3905 - val_root_mean_squared_error: 2.0954\n",
      "Epoch 37/50\n",
      "30/30 [==============================] - 0s 16ms/step - loss: 3.9483 - root_mean_squared_error: 1.9870 - val_loss: 4.6151 - val_root_mean_squared_error: 2.1483\n",
      "Epoch 38/50\n",
      "30/30 [==============================] - 0s 16ms/step - loss: 3.7724 - root_mean_squared_error: 1.9423 - val_loss: 4.6838 - val_root_mean_squared_error: 2.1642\n",
      "Epoch 39/50\n",
      "30/30 [==============================] - 1s 20ms/step - loss: 3.7785 - root_mean_squared_error: 1.9438 - val_loss: 4.4814 - val_root_mean_squared_error: 2.1169\n",
      "Epoch 40/50\n",
      "30/30 [==============================] - 0s 13ms/step - loss: 3.7487 - root_mean_squared_error: 1.9362 - val_loss: 4.6048 - val_root_mean_squared_error: 2.1459\n",
      "Epoch 41/50\n",
      "30/30 [==============================] - 0s 14ms/step - loss: 3.7851 - root_mean_squared_error: 1.9455 - val_loss: 4.4535 - val_root_mean_squared_error: 2.1103\n",
      "Epoch 42/50\n",
      "30/30 [==============================] - 0s 13ms/step - loss: 3.7951 - root_mean_squared_error: 1.9481 - val_loss: 4.4967 - val_root_mean_squared_error: 2.1205\n",
      "Epoch 43/50\n",
      "30/30 [==============================] - 0s 14ms/step - loss: 3.5940 - root_mean_squared_error: 1.8958 - val_loss: 4.8634 - val_root_mean_squared_error: 2.2053\n",
      "Epoch 44/50\n",
      "30/30 [==============================] - 0s 13ms/step - loss: 3.6856 - root_mean_squared_error: 1.9198 - val_loss: 4.6222 - val_root_mean_squared_error: 2.1499\n",
      "Epoch 45/50\n",
      "30/30 [==============================] - 0s 14ms/step - loss: 3.7076 - root_mean_squared_error: 1.9255 - val_loss: 4.8853 - val_root_mean_squared_error: 2.2103\n",
      "Epoch 46/50\n",
      "30/30 [==============================] - 0s 15ms/step - loss: 3.7851 - root_mean_squared_error: 1.9455 - val_loss: 4.7222 - val_root_mean_squared_error: 2.1731\n",
      "Epoch 47/50\n",
      "30/30 [==============================] - 0s 13ms/step - loss: 3.5853 - root_mean_squared_error: 1.8935 - val_loss: 4.4880 - val_root_mean_squared_error: 2.1185\n",
      "Epoch 48/50\n",
      "30/30 [==============================] - 0s 15ms/step - loss: 3.5854 - root_mean_squared_error: 1.8935 - val_loss: 4.7771 - val_root_mean_squared_error: 2.1857\n",
      "Epoch 49/50\n",
      "30/30 [==============================] - 0s 13ms/step - loss: 3.5980 - root_mean_squared_error: 1.8968 - val_loss: 4.6143 - val_root_mean_squared_error: 2.1481\n",
      "Epoch 50/50\n",
      "30/30 [==============================] - 0s 15ms/step - loss: 3.5514 - root_mean_squared_error: 1.8845 - val_loss: 4.4452 - val_root_mean_squared_error: 2.1084\n"
     ]
    },
    {
     "data": {
      "text/plain": [
       "<keras.callbacks.History at 0x22f221d4ca0>"
      ]
     },
     "execution_count": 19,
     "metadata": {},
     "output_type": "execute_result"
    }
   ],
   "source": [
    "model1.fit(X_train, y_train, validation_data=(X_val, y_val), epochs=50, callbacks=[cp1, tb1])"
   ]
  },
  {
   "cell_type": "code",
   "execution_count": 20,
   "metadata": {},
   "outputs": [],
   "source": [
    "def post_process(y):\n",
    "    return (X_train_sd*y)+X_train_mean"
   ]
  },
  {
   "cell_type": "code",
   "execution_count": 21,
   "metadata": {},
   "outputs": [],
   "source": [
    "from tensorflow.keras.models import load_model\n",
    "model1 = load_model('model1/')"
   ]
  },
  {
   "cell_type": "code",
   "execution_count": 22,
   "metadata": {},
   "outputs": [
    {
     "name": "stdout",
     "output_type": "stream",
     "text": [
      "7/7 [==============================] - 1s 4ms/step\n",
      "7/7 [==============================] - 0s 4ms/step\n",
      "30/30 [==============================] - 0s 4ms/step\n"
     ]
    }
   ],
   "source": [
    "predicted_test_df = pd.DataFrame({'Predicted Temperature':post_process(model1.predict(X_test_std).flatten()), 'Actual Temperature': y_test})\n",
    "predicted_val_df = pd.DataFrame({'Predicted Temperature':post_process(model1.predict(X_val_std).flatten()), 'Actual Temperature': y_val})\n",
    "predicted_train_df = pd.DataFrame({'Predicted Temperature':post_process(model1.predict(X_train_std).flatten()), 'Actual Temperature': y_train})"
   ]
  },
  {
   "cell_type": "code",
   "execution_count": 23,
   "metadata": {},
   "outputs": [],
   "source": [
    "from sklearn.metrics import mean_squared_error"
   ]
  },
  {
   "cell_type": "code",
   "execution_count": 24,
   "metadata": {},
   "outputs": [
    {
     "data": {
      "text/plain": [
       "<AxesSubplot:title={'center':'RMSE: 3.104225324592648'}>"
      ]
     },
     "execution_count": 24,
     "metadata": {},
     "output_type": "execute_result"
    },
    {
     "data": {
      "image/png": "[encoded data removed]",
      "text/plain": [
       "<Figure size 432x288 with 1 Axes>"
      ]
     },
     "metadata": {
      "needs_background": "light"
     },
     "output_type": "display_data"
    }
   ],
   "source": [
    "predicted_train_df.plot(title=f\"RMSE: {mean_squared_error(predicted_train_df['Actual Temperature'], predicted_train_df['Predicted Temperature'], squared=False)}\")"
   ]
  },
  {
   "cell_type": "code",
   "execution_count": 25,
   "metadata": {},
   "outputs": [
    {
     "data": {
      "text/plain": [
       "<AxesSubplot:title={'center':'RMSE:2.8019254817167223'}>"
      ]
     },
     "execution_count": 25,
     "metadata": {},
     "output_type": "execute_result"
    },
    {
     "data": {
      "image/png": "[encoded data removed]",
      "text/plain": [
       "<Figure size 432x288 with 1 Axes>"
      ]
     },
     "metadata": {
      "needs_background": "light"
     },
     "output_type": "display_data"
    }
   ],
   "source": [
    "predicted_val_df.plot(title = f\"RMSE:{mean_squared_error(predicted_val_df['Actual Temperature'], predicted_val_df['Predicted Temperature'], squared=False)}\")"
   ]
  },
  {
   "cell_type": "code",
   "execution_count": 26,
   "metadata": {},
   "outputs": [
    {
     "data": {
      "text/plain": [
       "<AxesSubplot:title={'center':'RMSE:3.789929251477931'}>"
      ]
     },
     "execution_count": 26,
     "metadata": {},
     "output_type": "execute_result"
    },
    {
     "data": {
      "image/png": "[encoded data removed]",
      "text/plain": [
       "<Figure size 432x288 with 1 Axes>"
      ]
     },
     "metadata": {
      "needs_background": "light"
     },
     "output_type": "display_data"
    }
   ],
   "source": [
    "predicted_test_df.plot(title = f\"RMSE:{mean_squared_error(predicted_test_df['Actual Temperature'], predicted_test_df['Predicted Temperature'], squared=False)}\")\n"
   ]
  },
  {
   "attachments": {},
   "cell_type": "markdown",
   "metadata": {},
   "source": [
    "Increasing the number of input can lead to even less datapoints because the chance of finding a missing value in a sequence of length 11 is higher than that of length 5. RMSE improved slightly however. We will go with model 1 and meddel with this parameter once we establish other feature engineering tricks.\n",
    "Adding n days from earlier could have been a good choice. Try to do it according to the perizicity. Like 1 to 7,13,14,15,20,21,22,27,28,29. This take 1 month major data into account along with the recent data. Try it as model 4"
   ]
  }
 ],
 "metadata": {
  "kernelspec": {
   "display_name": "base",
   "language": "python",
   "name": "python3"
  },
  "language_info": {
   "codemirror_mode": {
    "name": "ipython",
    "version": 3
   },
   "file_extension": ".py",
   "mimetype": "text/x-python",
   "name": "python",
   "nbconvert_exporter": "python",
   "pygments_lexer": "ipython3",
   "version": "3.9.12"
  },
  "orig_nbformat": 4,
  "vscode": {
   "interpreter": {
    "hash": "b9baaabb7af3f92ae09d746be89d264ca11beda4dade21bcf0e4e74ca662ee82"
   }
  }
 },
 "nbformat": 4,
 "nbformat_minor": 2
}
