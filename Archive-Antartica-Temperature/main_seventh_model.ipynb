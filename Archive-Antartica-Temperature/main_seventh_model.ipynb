{
 "cells": [
  {
   "attachments": {},
   "cell_type": "markdown",
   "metadata": {},
   "source": [
    "# Notebook 6: Trying with last periodicity of 1,2"
   ]
  },
  {
   "attachments": {},
   "cell_type": "markdown",
   "metadata": {},
   "source": [
    "# Data\n",
    "\n",
    "The data is downloaded from NATIONAL CENTRE FOR POLAR AND OCEAN RESEARCH, India: http://data.ncaor.gov.in/newhtml"
   ]
  },
  {
   "attachments": {},
   "cell_type": "markdown",
   "metadata": {},
   "source": [
    "# Dataset Info"
   ]
  },
  {
   "cell_type": "code",
   "execution_count": 1,
   "metadata": {},
   "outputs": [
    {
     "name": "stdout",
     "output_type": "stream",
     "text": [
      "\n",
      " ----------------------Synoptic Data-------------------------------------------------------------------\n",
      " \n",
      " Measurements/ data\t: Synoptic\n",
      " Parameters\t\t: Observation Time,  wind direction, wind speed, temparature, MSLP\n",
      " Duration\t\t: 05-05-2016 to\t02-08-2021\n",
      " Location\t\t: Bharati\n",
      " Latitude and Longitude\t: 69Â°24.41'S, 76Â°11.72'E\n",
      " Data file format\t: ASCII\n",
      " \n",
      " ------------------------------------------------------------------------------------------------------\n",
      " \n",
      " \n",
      " \n",
      "\n"
     ]
    }
   ],
   "source": [
    "with open('b_imdncpor_synoptic.txt') as f:\n",
    "    print(' '.join(f.readlines()))"
   ]
  },
  {
   "cell_type": "code",
   "execution_count": 2,
   "metadata": {},
   "outputs": [],
   "source": [
    "import seaborn as sns\n",
    "from matplotlib import pyplot as plt\n",
    "import pandas as pd\n",
    "import numpy as np"
   ]
  },
  {
   "cell_type": "code",
   "execution_count": 3,
   "metadata": {},
   "outputs": [
    {
     "data": {
      "text/html": [
       "<div>\n",
       "<style scoped>\n",
       "    .dataframe tbody tr th:only-of-type {\n",
       "        vertical-align: middle;\n",
       "    }\n",
       "\n",
       "    .dataframe tbody tr th {\n",
       "        vertical-align: top;\n",
       "    }\n",
       "\n",
       "    .dataframe thead th {\n",
       "        text-align: right;\n",
       "    }\n",
       "</style>\n",
       "<table border=\"1\" class=\"dataframe\">\n",
       "  <thead>\n",
       "    <tr style=\"text-align: right;\">\n",
       "      <th></th>\n",
       "      <th>Time</th>\n",
       "      <th>WindDirection</th>\n",
       "      <th>WindSpeed</th>\n",
       "      <th>Temperature</th>\n",
       "      <th>Pressure</th>\n",
       "    </tr>\n",
       "  </thead>\n",
       "  <tbody>\n",
       "    <tr>\n",
       "      <th>0</th>\n",
       "      <td>2016-05-01 00:00:00</td>\n",
       "      <td>5</td>\n",
       "      <td>8.0</td>\n",
       "      <td>-21.5</td>\n",
       "      <td>981.1</td>\n",
       "    </tr>\n",
       "    <tr>\n",
       "      <th>1</th>\n",
       "      <td>2016-05-22 00:00:00</td>\n",
       "      <td>0</td>\n",
       "      <td>0.0</td>\n",
       "      <td>-19.4</td>\n",
       "      <td>986.1</td>\n",
       "    </tr>\n",
       "    <tr>\n",
       "      <th>2</th>\n",
       "      <td>2016-05-22 06:00:00</td>\n",
       "      <td>9</td>\n",
       "      <td>10.0</td>\n",
       "      <td>-16.6</td>\n",
       "      <td>980.4</td>\n",
       "    </tr>\n",
       "    <tr>\n",
       "      <th>3</th>\n",
       "      <td>2016-05-22 12:00:00</td>\n",
       "      <td>9</td>\n",
       "      <td>9.0</td>\n",
       "      <td>-17.4</td>\n",
       "      <td>973.4</td>\n",
       "    </tr>\n",
       "    <tr>\n",
       "      <th>4</th>\n",
       "      <td>2016-05-22 18:00:00</td>\n",
       "      <td>5</td>\n",
       "      <td>13.0</td>\n",
       "      <td>-17.4</td>\n",
       "      <td>970.7</td>\n",
       "    </tr>\n",
       "  </tbody>\n",
       "</table>\n",
       "</div>"
      ],
      "text/plain": [
       "                 Time  WindDirection  WindSpeed  Temperature  Pressure\n",
       "0 2016-05-01 00:00:00              5        8.0        -21.5     981.1\n",
       "1 2016-05-22 00:00:00              0        0.0        -19.4     986.1\n",
       "2 2016-05-22 06:00:00              9       10.0        -16.6     980.4\n",
       "3 2016-05-22 12:00:00              9        9.0        -17.4     973.4\n",
       "4 2016-05-22 18:00:00              5       13.0        -17.4     970.7"
      ]
     },
     "execution_count": 3,
     "metadata": {},
     "output_type": "execute_result"
    }
   ],
   "source": [
    "df = pd.read_csv('synoptic_bharati.csv')\n",
    "df.Time = pd.to_datetime(df.Time)\n",
    "df.head()"
   ]
  },
  {
   "cell_type": "code",
   "execution_count": 4,
   "metadata": {},
   "outputs": [
    {
     "data": {
      "text/html": [
       "<div>\n",
       "<style scoped>\n",
       "    .dataframe tbody tr th:only-of-type {\n",
       "        vertical-align: middle;\n",
       "    }\n",
       "\n",
       "    .dataframe tbody tr th {\n",
       "        vertical-align: top;\n",
       "    }\n",
       "\n",
       "    .dataframe thead th {\n",
       "        text-align: right;\n",
       "    }\n",
       "</style>\n",
       "<table border=\"1\" class=\"dataframe\">\n",
       "  <thead>\n",
       "    <tr style=\"text-align: right;\">\n",
       "      <th></th>\n",
       "      <th>Time</th>\n",
       "    </tr>\n",
       "  </thead>\n",
       "  <tbody>\n",
       "    <tr>\n",
       "      <th>0</th>\n",
       "      <td>2016-05-01 00:00:00</td>\n",
       "    </tr>\n",
       "    <tr>\n",
       "      <th>1</th>\n",
       "      <td>2016-05-01 06:00:00</td>\n",
       "    </tr>\n",
       "    <tr>\n",
       "      <th>2</th>\n",
       "      <td>2016-05-01 12:00:00</td>\n",
       "    </tr>\n",
       "    <tr>\n",
       "      <th>3</th>\n",
       "      <td>2016-05-01 18:00:00</td>\n",
       "    </tr>\n",
       "    <tr>\n",
       "      <th>4</th>\n",
       "      <td>2016-05-02 00:00:00</td>\n",
       "    </tr>\n",
       "  </tbody>\n",
       "</table>\n",
       "</div>"
      ],
      "text/plain": [
       "                 Time\n",
       "0 2016-05-01 00:00:00\n",
       "1 2016-05-01 06:00:00\n",
       "2 2016-05-01 12:00:00\n",
       "3 2016-05-01 18:00:00\n",
       "4 2016-05-02 00:00:00"
      ]
     },
     "execution_count": 4,
     "metadata": {},
     "output_type": "execute_result"
    }
   ],
   "source": [
    "min_time = df.Time.min()\n",
    "max_time = df.Time.max()\n",
    "weather_data = pd.DataFrame(pd.date_range(min_time,max_time, freq='6H'), columns=['Time'])\n",
    "weather_data.head()"
   ]
  },
  {
   "attachments": {},
   "cell_type": "markdown",
   "metadata": {},
   "source": [
    "https://pandas.pydata.org/pandas-docs/stable/user_guide/timeseries.html#offset-aliases\n",
    "\n",
    "https://pandas.pydata.org/docs/reference/api/pandas.DataFrame.asfreq.html"
   ]
  },
  {
   "cell_type": "code",
   "execution_count": 5,
   "metadata": {},
   "outputs": [
    {
     "data": {
      "text/plain": [
       "Time                0\n",
       "WindDirection    1906\n",
       "WindSpeed        2013\n",
       "Temperature      1922\n",
       "Pressure         2268\n",
       "dtype: int64"
      ]
     },
     "execution_count": 5,
     "metadata": {},
     "output_type": "execute_result"
    }
   ],
   "source": [
    "weather_data = pd.merge(weather_data, df, on='Time', how='left')\n",
    "weather_data.isna().sum()"
   ]
  },
  {
   "cell_type": "code",
   "execution_count": 6,
   "metadata": {},
   "outputs": [],
   "source": [
    "weather_data = weather_data.loc[2715:6000] # Through manual inspection and checking"
   ]
  },
  {
   "attachments": {},
   "cell_type": "markdown",
   "metadata": {},
   "source": [
    "Using Temperature data to forecast future temperature."
   ]
  },
  {
   "cell_type": "code",
   "execution_count": 7,
   "metadata": {},
   "outputs": [
    {
     "data": {
      "text/html": [
       "<div>\n",
       "<style scoped>\n",
       "    .dataframe tbody tr th:only-of-type {\n",
       "        vertical-align: middle;\n",
       "    }\n",
       "\n",
       "    .dataframe tbody tr th {\n",
       "        vertical-align: top;\n",
       "    }\n",
       "\n",
       "    .dataframe thead th {\n",
       "        text-align: right;\n",
       "    }\n",
       "</style>\n",
       "<table border=\"1\" class=\"dataframe\">\n",
       "  <thead>\n",
       "    <tr style=\"text-align: right;\">\n",
       "      <th></th>\n",
       "      <th>Temperature</th>\n",
       "    </tr>\n",
       "  </thead>\n",
       "  <tbody>\n",
       "    <tr>\n",
       "      <th>2715</th>\n",
       "      <td>-14.6</td>\n",
       "    </tr>\n",
       "    <tr>\n",
       "      <th>2716</th>\n",
       "      <td>-17.2</td>\n",
       "    </tr>\n",
       "    <tr>\n",
       "      <th>2717</th>\n",
       "      <td>-14.0</td>\n",
       "    </tr>\n",
       "    <tr>\n",
       "      <th>2718</th>\n",
       "      <td>-15.5</td>\n",
       "    </tr>\n",
       "    <tr>\n",
       "      <th>2719</th>\n",
       "      <td>-16.8</td>\n",
       "    </tr>\n",
       "  </tbody>\n",
       "</table>\n",
       "</div>"
      ],
      "text/plain": [
       "      Temperature\n",
       "2715        -14.6\n",
       "2716        -17.2\n",
       "2717        -14.0\n",
       "2718        -15.5\n",
       "2719        -16.8"
      ]
     },
     "execution_count": 7,
     "metadata": {},
     "output_type": "execute_result"
    }
   ],
   "source": [
    "temp_df = weather_data[['Temperature']].copy()\n",
    "temp_df.head()"
   ]
  },
  {
   "cell_type": "code",
   "execution_count": 8,
   "metadata": {},
   "outputs": [
    {
     "data": {
      "image/png": "[encoded data removed]",
      "text/plain": [
       "<Figure size 1800x288 with 1 Axes>"
      ]
     },
     "metadata": {
      "needs_background": "light"
     },
     "output_type": "display_data"
    }
   ],
   "source": [
    "weather_data.Temperature.plot(figsize=(25,4), title='Temperature Variation with Time')\n",
    "plt.show()"
   ]
  },
  {
   "attachments": {},
   "cell_type": "markdown",
   "metadata": {},
   "source": [
    "We can see highest temperature around january and lowet temperatures around July to October."
   ]
  },
  {
   "cell_type": "code",
   "execution_count": 9,
   "metadata": {},
   "outputs": [],
   "source": [
    "def simple_x_y_splitter(dataframe, col, prev_n_days=[]):\n",
    "    df = dataframe.copy()\n",
    "    for lag in prev_n_days:\n",
    "        df[f'lag_{lag}'] = df[col].shift(lag)\n",
    "    df.dropna(inplace=True)\n",
    "    y = df[col].values\n",
    "    X = df.drop([col], axis=1).values\n",
    "    return np.expand_dims(X,2), y"
   ]
  },
  {
   "cell_type": "code",
   "execution_count": 10,
   "metadata": {},
   "outputs": [],
   "source": [
    "X, y = simple_x_y_splitter(temp_df, 'Temperature',prev_n_days=[1,2])"
   ]
  },
  {
   "cell_type": "code",
   "execution_count": 11,
   "metadata": {},
   "outputs": [
    {
     "data": {
      "text/plain": [
       "array([-14. , -15.5, -16.8, ..., -11.5,  -7.9,  -6.4])"
      ]
     },
     "execution_count": 11,
     "metadata": {},
     "output_type": "execute_result"
    }
   ],
   "source": [
    "y"
   ]
  },
  {
   "cell_type": "code",
   "execution_count": 12,
   "metadata": {},
   "outputs": [
    {
     "data": {
      "text/plain": [
       "array([[[-17.2],\n",
       "        [-14.6]],\n",
       "\n",
       "       [[-14. ],\n",
       "        [-17.2]],\n",
       "\n",
       "       [[-15.5],\n",
       "        [-14. ]],\n",
       "\n",
       "       ...,\n",
       "\n",
       "       [[-10. ],\n",
       "        [ -9.6]],\n",
       "\n",
       "       [[-11.5],\n",
       "        [-10. ]],\n",
       "\n",
       "       [[ -7.9],\n",
       "        [-11.5]]])"
      ]
     },
     "execution_count": 12,
     "metadata": {},
     "output_type": "execute_result"
    }
   ],
   "source": [
    "X"
   ]
  },
  {
   "cell_type": "code",
   "execution_count": 13,
   "metadata": {},
   "outputs": [
    {
     "data": {
      "text/plain": [
       "(2259,)"
      ]
     },
     "execution_count": 13,
     "metadata": {},
     "output_type": "execute_result"
    }
   ],
   "source": [
    "y.shape"
   ]
  },
  {
   "attachments": {},
   "cell_type": "markdown",
   "metadata": {},
   "source": [
    "# Temporal splitting"
   ]
  },
  {
   "cell_type": "code",
   "execution_count": 14,
   "metadata": {},
   "outputs": [
    {
     "name": "stdout",
     "output_type": "stream",
     "text": [
      "1581 1920\n"
     ]
    }
   ],
   "source": [
    "train_val_split_idx, val_test_split_idx = int(X.shape[0]*.7), int(X.shape[0]*.85)\n",
    "print(train_val_split_idx, val_test_split_idx)\n",
    "X_train, y_train = X[:train_val_split_idx], y[:train_val_split_idx]\n",
    "X_val, y_val = X[train_val_split_idx:val_test_split_idx], y[train_val_split_idx:val_test_split_idx]\n",
    "X_test, y_test = X[val_test_split_idx:], y[val_test_split_idx:]"
   ]
  },
  {
   "attachments": {},
   "cell_type": "markdown",
   "metadata": {},
   "source": [
    "# Standardization"
   ]
  },
  {
   "cell_type": "code",
   "execution_count": 15,
   "metadata": {},
   "outputs": [],
   "source": [
    "X_train_mean = X_train.mean()\n",
    "X_train_sd= X_train.std()\n",
    "y_train_mean = y_train.mean()\n",
    "y_train_sd= y_train.std()\n",
    "\n",
    "def standardize(x, y):\n",
    "    x_std = (x-X_train_mean)/X_train_sd\n",
    "    y_std = (y-y_train_mean)/y_train_sd\n",
    "    return x_std, y_std\n",
    "\n",
    "X_train_std, y_train_std = standardize(X_train, y_train)\n",
    "X_val_std, y_val_std = standardize(X_val, y_val)\n",
    "X_test_std, y_test_std = standardize(X_test, y_test)"
   ]
  },
  {
   "attachments": {},
   "cell_type": "markdown",
   "metadata": {},
   "source": [
    "# LSTM Model 1"
   ]
  },
  {
   "cell_type": "code",
   "execution_count": 16,
   "metadata": {},
   "outputs": [],
   "source": [
    "from tensorflow.keras.layers import *\n",
    "from tensorflow.keras.models import Sequential\n",
    "from tensorflow.keras.optimizers import Adam\n",
    "from tensorflow.keras.callbacks import ModelCheckpoint\n",
    "from tensorflow.keras.losses import MeanSquaredError\n",
    "from tensorflow.keras.metrics import RootMeanSquaredError"
   ]
  },
  {
   "cell_type": "code",
   "execution_count": 17,
   "metadata": {},
   "outputs": [],
   "source": [
    "from tensorflow.keras.callbacks import TensorBoard\n",
    "\n",
    "tb1 = TensorBoard(\n",
    "    log_dir='logs5',\n",
    "    histogram_freq=0,\n",
    "    write_graph=True,\n",
    "    write_images=False,\n",
    "    write_steps_per_second=False,\n",
    "    update_freq='epoch',\n",
    "    profile_batch=0,\n",
    "    embeddings_freq=0,\n",
    "    embeddings_metadata=None\n",
    ")"
   ]
  },
  {
   "cell_type": "code",
   "execution_count": 21,
   "metadata": {},
   "outputs": [
    {
     "name": "stdout",
     "output_type": "stream",
     "text": [
      "Model: \"sequential_1\"\n",
      "_________________________________________________________________\n",
      " Layer (type)                Output Shape              Param #   \n",
      "=================================================================\n",
      " lstm_1 (LSTM)               (None, 64)                16896     \n",
      "                                                                 \n",
      " dense_2 (Dense)             (None, 8)                 520       \n",
      "                                                                 \n",
      " dense_3 (Dense)             (None, 1)                 9         \n",
      "                                                                 \n",
      "=================================================================\n",
      "Total params: 17,425\n",
      "Trainable params: 17,425\n",
      "Non-trainable params: 0\n",
      "_________________________________________________________________\n"
     ]
    }
   ],
   "source": [
    "model1 = Sequential()\n",
    "model1.add(InputLayer((2,1)))\n",
    "model1.add(LSTM(64))\n",
    "model1.add(Dense(8,'relu'))\n",
    "model1.add(Dense(1,'linear'))\n",
    "model1.summary()"
   ]
  },
  {
   "cell_type": "code",
   "execution_count": 22,
   "metadata": {},
   "outputs": [],
   "source": [
    "cp1 = ModelCheckpoint('model5/', save_best_only=True)\n",
    "model1.compile(loss=MeanSquaredError(), optimizer=Adam(learning_rate=0.001), metrics=[RootMeanSquaredError()])"
   ]
  },
  {
   "cell_type": "code",
   "execution_count": 23,
   "metadata": {},
   "outputs": [
    {
     "name": "stdout",
     "output_type": "stream",
     "text": [
      "Epoch 1/50\n",
      "42/50 [========================>.....] - ETA: 0s - loss: 151.2448 - root_mean_squared_error: 12.2982"
     ]
    },
    {
     "name": "stderr",
     "output_type": "stream",
     "text": [
      "WARNING:absl:Found untraced functions such as lstm_cell_1_layer_call_fn, lstm_cell_1_layer_call_and_return_conditional_losses while saving (showing 2 of 2). These functions will not be directly callable after loading.\n"
     ]
    },
    {
     "name": "stdout",
     "output_type": "stream",
     "text": [
      "INFO:tensorflow:Assets written to: model5\\assets\n"
     ]
    },
    {
     "name": "stderr",
     "output_type": "stream",
     "text": [
      "INFO:tensorflow:Assets written to: model5\\assets\n"
     ]
    },
    {
     "name": "stdout",
     "output_type": "stream",
     "text": [
      "50/50 [==============================] - 24s 324ms/step - loss: 150.0052 - root_mean_squared_error: 12.2477 - val_loss: 32.5132 - val_root_mean_squared_error: 5.7020\n",
      "Epoch 2/50\n",
      "49/50 [============================>.] - ETA: 0s - loss: 108.3194 - root_mean_squared_error: 10.4077"
     ]
    },
    {
     "name": "stderr",
     "output_type": "stream",
     "text": [
      "WARNING:absl:Found untraced functions such as lstm_cell_1_layer_call_fn, lstm_cell_1_layer_call_and_return_conditional_losses while saving (showing 2 of 2). These functions will not be directly callable after loading.\n"
     ]
    },
    {
     "name": "stdout",
     "output_type": "stream",
     "text": [
      "INFO:tensorflow:Assets written to: model5\\assets\n"
     ]
    },
    {
     "name": "stderr",
     "output_type": "stream",
     "text": [
      "INFO:tensorflow:Assets written to: model5\\assets\n"
     ]
    },
    {
     "name": "stdout",
     "output_type": "stream",
     "text": [
      "50/50 [==============================] - 17s 356ms/step - loss: 108.1705 - root_mean_squared_error: 10.4005 - val_loss: 18.6316 - val_root_mean_squared_error: 4.3164\n",
      "Epoch 3/50\n",
      "47/50 [===========================>..] - ETA: 0s - loss: 54.8836 - root_mean_squared_error: 7.4083"
     ]
    },
    {
     "name": "stderr",
     "output_type": "stream",
     "text": [
      "WARNING:absl:Found untraced functions such as lstm_cell_1_layer_call_fn, lstm_cell_1_layer_call_and_return_conditional_losses while saving (showing 2 of 2). These functions will not be directly callable after loading.\n"
     ]
    },
    {
     "name": "stdout",
     "output_type": "stream",
     "text": [
      "INFO:tensorflow:Assets written to: model5\\assets\n"
     ]
    },
    {
     "name": "stderr",
     "output_type": "stream",
     "text": [
      "INFO:tensorflow:Assets written to: model5\\assets\n"
     ]
    },
    {
     "name": "stdout",
     "output_type": "stream",
     "text": [
      "50/50 [==============================] - 15s 314ms/step - loss: 53.8029 - root_mean_squared_error: 7.3350 - val_loss: 12.4045 - val_root_mean_squared_error: 3.5220\n",
      "Epoch 4/50\n",
      "42/50 [========================>.....] - ETA: 0s - loss: 27.8632 - root_mean_squared_error: 5.2786"
     ]
    },
    {
     "name": "stderr",
     "output_type": "stream",
     "text": [
      "WARNING:absl:Found untraced functions such as lstm_cell_1_layer_call_fn, lstm_cell_1_layer_call_and_return_conditional_losses while saving (showing 2 of 2). These functions will not be directly callable after loading.\n"
     ]
    },
    {
     "name": "stdout",
     "output_type": "stream",
     "text": [
      "INFO:tensorflow:Assets written to: model5\\assets\n"
     ]
    },
    {
     "name": "stderr",
     "output_type": "stream",
     "text": [
      "INFO:tensorflow:Assets written to: model5\\assets\n"
     ]
    },
    {
     "name": "stdout",
     "output_type": "stream",
     "text": [
      "50/50 [==============================] - 23s 460ms/step - loss: 27.1763 - root_mean_squared_error: 5.2131 - val_loss: 9.1045 - val_root_mean_squared_error: 3.0174\n",
      "Epoch 5/50\n",
      "48/50 [===========================>..] - ETA: 0s - loss: 17.1738 - root_mean_squared_error: 4.1441"
     ]
    },
    {
     "name": "stderr",
     "output_type": "stream",
     "text": [
      "WARNING:absl:Found untraced functions such as lstm_cell_1_layer_call_fn, lstm_cell_1_layer_call_and_return_conditional_losses while saving (showing 2 of 2). These functions will not be directly callable after loading.\n"
     ]
    },
    {
     "name": "stdout",
     "output_type": "stream",
     "text": [
      "INFO:tensorflow:Assets written to: model5\\assets\n"
     ]
    },
    {
     "name": "stderr",
     "output_type": "stream",
     "text": [
      "INFO:tensorflow:Assets written to: model5\\assets\n"
     ]
    },
    {
     "name": "stdout",
     "output_type": "stream",
     "text": [
      "50/50 [==============================] - 45s 914ms/step - loss: 17.1758 - root_mean_squared_error: 4.1444 - val_loss: 6.9642 - val_root_mean_squared_error: 2.6390\n",
      "Epoch 6/50\n",
      "44/50 [=========================>....] - ETA: 0s - loss: 12.0699 - root_mean_squared_error: 3.4742"
     ]
    },
    {
     "name": "stderr",
     "output_type": "stream",
     "text": [
      "WARNING:absl:Found untraced functions such as lstm_cell_1_layer_call_fn, lstm_cell_1_layer_call_and_return_conditional_losses while saving (showing 2 of 2). These functions will not be directly callable after loading.\n"
     ]
    },
    {
     "name": "stdout",
     "output_type": "stream",
     "text": [
      "INFO:tensorflow:Assets written to: model5\\assets\n"
     ]
    },
    {
     "name": "stderr",
     "output_type": "stream",
     "text": [
      "INFO:tensorflow:Assets written to: model5\\assets\n"
     ]
    },
    {
     "name": "stdout",
     "output_type": "stream",
     "text": [
      "50/50 [==============================] - 23s 462ms/step - loss: 12.0803 - root_mean_squared_error: 3.4757 - val_loss: 6.2262 - val_root_mean_squared_error: 2.4952\n",
      "Epoch 7/50\n",
      "44/50 [=========================>....] - ETA: 0s - loss: 9.3946 - root_mean_squared_error: 3.0651"
     ]
    },
    {
     "name": "stderr",
     "output_type": "stream",
     "text": [
      "WARNING:absl:Found untraced functions such as lstm_cell_1_layer_call_fn, lstm_cell_1_layer_call_and_return_conditional_losses while saving (showing 2 of 2). These functions will not be directly callable after loading.\n"
     ]
    },
    {
     "name": "stdout",
     "output_type": "stream",
     "text": [
      "INFO:tensorflow:Assets written to: model5\\assets\n"
     ]
    },
    {
     "name": "stderr",
     "output_type": "stream",
     "text": [
      "INFO:tensorflow:Assets written to: model5\\assets\n"
     ]
    },
    {
     "name": "stdout",
     "output_type": "stream",
     "text": [
      "50/50 [==============================] - 23s 466ms/step - loss: 9.5672 - root_mean_squared_error: 3.0931 - val_loss: 5.8718 - val_root_mean_squared_error: 2.4232\n",
      "Epoch 8/50\n",
      "47/50 [===========================>..] - ETA: 0s - loss: 8.1467 - root_mean_squared_error: 2.8542"
     ]
    },
    {
     "name": "stderr",
     "output_type": "stream",
     "text": [
      "WARNING:absl:Found untraced functions such as lstm_cell_1_layer_call_fn, lstm_cell_1_layer_call_and_return_conditional_losses while saving (showing 2 of 2). These functions will not be directly callable after loading.\n"
     ]
    },
    {
     "name": "stdout",
     "output_type": "stream",
     "text": [
      "INFO:tensorflow:Assets written to: model5\\assets\n"
     ]
    },
    {
     "name": "stderr",
     "output_type": "stream",
     "text": [
      "INFO:tensorflow:Assets written to: model5\\assets\n"
     ]
    },
    {
     "name": "stdout",
     "output_type": "stream",
     "text": [
      "50/50 [==============================] - 25s 510ms/step - loss: 8.2242 - root_mean_squared_error: 2.8678 - val_loss: 5.5619 - val_root_mean_squared_error: 2.3584\n",
      "Epoch 9/50\n",
      "46/50 [==========================>...] - ETA: 0s - loss: 7.3220 - root_mean_squared_error: 2.7059"
     ]
    },
    {
     "name": "stderr",
     "output_type": "stream",
     "text": [
      "WARNING:absl:Found untraced functions such as lstm_cell_1_layer_call_fn, lstm_cell_1_layer_call_and_return_conditional_losses while saving (showing 2 of 2). These functions will not be directly callable after loading.\n"
     ]
    },
    {
     "name": "stdout",
     "output_type": "stream",
     "text": [
      "INFO:tensorflow:Assets written to: model5\\assets\n"
     ]
    },
    {
     "name": "stderr",
     "output_type": "stream",
     "text": [
      "INFO:tensorflow:Assets written to: model5\\assets\n"
     ]
    },
    {
     "name": "stdout",
     "output_type": "stream",
     "text": [
      "50/50 [==============================] - 15s 296ms/step - loss: 7.2371 - root_mean_squared_error: 2.6902 - val_loss: 5.3261 - val_root_mean_squared_error: 2.3078\n",
      "Epoch 10/50\n",
      "42/50 [========================>.....] - ETA: 0s - loss: 6.6130 - root_mean_squared_error: 2.5716"
     ]
    },
    {
     "name": "stderr",
     "output_type": "stream",
     "text": [
      "WARNING:absl:Found untraced functions such as lstm_cell_1_layer_call_fn, lstm_cell_1_layer_call_and_return_conditional_losses while saving (showing 2 of 2). These functions will not be directly callable after loading.\n"
     ]
    },
    {
     "name": "stdout",
     "output_type": "stream",
     "text": [
      "INFO:tensorflow:Assets written to: model5\\assets\n"
     ]
    },
    {
     "name": "stderr",
     "output_type": "stream",
     "text": [
      "INFO:tensorflow:Assets written to: model5\\assets\n"
     ]
    },
    {
     "name": "stdout",
     "output_type": "stream",
     "text": [
      "50/50 [==============================] - 16s 331ms/step - loss: 6.5138 - root_mean_squared_error: 2.5522 - val_loss: 5.0298 - val_root_mean_squared_error: 2.2427\n",
      "Epoch 11/50\n",
      "45/50 [==========================>...] - ETA: 0s - loss: 5.9641 - root_mean_squared_error: 2.4421"
     ]
    },
    {
     "name": "stderr",
     "output_type": "stream",
     "text": [
      "WARNING:absl:Found untraced functions such as lstm_cell_1_layer_call_fn, lstm_cell_1_layer_call_and_return_conditional_losses while saving (showing 2 of 2). These functions will not be directly callable after loading.\n"
     ]
    },
    {
     "name": "stdout",
     "output_type": "stream",
     "text": [
      "INFO:tensorflow:Assets written to: model5\\assets\n"
     ]
    },
    {
     "name": "stderr",
     "output_type": "stream",
     "text": [
      "INFO:tensorflow:Assets written to: model5\\assets\n"
     ]
    },
    {
     "name": "stdout",
     "output_type": "stream",
     "text": [
      "50/50 [==============================] - 15s 303ms/step - loss: 5.9075 - root_mean_squared_error: 2.4305 - val_loss: 4.8673 - val_root_mean_squared_error: 2.2062\n",
      "Epoch 12/50\n",
      "47/50 [===========================>..] - ETA: 0s - loss: 5.4636 - root_mean_squared_error: 2.3374"
     ]
    },
    {
     "name": "stderr",
     "output_type": "stream",
     "text": [
      "WARNING:absl:Found untraced functions such as lstm_cell_1_layer_call_fn, lstm_cell_1_layer_call_and_return_conditional_losses while saving (showing 2 of 2). These functions will not be directly callable after loading.\n"
     ]
    },
    {
     "name": "stdout",
     "output_type": "stream",
     "text": [
      "INFO:tensorflow:Assets written to: model5\\assets\n"
     ]
    },
    {
     "name": "stderr",
     "output_type": "stream",
     "text": [
      "INFO:tensorflow:Assets written to: model5\\assets\n"
     ]
    },
    {
     "name": "stdout",
     "output_type": "stream",
     "text": [
      "50/50 [==============================] - 19s 381ms/step - loss: 5.4501 - root_mean_squared_error: 2.3346 - val_loss: 4.7406 - val_root_mean_squared_error: 2.1773\n",
      "Epoch 13/50\n",
      "48/50 [===========================>..] - ETA: 0s - loss: 5.1459 - root_mean_squared_error: 2.2684"
     ]
    },
    {
     "name": "stderr",
     "output_type": "stream",
     "text": [
      "WARNING:absl:Found untraced functions such as lstm_cell_1_layer_call_fn, lstm_cell_1_layer_call_and_return_conditional_losses while saving (showing 2 of 2). These functions will not be directly callable after loading.\n"
     ]
    },
    {
     "name": "stdout",
     "output_type": "stream",
     "text": [
      "INFO:tensorflow:Assets written to: model5\\assets\n"
     ]
    },
    {
     "name": "stderr",
     "output_type": "stream",
     "text": [
      "INFO:tensorflow:Assets written to: model5\\assets\n"
     ]
    },
    {
     "name": "stdout",
     "output_type": "stream",
     "text": [
      "50/50 [==============================] - 20s 409ms/step - loss: 5.1673 - root_mean_squared_error: 2.2732 - val_loss: 4.7147 - val_root_mean_squared_error: 2.1713\n",
      "Epoch 14/50\n",
      "50/50 [==============================] - 0s 10ms/step - loss: 5.0799 - root_mean_squared_error: 2.2539 - val_loss: 4.7422 - val_root_mean_squared_error: 2.1777\n",
      "Epoch 15/50\n",
      "50/50 [==============================] - ETA: 0s - loss: 4.9447 - root_mean_squared_error: 2.2237"
     ]
    },
    {
     "name": "stderr",
     "output_type": "stream",
     "text": [
      "WARNING:absl:Found untraced functions such as lstm_cell_1_layer_call_fn, lstm_cell_1_layer_call_and_return_conditional_losses while saving (showing 2 of 2). These functions will not be directly callable after loading.\n"
     ]
    },
    {
     "name": "stdout",
     "output_type": "stream",
     "text": [
      "INFO:tensorflow:Assets written to: model5\\assets\n"
     ]
    },
    {
     "name": "stderr",
     "output_type": "stream",
     "text": [
      "INFO:tensorflow:Assets written to: model5\\assets\n"
     ]
    },
    {
     "name": "stdout",
     "output_type": "stream",
     "text": [
      "50/50 [==============================] - 16s 328ms/step - loss: 4.9447 - root_mean_squared_error: 2.2237 - val_loss: 4.6606 - val_root_mean_squared_error: 2.1589\n",
      "Epoch 16/50\n",
      "48/50 [===========================>..] - ETA: 0s - loss: 4.7814 - root_mean_squared_error: 2.1866"
     ]
    },
    {
     "name": "stderr",
     "output_type": "stream",
     "text": [
      "WARNING:absl:Found untraced functions such as lstm_cell_1_layer_call_fn, lstm_cell_1_layer_call_and_return_conditional_losses while saving (showing 2 of 2). These functions will not be directly callable after loading.\n"
     ]
    },
    {
     "name": "stdout",
     "output_type": "stream",
     "text": [
      "INFO:tensorflow:Assets written to: model5\\assets\n"
     ]
    },
    {
     "name": "stderr",
     "output_type": "stream",
     "text": [
      "INFO:tensorflow:Assets written to: model5\\assets\n"
     ]
    },
    {
     "name": "stdout",
     "output_type": "stream",
     "text": [
      "50/50 [==============================] - 17s 350ms/step - loss: 4.8372 - root_mean_squared_error: 2.1994 - val_loss: 4.6432 - val_root_mean_squared_error: 2.1548\n",
      "Epoch 17/50\n",
      "50/50 [==============================] - 0s 9ms/step - loss: 4.6232 - root_mean_squared_error: 2.1502 - val_loss: 4.9123 - val_root_mean_squared_error: 2.2164\n",
      "Epoch 18/50\n",
      "50/50 [==============================] - 0s 9ms/step - loss: 4.5906 - root_mean_squared_error: 2.1426 - val_loss: 4.6471 - val_root_mean_squared_error: 2.1557\n",
      "Epoch 19/50\n",
      "50/50 [==============================] - 0s 9ms/step - loss: 4.5739 - root_mean_squared_error: 2.1387 - val_loss: 4.6862 - val_root_mean_squared_error: 2.1648\n",
      "Epoch 20/50\n",
      "45/50 [==========================>...] - ETA: 0s - loss: 4.4492 - root_mean_squared_error: 2.1093"
     ]
    },
    {
     "name": "stderr",
     "output_type": "stream",
     "text": [
      "WARNING:absl:Found untraced functions such as lstm_cell_1_layer_call_fn, lstm_cell_1_layer_call_and_return_conditional_losses while saving (showing 2 of 2). These functions will not be directly callable after loading.\n"
     ]
    },
    {
     "name": "stdout",
     "output_type": "stream",
     "text": [
      "INFO:tensorflow:Assets written to: model5\\assets\n"
     ]
    },
    {
     "name": "stderr",
     "output_type": "stream",
     "text": [
      "INFO:tensorflow:Assets written to: model5\\assets\n"
     ]
    },
    {
     "name": "stdout",
     "output_type": "stream",
     "text": [
      "50/50 [==============================] - 15s 296ms/step - loss: 4.4472 - root_mean_squared_error: 2.1088 - val_loss: 4.6420 - val_root_mean_squared_error: 2.1545\n",
      "Epoch 21/50\n",
      "50/50 [==============================] - 0s 8ms/step - loss: 4.4235 - root_mean_squared_error: 2.1032 - val_loss: 4.6822 - val_root_mean_squared_error: 2.1638\n",
      "Epoch 22/50\n",
      "50/50 [==============================] - 0s 9ms/step - loss: 4.4015 - root_mean_squared_error: 2.0980 - val_loss: 4.6923 - val_root_mean_squared_error: 2.1662\n",
      "Epoch 23/50\n",
      "50/50 [==============================] - 1s 12ms/step - loss: 4.3493 - root_mean_squared_error: 2.0855 - val_loss: 4.7014 - val_root_mean_squared_error: 2.1683\n",
      "Epoch 24/50\n",
      "50/50 [==============================] - 0s 9ms/step - loss: 4.4349 - root_mean_squared_error: 2.1059 - val_loss: 4.7537 - val_root_mean_squared_error: 2.1803\n",
      "Epoch 25/50\n",
      "50/50 [==============================] - 0s 9ms/step - loss: 4.3948 - root_mean_squared_error: 2.0964 - val_loss: 4.7125 - val_root_mean_squared_error: 2.1708\n",
      "Epoch 26/50\n",
      "50/50 [==============================] - 0s 8ms/step - loss: 4.3257 - root_mean_squared_error: 2.0798 - val_loss: 4.6899 - val_root_mean_squared_error: 2.1656\n",
      "Epoch 27/50\n",
      "50/50 [==============================] - 0s 8ms/step - loss: 4.3109 - root_mean_squared_error: 2.0763 - val_loss: 4.7065 - val_root_mean_squared_error: 2.1694\n",
      "Epoch 28/50\n",
      "50/50 [==============================] - 0s 9ms/step - loss: 4.2798 - root_mean_squared_error: 2.0688 - val_loss: 4.7394 - val_root_mean_squared_error: 2.1770\n",
      "Epoch 29/50\n",
      "50/50 [==============================] - 0s 9ms/step - loss: 4.2984 - root_mean_squared_error: 2.0733 - val_loss: 4.6703 - val_root_mean_squared_error: 2.1611\n",
      "Epoch 30/50\n",
      "50/50 [==============================] - 0s 8ms/step - loss: 4.3223 - root_mean_squared_error: 2.0790 - val_loss: 4.7237 - val_root_mean_squared_error: 2.1734\n",
      "Epoch 31/50\n",
      "50/50 [==============================] - 0s 9ms/step - loss: 4.4154 - root_mean_squared_error: 2.1013 - val_loss: 4.8103 - val_root_mean_squared_error: 2.1932\n",
      "Epoch 32/50\n",
      "50/50 [==============================] - 0s 9ms/step - loss: 4.4292 - root_mean_squared_error: 2.1046 - val_loss: 4.7249 - val_root_mean_squared_error: 2.1737\n",
      "Epoch 33/50\n",
      "50/50 [==============================] - 0s 10ms/step - loss: 4.2849 - root_mean_squared_error: 2.0700 - val_loss: 4.6859 - val_root_mean_squared_error: 2.1647\n",
      "Epoch 34/50\n",
      "50/50 [==============================] - 1s 12ms/step - loss: 4.2148 - root_mean_squared_error: 2.0530 - val_loss: 4.7432 - val_root_mean_squared_error: 2.1779\n",
      "Epoch 35/50\n",
      "50/50 [==============================] - 0s 10ms/step - loss: 4.2386 - root_mean_squared_error: 2.0588 - val_loss: 4.6988 - val_root_mean_squared_error: 2.1677\n",
      "Epoch 36/50\n",
      "50/50 [==============================] - 1s 12ms/step - loss: 4.2200 - root_mean_squared_error: 2.0543 - val_loss: 4.7454 - val_root_mean_squared_error: 2.1784\n",
      "Epoch 37/50\n",
      "50/50 [==============================] - 1s 11ms/step - loss: 4.2346 - root_mean_squared_error: 2.0578 - val_loss: 4.7176 - val_root_mean_squared_error: 2.1720\n",
      "Epoch 38/50\n",
      "50/50 [==============================] - 1s 24ms/step - loss: 4.2553 - root_mean_squared_error: 2.0628 - val_loss: 4.6635 - val_root_mean_squared_error: 2.1595\n",
      "Epoch 39/50\n",
      "50/50 [==============================] - 0s 9ms/step - loss: 4.2013 - root_mean_squared_error: 2.0497 - val_loss: 4.7581 - val_root_mean_squared_error: 2.1813\n",
      "Epoch 40/50\n",
      "50/50 [==============================] - 0s 10ms/step - loss: 4.2303 - root_mean_squared_error: 2.0568 - val_loss: 4.7026 - val_root_mean_squared_error: 2.1685\n",
      "Epoch 41/50\n",
      "50/50 [==============================] - 1s 17ms/step - loss: 4.3474 - root_mean_squared_error: 2.0850 - val_loss: 4.6745 - val_root_mean_squared_error: 2.1621\n",
      "Epoch 42/50\n",
      "50/50 [==============================] - 1s 10ms/step - loss: 4.1763 - root_mean_squared_error: 2.0436 - val_loss: 4.7264 - val_root_mean_squared_error: 2.1740\n",
      "Epoch 43/50\n",
      "50/50 [==============================] - 0s 9ms/step - loss: 4.2634 - root_mean_squared_error: 2.0648 - val_loss: 4.6624 - val_root_mean_squared_error: 2.1593\n",
      "Epoch 44/50\n",
      "50/50 [==============================] - 0s 9ms/step - loss: 4.1424 - root_mean_squared_error: 2.0353 - val_loss: 4.7180 - val_root_mean_squared_error: 2.1721\n",
      "Epoch 45/50\n",
      "50/50 [==============================] - 0s 9ms/step - loss: 4.1366 - root_mean_squared_error: 2.0339 - val_loss: 4.7166 - val_root_mean_squared_error: 2.1718\n",
      "Epoch 46/50\n",
      "50/50 [==============================] - 0s 9ms/step - loss: 4.1737 - root_mean_squared_error: 2.0430 - val_loss: 4.7152 - val_root_mean_squared_error: 2.1715\n",
      "Epoch 47/50\n",
      "50/50 [==============================] - 0s 9ms/step - loss: 4.2881 - root_mean_squared_error: 2.0708 - val_loss: 4.7102 - val_root_mean_squared_error: 2.1703\n",
      "Epoch 48/50\n",
      "50/50 [==============================] - 0s 9ms/step - loss: 4.1564 - root_mean_squared_error: 2.0387 - val_loss: 4.8345 - val_root_mean_squared_error: 2.1988\n",
      "Epoch 49/50\n",
      "50/50 [==============================] - 0s 9ms/step - loss: 4.2323 - root_mean_squared_error: 2.0572 - val_loss: 4.6763 - val_root_mean_squared_error: 2.1625\n",
      "Epoch 50/50\n",
      "50/50 [==============================] - 0s 9ms/step - loss: 4.1580 - root_mean_squared_error: 2.0391 - val_loss: 4.7433 - val_root_mean_squared_error: 2.1779\n"
     ]
    },
    {
     "data": {
      "text/plain": [
       "<keras.callbacks.History at 0x233ef4f9df0>"
      ]
     },
     "execution_count": 23,
     "metadata": {},
     "output_type": "execute_result"
    }
   ],
   "source": [
    "model1.fit(X_train, y_train, validation_data=(X_val, y_val), epochs=50, callbacks=[cp1, tb1])"
   ]
  },
  {
   "cell_type": "code",
   "execution_count": 24,
   "metadata": {},
   "outputs": [],
   "source": [
    "def post_process(y):\n",
    "    return (X_train_sd*y)+X_train_mean"
   ]
  },
  {
   "cell_type": "code",
   "execution_count": 25,
   "metadata": {},
   "outputs": [],
   "source": [
    "from tensorflow.keras.models import load_model\n",
    "model1 = load_model('model5/')"
   ]
  },
  {
   "cell_type": "code",
   "execution_count": 26,
   "metadata": {},
   "outputs": [
    {
     "name": "stdout",
     "output_type": "stream",
     "text": [
      "11/11 [==============================] - 1s 3ms/step\n",
      "11/11 [==============================] - 0s 3ms/step\n",
      "50/50 [==============================] - 0s 3ms/step\n"
     ]
    }
   ],
   "source": [
    "predicted_test_df = pd.DataFrame({'Predicted Temperature':post_process(model1.predict(X_test_std).flatten()), 'Actual Temperature': y_test})\n",
    "predicted_val_df = pd.DataFrame({'Predicted Temperature':post_process(model1.predict(X_val_std).flatten()), 'Actual Temperature': y_val})\n",
    "predicted_train_df = pd.DataFrame({'Predicted Temperature':post_process(model1.predict(X_train_std).flatten()), 'Actual Temperature': y_train})"
   ]
  },
  {
   "cell_type": "code",
   "execution_count": 27,
   "metadata": {},
   "outputs": [],
   "source": [
    "from sklearn.metrics import mean_squared_error"
   ]
  },
  {
   "cell_type": "code",
   "execution_count": 28,
   "metadata": {},
   "outputs": [
    {
     "data": {
      "text/plain": [
       "<AxesSubplot:title={'center':'RMSE: 2.797422791587077'}>"
      ]
     },
     "execution_count": 28,
     "metadata": {},
     "output_type": "execute_result"
    },
    {
     "data": {
      "image/png": "[encoded data removed]",
      "text/plain": [
       "<Figure size 432x288 with 1 Axes>"
      ]
     },
     "metadata": {
      "needs_background": "light"
     },
     "output_type": "display_data"
    }
   ],
   "source": [
    "predicted_train_df.plot(title=f\"RMSE: {mean_squared_error(predicted_train_df['Actual Temperature'], predicted_train_df['Predicted Temperature'], squared=False)}\")"
   ]
  },
  {
   "cell_type": "code",
   "execution_count": 29,
   "metadata": {},
   "outputs": [
    {
     "data": {
      "text/plain": [
       "<AxesSubplot:title={'center':'RMSE:2.943526684534907'}>"
      ]
     },
     "execution_count": 29,
     "metadata": {},
     "output_type": "execute_result"
    },
    {
     "data": {
      "image/png": "[encoded data removed]",
      "text/plain": [
       "<Figure size 432x288 with 1 Axes>"
      ]
     },
     "metadata": {
      "needs_background": "light"
     },
     "output_type": "display_data"
    }
   ],
   "source": [
    "predicted_val_df.plot(title = f\"RMSE:{mean_squared_error(predicted_val_df['Actual Temperature'], predicted_val_df['Predicted Temperature'], squared=False)}\")"
   ]
  },
  {
   "cell_type": "code",
   "execution_count": 30,
   "metadata": {},
   "outputs": [
    {
     "data": {
      "text/plain": [
       "<AxesSubplot:title={'center':'RMSE:2.821039858704237'}>"
      ]
     },
     "execution_count": 30,
     "metadata": {},
     "output_type": "execute_result"
    },
    {
     "data": {
      "image/png": "[encoded data removed]",
      "text/plain": [
       "<Figure size 432x288 with 1 Axes>"
      ]
     },
     "metadata": {
      "needs_background": "light"
     },
     "output_type": "display_data"
    }
   ],
   "source": [
    "predicted_test_df.plot(title = f\"RMSE:{mean_squared_error(predicted_test_df['Actual Temperature'], predicted_test_df['Predicted Temperature'], squared=False)}\")\n"
   ]
  },
  {
   "cell_type": "code",
   "execution_count": null,
   "metadata": {},
   "outputs": [
    {
     "data": {
      "text/plain": [
       "(1764,)"
      ]
     },
     "execution_count": 28,
     "metadata": {},
     "output_type": "execute_result"
    }
   ],
   "source": [
    "y.shape"
   ]
  },
  {
   "cell_type": "code",
   "execution_count": null,
   "metadata": {},
   "outputs": [],
   "source": []
  }
 ],
 "metadata": {
  "kernelspec": {
   "display_name": "base",
   "language": "python",
   "name": "python3"
  },
  "language_info": {
   "codemirror_mode": {
    "name": "ipython",
    "version": 3
   },
   "file_extension": ".py",
   "mimetype": "text/x-python",
   "name": "python",
   "nbconvert_exporter": "python",
   "pygments_lexer": "ipython3",
   "version": "3.9.12"
  },
  "orig_nbformat": 4,
  "vscode": {
   "interpreter": {
    "hash": "b9baaabb7af3f92ae09d746be89d264ca11beda4dade21bcf0e4e74ca662ee82"
   }
  }
 },
 "nbformat": 4,
 "nbformat_minor": 2
}
