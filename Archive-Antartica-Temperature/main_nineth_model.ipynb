{
 "cells": [
  {
   "attachments": {},
   "cell_type": "markdown",
   "metadata": {},
   "source": [
    "# Notebook 6: Trying with last periodicity of 1,2,7"
   ]
  },
  {
   "attachments": {},
   "cell_type": "markdown",
   "metadata": {},
   "source": [
    "# Data\n",
    "\n",
    "The data is downloaded from NATIONAL CENTRE FOR POLAR AND OCEAN RESEARCH, India: http://data.ncaor.gov.in/newhtml"
   ]
  },
  {
   "attachments": {},
   "cell_type": "markdown",
   "metadata": {},
   "source": [
    "# Dataset Info"
   ]
  },
  {
   "cell_type": "code",
   "execution_count": 1,
   "metadata": {},
   "outputs": [
    {
     "name": "stdout",
     "output_type": "stream",
     "text": [
      "\n",
      " ----------------------Synoptic Data-------------------------------------------------------------------\n",
      " \n",
      " Measurements/ data\t: Synoptic\n",
      " Parameters\t\t: Observation Time,  wind direction, wind speed, temparature, MSLP\n",
      " Duration\t\t: 05-05-2016 to\t02-08-2021\n",
      " Location\t\t: Bharati\n",
      " Latitude and Longitude\t: 69Â°24.41'S, 76Â°11.72'E\n",
      " Data file format\t: ASCII\n",
      " \n",
      " ------------------------------------------------------------------------------------------------------\n",
      " \n",
      " \n",
      " \n",
      "\n"
     ]
    }
   ],
   "source": [
    "with open('b_imdncpor_synoptic.txt') as f:\n",
    "    print(' '.join(f.readlines()))"
   ]
  },
  {
   "cell_type": "code",
   "execution_count": 2,
   "metadata": {},
   "outputs": [],
   "source": [
    "import seaborn as sns\n",
    "from matplotlib import pyplot as plt\n",
    "import pandas as pd\n",
    "import numpy as np"
   ]
  },
  {
   "cell_type": "code",
   "execution_count": 3,
   "metadata": {},
   "outputs": [
    {
     "data": {
      "text/html": [
       "<div>\n",
       "<style scoped>\n",
       "    .dataframe tbody tr th:only-of-type {\n",
       "        vertical-align: middle;\n",
       "    }\n",
       "\n",
       "    .dataframe tbody tr th {\n",
       "        vertical-align: top;\n",
       "    }\n",
       "\n",
       "    .dataframe thead th {\n",
       "        text-align: right;\n",
       "    }\n",
       "</style>\n",
       "<table border=\"1\" class=\"dataframe\">\n",
       "  <thead>\n",
       "    <tr style=\"text-align: right;\">\n",
       "      <th></th>\n",
       "      <th>Time</th>\n",
       "      <th>WindDirection</th>\n",
       "      <th>WindSpeed</th>\n",
       "      <th>Temperature</th>\n",
       "      <th>Pressure</th>\n",
       "    </tr>\n",
       "  </thead>\n",
       "  <tbody>\n",
       "    <tr>\n",
       "      <th>0</th>\n",
       "      <td>2016-05-01 00:00:00</td>\n",
       "      <td>5</td>\n",
       "      <td>8.0</td>\n",
       "      <td>-21.5</td>\n",
       "      <td>981.1</td>\n",
       "    </tr>\n",
       "    <tr>\n",
       "      <th>1</th>\n",
       "      <td>2016-05-22 00:00:00</td>\n",
       "      <td>0</td>\n",
       "      <td>0.0</td>\n",
       "      <td>-19.4</td>\n",
       "      <td>986.1</td>\n",
       "    </tr>\n",
       "    <tr>\n",
       "      <th>2</th>\n",
       "      <td>2016-05-22 06:00:00</td>\n",
       "      <td>9</td>\n",
       "      <td>10.0</td>\n",
       "      <td>-16.6</td>\n",
       "      <td>980.4</td>\n",
       "    </tr>\n",
       "    <tr>\n",
       "      <th>3</th>\n",
       "      <td>2016-05-22 12:00:00</td>\n",
       "      <td>9</td>\n",
       "      <td>9.0</td>\n",
       "      <td>-17.4</td>\n",
       "      <td>973.4</td>\n",
       "    </tr>\n",
       "    <tr>\n",
       "      <th>4</th>\n",
       "      <td>2016-05-22 18:00:00</td>\n",
       "      <td>5</td>\n",
       "      <td>13.0</td>\n",
       "      <td>-17.4</td>\n",
       "      <td>970.7</td>\n",
       "    </tr>\n",
       "  </tbody>\n",
       "</table>\n",
       "</div>"
      ],
      "text/plain": [
       "                 Time  WindDirection  WindSpeed  Temperature  Pressure\n",
       "0 2016-05-01 00:00:00              5        8.0        -21.5     981.1\n",
       "1 2016-05-22 00:00:00              0        0.0        -19.4     986.1\n",
       "2 2016-05-22 06:00:00              9       10.0        -16.6     980.4\n",
       "3 2016-05-22 12:00:00              9        9.0        -17.4     973.4\n",
       "4 2016-05-22 18:00:00              5       13.0        -17.4     970.7"
      ]
     },
     "execution_count": 3,
     "metadata": {},
     "output_type": "execute_result"
    }
   ],
   "source": [
    "df = pd.read_csv('synoptic_bharati.csv')\n",
    "df.Time = pd.to_datetime(df.Time)\n",
    "df.head()"
   ]
  },
  {
   "cell_type": "code",
   "execution_count": 4,
   "metadata": {},
   "outputs": [
    {
     "data": {
      "text/html": [
       "<div>\n",
       "<style scoped>\n",
       "    .dataframe tbody tr th:only-of-type {\n",
       "        vertical-align: middle;\n",
       "    }\n",
       "\n",
       "    .dataframe tbody tr th {\n",
       "        vertical-align: top;\n",
       "    }\n",
       "\n",
       "    .dataframe thead th {\n",
       "        text-align: right;\n",
       "    }\n",
       "</style>\n",
       "<table border=\"1\" class=\"dataframe\">\n",
       "  <thead>\n",
       "    <tr style=\"text-align: right;\">\n",
       "      <th></th>\n",
       "      <th>Time</th>\n",
       "    </tr>\n",
       "  </thead>\n",
       "  <tbody>\n",
       "    <tr>\n",
       "      <th>0</th>\n",
       "      <td>2016-05-01 00:00:00</td>\n",
       "    </tr>\n",
       "    <tr>\n",
       "      <th>1</th>\n",
       "      <td>2016-05-01 06:00:00</td>\n",
       "    </tr>\n",
       "    <tr>\n",
       "      <th>2</th>\n",
       "      <td>2016-05-01 12:00:00</td>\n",
       "    </tr>\n",
       "    <tr>\n",
       "      <th>3</th>\n",
       "      <td>2016-05-01 18:00:00</td>\n",
       "    </tr>\n",
       "    <tr>\n",
       "      <th>4</th>\n",
       "      <td>2016-05-02 00:00:00</td>\n",
       "    </tr>\n",
       "  </tbody>\n",
       "</table>\n",
       "</div>"
      ],
      "text/plain": [
       "                 Time\n",
       "0 2016-05-01 00:00:00\n",
       "1 2016-05-01 06:00:00\n",
       "2 2016-05-01 12:00:00\n",
       "3 2016-05-01 18:00:00\n",
       "4 2016-05-02 00:00:00"
      ]
     },
     "execution_count": 4,
     "metadata": {},
     "output_type": "execute_result"
    }
   ],
   "source": [
    "min_time = df.Time.min()\n",
    "max_time = df.Time.max()\n",
    "weather_data = pd.DataFrame(pd.date_range(min_time,max_time, freq='6H'), columns=['Time'])\n",
    "weather_data.head()"
   ]
  },
  {
   "attachments": {},
   "cell_type": "markdown",
   "metadata": {},
   "source": [
    "https://pandas.pydata.org/pandas-docs/stable/user_guide/timeseries.html#offset-aliases\n",
    "\n",
    "https://pandas.pydata.org/docs/reference/api/pandas.DataFrame.asfreq.html"
   ]
  },
  {
   "cell_type": "code",
   "execution_count": 5,
   "metadata": {},
   "outputs": [
    {
     "data": {
      "text/plain": [
       "Time                0\n",
       "WindDirection    1906\n",
       "WindSpeed        2013\n",
       "Temperature      1922\n",
       "Pressure         2268\n",
       "dtype: int64"
      ]
     },
     "execution_count": 5,
     "metadata": {},
     "output_type": "execute_result"
    }
   ],
   "source": [
    "weather_data = pd.merge(weather_data, df, on='Time', how='left')\n",
    "weather_data.isna().sum()"
   ]
  },
  {
   "cell_type": "code",
   "execution_count": 6,
   "metadata": {},
   "outputs": [],
   "source": [
    "weather_data = weather_data.loc[2715:6000] # Through manual inspection and checking"
   ]
  },
  {
   "attachments": {},
   "cell_type": "markdown",
   "metadata": {},
   "source": [
    "Using Temperature data to forecast future temperature."
   ]
  },
  {
   "cell_type": "code",
   "execution_count": 7,
   "metadata": {},
   "outputs": [
    {
     "data": {
      "text/html": [
       "<div>\n",
       "<style scoped>\n",
       "    .dataframe tbody tr th:only-of-type {\n",
       "        vertical-align: middle;\n",
       "    }\n",
       "\n",
       "    .dataframe tbody tr th {\n",
       "        vertical-align: top;\n",
       "    }\n",
       "\n",
       "    .dataframe thead th {\n",
       "        text-align: right;\n",
       "    }\n",
       "</style>\n",
       "<table border=\"1\" class=\"dataframe\">\n",
       "  <thead>\n",
       "    <tr style=\"text-align: right;\">\n",
       "      <th></th>\n",
       "      <th>Temperature</th>\n",
       "    </tr>\n",
       "  </thead>\n",
       "  <tbody>\n",
       "    <tr>\n",
       "      <th>2715</th>\n",
       "      <td>-14.6</td>\n",
       "    </tr>\n",
       "    <tr>\n",
       "      <th>2716</th>\n",
       "      <td>-17.2</td>\n",
       "    </tr>\n",
       "    <tr>\n",
       "      <th>2717</th>\n",
       "      <td>-14.0</td>\n",
       "    </tr>\n",
       "    <tr>\n",
       "      <th>2718</th>\n",
       "      <td>-15.5</td>\n",
       "    </tr>\n",
       "    <tr>\n",
       "      <th>2719</th>\n",
       "      <td>-16.8</td>\n",
       "    </tr>\n",
       "  </tbody>\n",
       "</table>\n",
       "</div>"
      ],
      "text/plain": [
       "      Temperature\n",
       "2715        -14.6\n",
       "2716        -17.2\n",
       "2717        -14.0\n",
       "2718        -15.5\n",
       "2719        -16.8"
      ]
     },
     "execution_count": 7,
     "metadata": {},
     "output_type": "execute_result"
    }
   ],
   "source": [
    "temp_df = weather_data[['Temperature']].copy()\n",
    "temp_df.head()"
   ]
  },
  {
   "cell_type": "code",
   "execution_count": 8,
   "metadata": {},
   "outputs": [
    {
     "data": {
      "image/png": "[encoded data removed]",
      "text/plain": [
       "<Figure size 1800x288 with 1 Axes>"
      ]
     },
     "metadata": {
      "needs_background": "light"
     },
     "output_type": "display_data"
    }
   ],
   "source": [
    "weather_data.Temperature.plot(figsize=(25,4), title='Temperature Variation with Time')\n",
    "plt.show()"
   ]
  },
  {
   "attachments": {},
   "cell_type": "markdown",
   "metadata": {},
   "source": [
    "We can see highest temperature around january and lowet temperatures around July to October."
   ]
  },
  {
   "cell_type": "code",
   "execution_count": 9,
   "metadata": {},
   "outputs": [],
   "source": [
    "def simple_x_y_splitter(dataframe, col, prev_n_days=[]):\n",
    "    df = dataframe.copy()\n",
    "    for lag in prev_n_days:\n",
    "        df[f'lag_{lag}'] = df[col].shift(lag)\n",
    "    df.dropna(inplace=True)\n",
    "    y = df[col].values\n",
    "    X = df.drop([col], axis=1).values\n",
    "    return np.expand_dims(X,2), y"
   ]
  },
  {
   "cell_type": "code",
   "execution_count": null,
   "metadata": {},
   "outputs": [],
   "source": []
  },
  {
   "cell_type": "code",
   "execution_count": 10,
   "metadata": {},
   "outputs": [],
   "source": [
    "X, y = simple_x_y_splitter(temp_df, 'Temperature',prev_n_days=[1,2,7])\n"
   ]
  },
  {
   "cell_type": "code",
   "execution_count": 11,
   "metadata": {},
   "outputs": [
    {
     "data": {
      "text/plain": [
       "array([-13.4, -11.7,  -5.9, ..., -11.5,  -7.9,  -6.4])"
      ]
     },
     "execution_count": 11,
     "metadata": {},
     "output_type": "execute_result"
    }
   ],
   "source": [
    "y"
   ]
  },
  {
   "cell_type": "code",
   "execution_count": 12,
   "metadata": {},
   "outputs": [
    {
     "data": {
      "text/plain": [
       "array([[[-17.3],\n",
       "        [-17. ],\n",
       "        [-15.5]],\n",
       "\n",
       "       [[-13.4],\n",
       "        [-17.3],\n",
       "        [-16.8]],\n",
       "\n",
       "       [[-11.7],\n",
       "        [-13.4],\n",
       "        [-16.5]],\n",
       "\n",
       "       ...,\n",
       "\n",
       "       [[-10. ],\n",
       "        [ -9.6],\n",
       "        [ -8.4]],\n",
       "\n",
       "       [[-11.5],\n",
       "        [-10. ],\n",
       "        [ -8.8]],\n",
       "\n",
       "       [[ -7.9],\n",
       "        [-11.5],\n",
       "        [ -8.9]]])"
      ]
     },
     "execution_count": 12,
     "metadata": {},
     "output_type": "execute_result"
    }
   ],
   "source": [
    "X"
   ]
  },
  {
   "cell_type": "code",
   "execution_count": 13,
   "metadata": {},
   "outputs": [
    {
     "data": {
      "text/plain": [
       "(1983,)"
      ]
     },
     "execution_count": 13,
     "metadata": {},
     "output_type": "execute_result"
    }
   ],
   "source": [
    "y.shape"
   ]
  },
  {
   "attachments": {},
   "cell_type": "markdown",
   "metadata": {},
   "source": [
    "# Temporal splitting"
   ]
  },
  {
   "cell_type": "code",
   "execution_count": 14,
   "metadata": {},
   "outputs": [
    {
     "name": "stdout",
     "output_type": "stream",
     "text": [
      "1388 1685\n"
     ]
    }
   ],
   "source": [
    "train_val_split_idx, val_test_split_idx = int(X.shape[0]*.7), int(X.shape[0]*.85)\n",
    "print(train_val_split_idx, val_test_split_idx)\n",
    "X_train, y_train = X[:train_val_split_idx], y[:train_val_split_idx]\n",
    "X_val, y_val = X[train_val_split_idx:val_test_split_idx], y[train_val_split_idx:val_test_split_idx]\n",
    "X_test, y_test = X[val_test_split_idx:], y[val_test_split_idx:]"
   ]
  },
  {
   "attachments": {},
   "cell_type": "markdown",
   "metadata": {},
   "source": [
    "# Standardization"
   ]
  },
  {
   "cell_type": "code",
   "execution_count": 15,
   "metadata": {},
   "outputs": [],
   "source": [
    "X_train_mean = X_train.mean()\n",
    "X_train_sd= X_train.std()\n",
    "y_train_mean = y_train.mean()\n",
    "y_train_sd= y_train.std()\n",
    "\n",
    "def standardize(x, y):\n",
    "    x_std = (x-X_train_mean)/X_train_sd\n",
    "    y_std = (y-y_train_mean)/y_train_sd\n",
    "    return x_std, y_std\n",
    "\n",
    "X_train_std, y_train_std = standardize(X_train, y_train)\n",
    "X_val_std, y_val_std = standardize(X_val, y_val)\n",
    "X_test_std, y_test_std = standardize(X_test, y_test)"
   ]
  },
  {
   "attachments": {},
   "cell_type": "markdown",
   "metadata": {},
   "source": [
    "# LSTM Model 1"
   ]
  },
  {
   "cell_type": "code",
   "execution_count": 16,
   "metadata": {},
   "outputs": [],
   "source": [
    "from tensorflow.keras.layers import *\n",
    "from tensorflow.keras.models import Sequential\n",
    "from tensorflow.keras.optimizers import Adam\n",
    "from tensorflow.keras.callbacks import ModelCheckpoint\n",
    "from tensorflow.keras.losses import MeanSquaredError\n",
    "from tensorflow.keras.metrics import RootMeanSquaredError"
   ]
  },
  {
   "cell_type": "code",
   "execution_count": 17,
   "metadata": {},
   "outputs": [],
   "source": [
    "from tensorflow.keras.callbacks import TensorBoard\n",
    "\n",
    "tb1 = TensorBoard(\n",
    "    log_dir='logs6',\n",
    "    histogram_freq=0,\n",
    "    write_graph=True,\n",
    "    write_images=False,\n",
    "    write_steps_per_second=False,\n",
    "    update_freq='epoch',\n",
    "    profile_batch=0,\n",
    "    embeddings_freq=0,\n",
    "    embeddings_metadata=None\n",
    ")"
   ]
  },
  {
   "cell_type": "code",
   "execution_count": 22,
   "metadata": {},
   "outputs": [
    {
     "name": "stdout",
     "output_type": "stream",
     "text": [
      "Model: \"sequential_1\"\n",
      "_________________________________________________________________\n",
      " Layer (type)                Output Shape              Param #   \n",
      "=================================================================\n",
      " lstm_1 (LSTM)               (None, 64)                16896     \n",
      "                                                                 \n",
      " dense_2 (Dense)             (None, 8)                 520       \n",
      "                                                                 \n",
      " dense_3 (Dense)             (None, 1)                 9         \n",
      "                                                                 \n",
      "=================================================================\n",
      "Total params: 17,425\n",
      "Trainable params: 17,425\n",
      "Non-trainable params: 0\n",
      "_________________________________________________________________\n"
     ]
    }
   ],
   "source": [
    "model1 = Sequential()\n",
    "model1.add(InputLayer((3,1)))\n",
    "model1.add(LSTM(64))\n",
    "model1.add(Dense(8,'relu'))\n",
    "model1.add(Dense(1,'linear'))\n",
    "model1.summary()"
   ]
  },
  {
   "cell_type": "code",
   "execution_count": 23,
   "metadata": {},
   "outputs": [],
   "source": [
    "cp1 = ModelCheckpoint('model6/', save_best_only=True)\n",
    "model1.compile(loss=MeanSquaredError(), optimizer=Adam(learning_rate=0.001), metrics=[RootMeanSquaredError()])"
   ]
  },
  {
   "cell_type": "code",
   "execution_count": 24,
   "metadata": {},
   "outputs": [
    {
     "name": "stdout",
     "output_type": "stream",
     "text": [
      "Epoch 1/50\n",
      "37/44 [========================>.....] - ETA: 0s - loss: 140.0637 - root_mean_squared_error: 11.8348"
     ]
    },
    {
     "name": "stderr",
     "output_type": "stream",
     "text": [
      "WARNING:absl:Found untraced functions such as lstm_cell_1_layer_call_fn, lstm_cell_1_layer_call_and_return_conditional_losses while saving (showing 2 of 2). These functions will not be directly callable after loading.\n"
     ]
    },
    {
     "name": "stdout",
     "output_type": "stream",
     "text": [
      "INFO:tensorflow:Assets written to: model6\\assets\n"
     ]
    },
    {
     "name": "stderr",
     "output_type": "stream",
     "text": [
      "INFO:tensorflow:Assets written to: model6\\assets\n"
     ]
    },
    {
     "name": "stdout",
     "output_type": "stream",
     "text": [
      "44/44 [==============================] - 25s 362ms/step - loss: 133.6206 - root_mean_squared_error: 11.5594 - val_loss: 25.2290 - val_root_mean_squared_error: 5.0228\n",
      "Epoch 2/50\n",
      "36/44 [=======================>......] - ETA: 0s - loss: 70.5645 - root_mean_squared_error: 8.4003"
     ]
    },
    {
     "name": "stderr",
     "output_type": "stream",
     "text": [
      "WARNING:absl:Found untraced functions such as lstm_cell_1_layer_call_fn, lstm_cell_1_layer_call_and_return_conditional_losses while saving (showing 2 of 2). These functions will not be directly callable after loading.\n"
     ]
    },
    {
     "name": "stdout",
     "output_type": "stream",
     "text": [
      "INFO:tensorflow:Assets written to: model6\\assets\n"
     ]
    },
    {
     "name": "stderr",
     "output_type": "stream",
     "text": [
      "INFO:tensorflow:Assets written to: model6\\assets\n"
     ]
    },
    {
     "name": "stdout",
     "output_type": "stream",
     "text": [
      "44/44 [==============================] - 14s 336ms/step - loss: 64.8776 - root_mean_squared_error: 8.0547 - val_loss: 14.2269 - val_root_mean_squared_error: 3.7719\n",
      "Epoch 3/50\n",
      "38/44 [========================>.....] - ETA: 0s - loss: 29.5234 - root_mean_squared_error: 5.4335"
     ]
    },
    {
     "name": "stderr",
     "output_type": "stream",
     "text": [
      "WARNING:absl:Found untraced functions such as lstm_cell_1_layer_call_fn, lstm_cell_1_layer_call_and_return_conditional_losses while saving (showing 2 of 2). These functions will not be directly callable after loading.\n"
     ]
    },
    {
     "name": "stdout",
     "output_type": "stream",
     "text": [
      "INFO:tensorflow:Assets written to: model6\\assets\n"
     ]
    },
    {
     "name": "stderr",
     "output_type": "stream",
     "text": [
      "INFO:tensorflow:Assets written to: model6\\assets\n"
     ]
    },
    {
     "name": "stdout",
     "output_type": "stream",
     "text": [
      "44/44 [==============================] - 17s 385ms/step - loss: 28.1639 - root_mean_squared_error: 5.3070 - val_loss: 9.6584 - val_root_mean_squared_error: 3.1078\n",
      "Epoch 4/50\n",
      "37/44 [========================>.....] - ETA: 0s - loss: 17.8021 - root_mean_squared_error: 4.2193"
     ]
    },
    {
     "name": "stderr",
     "output_type": "stream",
     "text": [
      "WARNING:absl:Found untraced functions such as lstm_cell_1_layer_call_fn, lstm_cell_1_layer_call_and_return_conditional_losses while saving (showing 2 of 2). These functions will not be directly callable after loading.\n"
     ]
    },
    {
     "name": "stdout",
     "output_type": "stream",
     "text": [
      "INFO:tensorflow:Assets written to: model6\\assets\n"
     ]
    },
    {
     "name": "stderr",
     "output_type": "stream",
     "text": [
      "INFO:tensorflow:Assets written to: model6\\assets\n"
     ]
    },
    {
     "name": "stdout",
     "output_type": "stream",
     "text": [
      "44/44 [==============================] - 18s 409ms/step - loss: 17.6690 - root_mean_squared_error: 4.2035 - val_loss: 7.8096 - val_root_mean_squared_error: 2.7946\n",
      "Epoch 5/50\n",
      "39/44 [=========================>....] - ETA: 0s - loss: 12.4519 - root_mean_squared_error: 3.5287"
     ]
    },
    {
     "name": "stderr",
     "output_type": "stream",
     "text": [
      "WARNING:absl:Found untraced functions such as lstm_cell_1_layer_call_fn, lstm_cell_1_layer_call_and_return_conditional_losses while saving (showing 2 of 2). These functions will not be directly callable after loading.\n"
     ]
    },
    {
     "name": "stdout",
     "output_type": "stream",
     "text": [
      "INFO:tensorflow:Assets written to: model6\\assets\n"
     ]
    },
    {
     "name": "stderr",
     "output_type": "stream",
     "text": [
      "INFO:tensorflow:Assets written to: model6\\assets\n"
     ]
    },
    {
     "name": "stdout",
     "output_type": "stream",
     "text": [
      "44/44 [==============================] - 19s 453ms/step - loss: 12.1897 - root_mean_squared_error: 3.4914 - val_loss: 7.0521 - val_root_mean_squared_error: 2.6556\n",
      "Epoch 6/50\n",
      "43/44 [============================>.] - ETA: 0s - loss: 9.2564 - root_mean_squared_error: 3.0424"
     ]
    },
    {
     "name": "stderr",
     "output_type": "stream",
     "text": [
      "WARNING:absl:Found untraced functions such as lstm_cell_1_layer_call_fn, lstm_cell_1_layer_call_and_return_conditional_losses while saving (showing 2 of 2). These functions will not be directly callable after loading.\n"
     ]
    },
    {
     "name": "stdout",
     "output_type": "stream",
     "text": [
      "INFO:tensorflow:Assets written to: model6\\assets\n"
     ]
    },
    {
     "name": "stderr",
     "output_type": "stream",
     "text": [
      "INFO:tensorflow:Assets written to: model6\\assets\n"
     ]
    },
    {
     "name": "stdout",
     "output_type": "stream",
     "text": [
      "44/44 [==============================] - 16s 377ms/step - loss: 9.2588 - root_mean_squared_error: 3.0428 - val_loss: 6.4172 - val_root_mean_squared_error: 2.5332\n",
      "Epoch 7/50\n",
      "43/44 [============================>.] - ETA: 0s - loss: 7.1948 - root_mean_squared_error: 2.6823"
     ]
    },
    {
     "name": "stderr",
     "output_type": "stream",
     "text": [
      "WARNING:absl:Found untraced functions such as lstm_cell_1_layer_call_fn, lstm_cell_1_layer_call_and_return_conditional_losses while saving (showing 2 of 2). These functions will not be directly callable after loading.\n"
     ]
    },
    {
     "name": "stdout",
     "output_type": "stream",
     "text": [
      "INFO:tensorflow:Assets written to: model6\\assets\n"
     ]
    },
    {
     "name": "stderr",
     "output_type": "stream",
     "text": [
      "INFO:tensorflow:Assets written to: model6\\assets\n"
     ]
    },
    {
     "name": "stdout",
     "output_type": "stream",
     "text": [
      "44/44 [==============================] - 18s 419ms/step - loss: 7.2897 - root_mean_squared_error: 2.6999 - val_loss: 5.7815 - val_root_mean_squared_error: 2.4045\n",
      "Epoch 8/50\n",
      "39/44 [=========================>....] - ETA: 0s - loss: 5.9993 - root_mean_squared_error: 2.4494"
     ]
    },
    {
     "name": "stderr",
     "output_type": "stream",
     "text": [
      "WARNING:absl:Found untraced functions such as lstm_cell_1_layer_call_fn, lstm_cell_1_layer_call_and_return_conditional_losses while saving (showing 2 of 2). These functions will not be directly callable after loading.\n"
     ]
    },
    {
     "name": "stdout",
     "output_type": "stream",
     "text": [
      "INFO:tensorflow:Assets written to: model6\\assets\n"
     ]
    },
    {
     "name": "stderr",
     "output_type": "stream",
     "text": [
      "INFO:tensorflow:Assets written to: model6\\assets\n"
     ]
    },
    {
     "name": "stdout",
     "output_type": "stream",
     "text": [
      "44/44 [==============================] - 18s 428ms/step - loss: 5.9680 - root_mean_squared_error: 2.4430 - val_loss: 5.4854 - val_root_mean_squared_error: 2.3421\n",
      "Epoch 9/50\n",
      "44/44 [==============================] - 0s 9ms/step - loss: 5.2576 - root_mean_squared_error: 2.2929 - val_loss: 5.4958 - val_root_mean_squared_error: 2.3443\n",
      "Epoch 10/50\n",
      "44/44 [==============================] - 0s 9ms/step - loss: 4.8102 - root_mean_squared_error: 2.1932 - val_loss: 5.6723 - val_root_mean_squared_error: 2.3817\n",
      "Epoch 11/50\n",
      "39/44 [=========================>....] - ETA: 0s - loss: 4.5558 - root_mean_squared_error: 2.1344"
     ]
    },
    {
     "name": "stderr",
     "output_type": "stream",
     "text": [
      "WARNING:absl:Found untraced functions such as lstm_cell_1_layer_call_fn, lstm_cell_1_layer_call_and_return_conditional_losses while saving (showing 2 of 2). These functions will not be directly callable after loading.\n"
     ]
    },
    {
     "name": "stdout",
     "output_type": "stream",
     "text": [
      "INFO:tensorflow:Assets written to: model6\\assets\n"
     ]
    },
    {
     "name": "stderr",
     "output_type": "stream",
     "text": [
      "INFO:tensorflow:Assets written to: model6\\assets\n"
     ]
    },
    {
     "name": "stdout",
     "output_type": "stream",
     "text": [
      "44/44 [==============================] - 25s 574ms/step - loss: 4.5261 - root_mean_squared_error: 2.1275 - val_loss: 5.3594 - val_root_mean_squared_error: 2.3150\n",
      "Epoch 12/50\n",
      "44/44 [==============================] - 0s 9ms/step - loss: 4.5081 - root_mean_squared_error: 2.1232 - val_loss: 5.3956 - val_root_mean_squared_error: 2.3228\n",
      "Epoch 13/50\n",
      "44/44 [==============================] - 0s 10ms/step - loss: 4.5423 - root_mean_squared_error: 2.1313 - val_loss: 5.4402 - val_root_mean_squared_error: 2.3324\n",
      "Epoch 14/50\n",
      "42/44 [===========================>..] - ETA: 0s - loss: 4.2014 - root_mean_squared_error: 2.0497"
     ]
    },
    {
     "name": "stderr",
     "output_type": "stream",
     "text": [
      "WARNING:absl:Found untraced functions such as lstm_cell_1_layer_call_fn, lstm_cell_1_layer_call_and_return_conditional_losses while saving (showing 2 of 2). These functions will not be directly callable after loading.\n"
     ]
    },
    {
     "name": "stdout",
     "output_type": "stream",
     "text": [
      "INFO:tensorflow:Assets written to: model6\\assets\n"
     ]
    },
    {
     "name": "stderr",
     "output_type": "stream",
     "text": [
      "INFO:tensorflow:Assets written to: model6\\assets\n"
     ]
    },
    {
     "name": "stdout",
     "output_type": "stream",
     "text": [
      "44/44 [==============================] - 17s 400ms/step - loss: 4.2681 - root_mean_squared_error: 2.0659 - val_loss: 5.3134 - val_root_mean_squared_error: 2.3051\n",
      "Epoch 15/50\n",
      "44/44 [==============================] - 1s 16ms/step - loss: 4.1637 - root_mean_squared_error: 2.0405 - val_loss: 5.3225 - val_root_mean_squared_error: 2.3071\n",
      "Epoch 16/50\n",
      "44/44 [==============================] - 2s 37ms/step - loss: 4.1623 - root_mean_squared_error: 2.0402 - val_loss: 5.4009 - val_root_mean_squared_error: 2.3240\n",
      "Epoch 17/50\n",
      "36/44 [=======================>......] - ETA: 0s - loss: 4.0050 - root_mean_squared_error: 2.0012"
     ]
    },
    {
     "name": "stderr",
     "output_type": "stream",
     "text": [
      "WARNING:absl:Found untraced functions such as lstm_cell_1_layer_call_fn, lstm_cell_1_layer_call_and_return_conditional_losses while saving (showing 2 of 2). These functions will not be directly callable after loading.\n"
     ]
    },
    {
     "name": "stdout",
     "output_type": "stream",
     "text": [
      "INFO:tensorflow:Assets written to: model6\\assets\n"
     ]
    },
    {
     "name": "stderr",
     "output_type": "stream",
     "text": [
      "INFO:tensorflow:Assets written to: model6\\assets\n"
     ]
    },
    {
     "name": "stdout",
     "output_type": "stream",
     "text": [
      "44/44 [==============================] - 22s 509ms/step - loss: 4.0714 - root_mean_squared_error: 2.0178 - val_loss: 5.2826 - val_root_mean_squared_error: 2.2984\n",
      "Epoch 18/50\n",
      "39/44 [=========================>....] - ETA: 0s - loss: 4.1494 - root_mean_squared_error: 2.0370"
     ]
    },
    {
     "name": "stderr",
     "output_type": "stream",
     "text": [
      "WARNING:absl:Found untraced functions such as lstm_cell_1_layer_call_fn, lstm_cell_1_layer_call_and_return_conditional_losses while saving (showing 2 of 2). These functions will not be directly callable after loading.\n"
     ]
    },
    {
     "name": "stdout",
     "output_type": "stream",
     "text": [
      "INFO:tensorflow:Assets written to: model6\\assets\n"
     ]
    },
    {
     "name": "stderr",
     "output_type": "stream",
     "text": [
      "INFO:tensorflow:Assets written to: model6\\assets\n"
     ]
    },
    {
     "name": "stdout",
     "output_type": "stream",
     "text": [
      "44/44 [==============================] - 18s 416ms/step - loss: 4.1825 - root_mean_squared_error: 2.0451 - val_loss: 5.2612 - val_root_mean_squared_error: 2.2937\n",
      "Epoch 19/50\n",
      "44/44 [==============================] - 0s 11ms/step - loss: 3.9201 - root_mean_squared_error: 1.9799 - val_loss: 5.2875 - val_root_mean_squared_error: 2.2995\n",
      "Epoch 20/50\n",
      "41/44 [==========================>...] - ETA: 0s - loss: 4.0512 - root_mean_squared_error: 2.0128"
     ]
    },
    {
     "name": "stderr",
     "output_type": "stream",
     "text": [
      "WARNING:absl:Found untraced functions such as lstm_cell_1_layer_call_fn, lstm_cell_1_layer_call_and_return_conditional_losses while saving (showing 2 of 2). These functions will not be directly callable after loading.\n"
     ]
    },
    {
     "name": "stdout",
     "output_type": "stream",
     "text": [
      "INFO:tensorflow:Assets written to: model6\\assets\n"
     ]
    },
    {
     "name": "stderr",
     "output_type": "stream",
     "text": [
      "INFO:tensorflow:Assets written to: model6\\assets\n"
     ]
    },
    {
     "name": "stdout",
     "output_type": "stream",
     "text": [
      "44/44 [==============================] - 17s 388ms/step - loss: 4.0217 - root_mean_squared_error: 2.0054 - val_loss: 5.2122 - val_root_mean_squared_error: 2.2830\n",
      "Epoch 21/50\n",
      "44/44 [==============================] - 0s 9ms/step - loss: 3.9555 - root_mean_squared_error: 1.9889 - val_loss: 5.2609 - val_root_mean_squared_error: 2.2937\n",
      "Epoch 22/50\n",
      "44/44 [==============================] - ETA: 0s - loss: 3.9247 - root_mean_squared_error: 1.9811"
     ]
    },
    {
     "name": "stderr",
     "output_type": "stream",
     "text": [
      "WARNING:absl:Found untraced functions such as lstm_cell_1_layer_call_fn, lstm_cell_1_layer_call_and_return_conditional_losses while saving (showing 2 of 2). These functions will not be directly callable after loading.\n"
     ]
    },
    {
     "name": "stdout",
     "output_type": "stream",
     "text": [
      "INFO:tensorflow:Assets written to: model6\\assets\n"
     ]
    },
    {
     "name": "stderr",
     "output_type": "stream",
     "text": [
      "INFO:tensorflow:Assets written to: model6\\assets\n"
     ]
    },
    {
     "name": "stdout",
     "output_type": "stream",
     "text": [
      "44/44 [==============================] - 20s 455ms/step - loss: 3.9247 - root_mean_squared_error: 1.9811 - val_loss: 5.1596 - val_root_mean_squared_error: 2.2715\n",
      "Epoch 23/50\n",
      "43/44 [============================>.] - ETA: 0s - loss: 3.9044 - root_mean_squared_error: 1.9760"
     ]
    },
    {
     "name": "stderr",
     "output_type": "stream",
     "text": [
      "WARNING:absl:Found untraced functions such as lstm_cell_1_layer_call_fn, lstm_cell_1_layer_call_and_return_conditional_losses while saving (showing 2 of 2). These functions will not be directly callable after loading.\n"
     ]
    },
    {
     "name": "stdout",
     "output_type": "stream",
     "text": [
      "INFO:tensorflow:Assets written to: model6\\assets\n"
     ]
    },
    {
     "name": "stderr",
     "output_type": "stream",
     "text": [
      "INFO:tensorflow:Assets written to: model6\\assets\n"
     ]
    },
    {
     "name": "stdout",
     "output_type": "stream",
     "text": [
      "44/44 [==============================] - 24s 555ms/step - loss: 3.9560 - root_mean_squared_error: 1.9890 - val_loss: 5.1548 - val_root_mean_squared_error: 2.2704\n",
      "Epoch 24/50\n",
      "44/44 [==============================] - 0s 8ms/step - loss: 4.0431 - root_mean_squared_error: 2.0107 - val_loss: 5.1798 - val_root_mean_squared_error: 2.2759\n",
      "Epoch 25/50\n",
      "44/44 [==============================] - 0s 9ms/step - loss: 3.9190 - root_mean_squared_error: 1.9796 - val_loss: 5.1790 - val_root_mean_squared_error: 2.2757\n",
      "Epoch 26/50\n",
      "40/44 [==========================>...] - ETA: 0s - loss: 3.9057 - root_mean_squared_error: 1.9763"
     ]
    },
    {
     "name": "stderr",
     "output_type": "stream",
     "text": [
      "WARNING:absl:Found untraced functions such as lstm_cell_1_layer_call_fn, lstm_cell_1_layer_call_and_return_conditional_losses while saving (showing 2 of 2). These functions will not be directly callable after loading.\n"
     ]
    },
    {
     "name": "stdout",
     "output_type": "stream",
     "text": [
      "INFO:tensorflow:Assets written to: model6\\assets\n"
     ]
    },
    {
     "name": "stderr",
     "output_type": "stream",
     "text": [
      "INFO:tensorflow:Assets written to: model6\\assets\n"
     ]
    },
    {
     "name": "stdout",
     "output_type": "stream",
     "text": [
      "44/44 [==============================] - 14s 322ms/step - loss: 3.9210 - root_mean_squared_error: 1.9802 - val_loss: 5.1099 - val_root_mean_squared_error: 2.2605\n",
      "Epoch 27/50\n",
      "44/44 [==============================] - 0s 9ms/step - loss: 3.9112 - root_mean_squared_error: 1.9777 - val_loss: 5.1375 - val_root_mean_squared_error: 2.2666\n",
      "Epoch 28/50\n",
      "44/44 [==============================] - ETA: 0s - loss: 4.1142 - root_mean_squared_error: 2.0283"
     ]
    },
    {
     "name": "stderr",
     "output_type": "stream",
     "text": [
      "WARNING:absl:Found untraced functions such as lstm_cell_1_layer_call_fn, lstm_cell_1_layer_call_and_return_conditional_losses while saving (showing 2 of 2). These functions will not be directly callable after loading.\n"
     ]
    },
    {
     "name": "stdout",
     "output_type": "stream",
     "text": [
      "INFO:tensorflow:Assets written to: model6\\assets\n"
     ]
    },
    {
     "name": "stderr",
     "output_type": "stream",
     "text": [
      "INFO:tensorflow:Assets written to: model6\\assets\n"
     ]
    },
    {
     "name": "stdout",
     "output_type": "stream",
     "text": [
      "44/44 [==============================] - 21s 497ms/step - loss: 4.1142 - root_mean_squared_error: 2.0283 - val_loss: 5.1017 - val_root_mean_squared_error: 2.2587\n",
      "Epoch 29/50\n",
      "41/44 [==========================>...] - ETA: 0s - loss: 3.7889 - root_mean_squared_error: 1.9465"
     ]
    },
    {
     "name": "stderr",
     "output_type": "stream",
     "text": [
      "WARNING:absl:Found untraced functions such as lstm_cell_1_layer_call_fn, lstm_cell_1_layer_call_and_return_conditional_losses while saving (showing 2 of 2). These functions will not be directly callable after loading.\n"
     ]
    },
    {
     "name": "stdout",
     "output_type": "stream",
     "text": [
      "INFO:tensorflow:Assets written to: model6\\assets\n"
     ]
    },
    {
     "name": "stderr",
     "output_type": "stream",
     "text": [
      "INFO:tensorflow:Assets written to: model6\\assets\n"
     ]
    },
    {
     "name": "stdout",
     "output_type": "stream",
     "text": [
      "44/44 [==============================] - 20s 471ms/step - loss: 3.8727 - root_mean_squared_error: 1.9679 - val_loss: 5.0641 - val_root_mean_squared_error: 2.2504\n",
      "Epoch 30/50\n",
      "44/44 [==============================] - 0s 9ms/step - loss: 3.9144 - root_mean_squared_error: 1.9785 - val_loss: 5.0833 - val_root_mean_squared_error: 2.2546\n",
      "Epoch 31/50\n",
      "44/44 [==============================] - ETA: 0s - loss: 4.1261 - root_mean_squared_error: 2.0313"
     ]
    },
    {
     "name": "stderr",
     "output_type": "stream",
     "text": [
      "WARNING:absl:Found untraced functions such as lstm_cell_1_layer_call_fn, lstm_cell_1_layer_call_and_return_conditional_losses while saving (showing 2 of 2). These functions will not be directly callable after loading.\n"
     ]
    },
    {
     "name": "stdout",
     "output_type": "stream",
     "text": [
      "INFO:tensorflow:Assets written to: model6\\assets\n"
     ]
    },
    {
     "name": "stderr",
     "output_type": "stream",
     "text": [
      "INFO:tensorflow:Assets written to: model6\\assets\n"
     ]
    },
    {
     "name": "stdout",
     "output_type": "stream",
     "text": [
      "44/44 [==============================] - 20s 475ms/step - loss: 4.1261 - root_mean_squared_error: 2.0313 - val_loss: 5.0523 - val_root_mean_squared_error: 2.2477\n",
      "Epoch 32/50\n",
      "44/44 [==============================] - 1s 15ms/step - loss: 3.8156 - root_mean_squared_error: 1.9534 - val_loss: 5.0959 - val_root_mean_squared_error: 2.2574\n",
      "Epoch 33/50\n",
      "44/44 [==============================] - 0s 9ms/step - loss: 3.9221 - root_mean_squared_error: 1.9804 - val_loss: 5.0600 - val_root_mean_squared_error: 2.2494\n",
      "Epoch 34/50\n",
      "44/44 [==============================] - 1s 21ms/step - loss: 3.8065 - root_mean_squared_error: 1.9510 - val_loss: 5.0571 - val_root_mean_squared_error: 2.2488\n",
      "Epoch 35/50\n",
      "44/44 [==============================] - ETA: 0s - loss: 3.9751 - root_mean_squared_error: 1.9938"
     ]
    },
    {
     "name": "stderr",
     "output_type": "stream",
     "text": [
      "WARNING:absl:Found untraced functions such as lstm_cell_1_layer_call_fn, lstm_cell_1_layer_call_and_return_conditional_losses while saving (showing 2 of 2). These functions will not be directly callable after loading.\n"
     ]
    },
    {
     "name": "stdout",
     "output_type": "stream",
     "text": [
      "INFO:tensorflow:Assets written to: model6\\assets\n"
     ]
    },
    {
     "name": "stderr",
     "output_type": "stream",
     "text": [
      "INFO:tensorflow:Assets written to: model6\\assets\n"
     ]
    },
    {
     "name": "stdout",
     "output_type": "stream",
     "text": [
      "44/44 [==============================] - 19s 435ms/step - loss: 3.9751 - root_mean_squared_error: 1.9938 - val_loss: 5.0263 - val_root_mean_squared_error: 2.2419\n",
      "Epoch 36/50\n",
      "36/44 [=======================>......] - ETA: 0s - loss: 4.0235 - root_mean_squared_error: 2.0059"
     ]
    },
    {
     "name": "stderr",
     "output_type": "stream",
     "text": [
      "WARNING:absl:Found untraced functions such as lstm_cell_1_layer_call_fn, lstm_cell_1_layer_call_and_return_conditional_losses while saving (showing 2 of 2). These functions will not be directly callable after loading.\n"
     ]
    },
    {
     "name": "stdout",
     "output_type": "stream",
     "text": [
      "INFO:tensorflow:Assets written to: model6\\assets\n"
     ]
    },
    {
     "name": "stderr",
     "output_type": "stream",
     "text": [
      "INFO:tensorflow:Assets written to: model6\\assets\n"
     ]
    },
    {
     "name": "stdout",
     "output_type": "stream",
     "text": [
      "44/44 [==============================] - 14s 314ms/step - loss: 3.9711 - root_mean_squared_error: 1.9928 - val_loss: 4.9859 - val_root_mean_squared_error: 2.2329\n",
      "Epoch 37/50\n",
      "44/44 [==============================] - 0s 8ms/step - loss: 3.8487 - root_mean_squared_error: 1.9618 - val_loss: 5.1118 - val_root_mean_squared_error: 2.2609\n",
      "Epoch 38/50\n",
      "44/44 [==============================] - 0s 8ms/step - loss: 3.8977 - root_mean_squared_error: 1.9743 - val_loss: 5.0071 - val_root_mean_squared_error: 2.2376\n",
      "Epoch 39/50\n",
      "44/44 [==============================] - 0s 10ms/step - loss: 3.8058 - root_mean_squared_error: 1.9508 - val_loss: 4.9923 - val_root_mean_squared_error: 2.2343\n",
      "Epoch 40/50\n",
      "44/44 [==============================] - 0s 9ms/step - loss: 3.8564 - root_mean_squared_error: 1.9638 - val_loss: 4.9925 - val_root_mean_squared_error: 2.2344\n",
      "Epoch 41/50\n",
      "44/44 [==============================] - 0s 8ms/step - loss: 3.8132 - root_mean_squared_error: 1.9528 - val_loss: 5.0037 - val_root_mean_squared_error: 2.2369\n",
      "Epoch 42/50\n",
      "44/44 [==============================] - ETA: 0s - loss: 3.8812 - root_mean_squared_error: 1.9701"
     ]
    },
    {
     "name": "stderr",
     "output_type": "stream",
     "text": [
      "WARNING:absl:Found untraced functions such as lstm_cell_1_layer_call_fn, lstm_cell_1_layer_call_and_return_conditional_losses while saving (showing 2 of 2). These functions will not be directly callable after loading.\n"
     ]
    },
    {
     "name": "stdout",
     "output_type": "stream",
     "text": [
      "INFO:tensorflow:Assets written to: model6\\assets\n"
     ]
    },
    {
     "name": "stderr",
     "output_type": "stream",
     "text": [
      "INFO:tensorflow:Assets written to: model6\\assets\n"
     ]
    },
    {
     "name": "stdout",
     "output_type": "stream",
     "text": [
      "44/44 [==============================] - 13s 306ms/step - loss: 3.8812 - root_mean_squared_error: 1.9701 - val_loss: 4.9854 - val_root_mean_squared_error: 2.2328\n",
      "Epoch 43/50\n",
      "44/44 [==============================] - 0s 8ms/step - loss: 3.8113 - root_mean_squared_error: 1.9523 - val_loss: 5.0354 - val_root_mean_squared_error: 2.2440\n",
      "Epoch 44/50\n",
      "44/44 [==============================] - 0s 11ms/step - loss: 3.7545 - root_mean_squared_error: 1.9376 - val_loss: 4.9884 - val_root_mean_squared_error: 2.2335\n",
      "Epoch 45/50\n",
      "44/44 [==============================] - 1s 12ms/step - loss: 3.7601 - root_mean_squared_error: 1.9391 - val_loss: 5.0123 - val_root_mean_squared_error: 2.2388\n",
      "Epoch 46/50\n",
      "38/44 [========================>.....] - ETA: 0s - loss: 3.8956 - root_mean_squared_error: 1.9737"
     ]
    },
    {
     "name": "stderr",
     "output_type": "stream",
     "text": [
      "WARNING:absl:Found untraced functions such as lstm_cell_1_layer_call_fn, lstm_cell_1_layer_call_and_return_conditional_losses while saving (showing 2 of 2). These functions will not be directly callable after loading.\n"
     ]
    },
    {
     "name": "stdout",
     "output_type": "stream",
     "text": [
      "INFO:tensorflow:Assets written to: model6\\assets\n"
     ]
    },
    {
     "name": "stderr",
     "output_type": "stream",
     "text": [
      "INFO:tensorflow:Assets written to: model6\\assets\n"
     ]
    },
    {
     "name": "stdout",
     "output_type": "stream",
     "text": [
      "44/44 [==============================] - 14s 325ms/step - loss: 3.8945 - root_mean_squared_error: 1.9735 - val_loss: 4.9760 - val_root_mean_squared_error: 2.2307\n",
      "Epoch 47/50\n",
      "43/44 [============================>.] - ETA: 0s - loss: 3.8160 - root_mean_squared_error: 1.9534"
     ]
    },
    {
     "name": "stderr",
     "output_type": "stream",
     "text": [
      "WARNING:absl:Found untraced functions such as lstm_cell_1_layer_call_fn, lstm_cell_1_layer_call_and_return_conditional_losses while saving (showing 2 of 2). These functions will not be directly callable after loading.\n"
     ]
    },
    {
     "name": "stdout",
     "output_type": "stream",
     "text": [
      "INFO:tensorflow:Assets written to: model6\\assets\n"
     ]
    },
    {
     "name": "stderr",
     "output_type": "stream",
     "text": [
      "INFO:tensorflow:Assets written to: model6\\assets\n"
     ]
    },
    {
     "name": "stdout",
     "output_type": "stream",
     "text": [
      "44/44 [==============================] - 15s 349ms/step - loss: 3.8025 - root_mean_squared_error: 1.9500 - val_loss: 4.9577 - val_root_mean_squared_error: 2.2266\n",
      "Epoch 48/50\n",
      "44/44 [==============================] - ETA: 0s - loss: 3.8028 - root_mean_squared_error: 1.9501"
     ]
    },
    {
     "name": "stderr",
     "output_type": "stream",
     "text": [
      "WARNING:absl:Found untraced functions such as lstm_cell_1_layer_call_fn, lstm_cell_1_layer_call_and_return_conditional_losses while saving (showing 2 of 2). These functions will not be directly callable after loading.\n"
     ]
    },
    {
     "name": "stdout",
     "output_type": "stream",
     "text": [
      "INFO:tensorflow:Assets written to: model6\\assets\n"
     ]
    },
    {
     "name": "stderr",
     "output_type": "stream",
     "text": [
      "INFO:tensorflow:Assets written to: model6\\assets\n"
     ]
    },
    {
     "name": "stdout",
     "output_type": "stream",
     "text": [
      "44/44 [==============================] - 17s 404ms/step - loss: 3.8028 - root_mean_squared_error: 1.9501 - val_loss: 4.9567 - val_root_mean_squared_error: 2.2264\n",
      "Epoch 49/50\n",
      "44/44 [==============================] - 0s 8ms/step - loss: 3.8848 - root_mean_squared_error: 1.9710 - val_loss: 5.0454 - val_root_mean_squared_error: 2.2462\n",
      "Epoch 50/50\n",
      "44/44 [==============================] - 1s 21ms/step - loss: 3.9310 - root_mean_squared_error: 1.9827 - val_loss: 5.0152 - val_root_mean_squared_error: 2.2395\n"
     ]
    },
    {
     "data": {
      "text/plain": [
       "<keras.callbacks.History at 0x28d8d676f10>"
      ]
     },
     "execution_count": 24,
     "metadata": {},
     "output_type": "execute_result"
    }
   ],
   "source": [
    "model1.fit(X_train, y_train, validation_data=(X_val, y_val), epochs=50, callbacks=[cp1, tb1])"
   ]
  },
  {
   "cell_type": "code",
   "execution_count": 25,
   "metadata": {},
   "outputs": [],
   "source": [
    "def post_process(y):\n",
    "    return (X_train_sd*y)+X_train_mean"
   ]
  },
  {
   "cell_type": "code",
   "execution_count": 26,
   "metadata": {},
   "outputs": [],
   "source": [
    "from tensorflow.keras.models import load_model\n",
    "model1 = load_model('model6/')"
   ]
  },
  {
   "cell_type": "code",
   "execution_count": 27,
   "metadata": {},
   "outputs": [
    {
     "name": "stdout",
     "output_type": "stream",
     "text": [
      "10/10 [==============================] - 1s 3ms/step\n",
      "10/10 [==============================] - 0s 3ms/step\n",
      "44/44 [==============================] - 0s 4ms/step\n"
     ]
    }
   ],
   "source": [
    "predicted_test_df = pd.DataFrame({'Predicted Temperature':post_process(model1.predict(X_test_std).flatten()), 'Actual Temperature': y_test})\n",
    "predicted_val_df = pd.DataFrame({'Predicted Temperature':post_process(model1.predict(X_val_std).flatten()), 'Actual Temperature': y_val})\n",
    "predicted_train_df = pd.DataFrame({'Predicted Temperature':post_process(model1.predict(X_train_std).flatten()), 'Actual Temperature': y_train})"
   ]
  },
  {
   "cell_type": "code",
   "execution_count": 28,
   "metadata": {},
   "outputs": [],
   "source": [
    "from sklearn.metrics import mean_squared_error"
   ]
  },
  {
   "cell_type": "code",
   "execution_count": 29,
   "metadata": {},
   "outputs": [
    {
     "data": {
      "text/plain": [
       "<AxesSubplot:title={'center':'RMSE: 2.8316571367876766'}>"
      ]
     },
     "execution_count": 29,
     "metadata": {},
     "output_type": "execute_result"
    },
    {
     "data": {
      "image/png": "[encoded data removed]",
      "text/plain": [
       "<Figure size 432x288 with 1 Axes>"
      ]
     },
     "metadata": {
      "needs_background": "light"
     },
     "output_type": "display_data"
    }
   ],
   "source": [
    "predicted_train_df.plot(title=f\"RMSE: {mean_squared_error(predicted_train_df['Actual Temperature'], predicted_train_df['Predicted Temperature'], squared=False)}\")"
   ]
  },
  {
   "cell_type": "code",
   "execution_count": 30,
   "metadata": {},
   "outputs": [
    {
     "data": {
      "text/plain": [
       "<AxesSubplot:title={'center':'RMSE:2.86485764490078'}>"
      ]
     },
     "execution_count": 30,
     "metadata": {},
     "output_type": "execute_result"
    },
    {
     "data": {
      "image/png": "[encoded data removed]",
      "text/plain": [
       "<Figure size 432x288 with 1 Axes>"
      ]
     },
     "metadata": {
      "needs_background": "light"
     },
     "output_type": "display_data"
    }
   ],
   "source": [
    "predicted_val_df.plot(title = f\"RMSE:{mean_squared_error(predicted_val_df['Actual Temperature'], predicted_val_df['Predicted Temperature'], squared=False)}\")"
   ]
  },
  {
   "cell_type": "code",
   "execution_count": 31,
   "metadata": {},
   "outputs": [
    {
     "data": {
      "text/plain": [
       "<AxesSubplot:title={'center':'RMSE:2.87180190054605'}>"
      ]
     },
     "execution_count": 31,
     "metadata": {},
     "output_type": "execute_result"
    },
    {
     "data": {
      "image/png": "[encoded data removed]",
      "text/plain": [
       "<Figure size 432x288 with 1 Axes>"
      ]
     },
     "metadata": {
      "needs_background": "light"
     },
     "output_type": "display_data"
    }
   ],
   "source": [
    "predicted_test_df.plot(title = f\"RMSE:{mean_squared_error(predicted_test_df['Actual Temperature'], predicted_test_df['Predicted Temperature'], squared=False)}\")\n"
   ]
  },
  {
   "cell_type": "code",
   "execution_count": null,
   "metadata": {},
   "outputs": [
    {
     "data": {
      "text/plain": [
       "(1764,)"
      ]
     },
     "execution_count": 28,
     "metadata": {},
     "output_type": "execute_result"
    }
   ],
   "source": [
    "y.shape"
   ]
  },
  {
   "cell_type": "code",
   "execution_count": null,
   "metadata": {},
   "outputs": [],
   "source": []
  }
 ],
 "metadata": {
  "kernelspec": {
   "display_name": "base",
   "language": "python",
   "name": "python3"
  },
  "language_info": {
   "codemirror_mode": {
    "name": "ipython",
    "version": 3
   },
   "file_extension": ".py",
   "mimetype": "text/x-python",
   "name": "python",
   "nbconvert_exporter": "python",
   "pygments_lexer": "ipython3",
   "version": "3.9.12"
  },
  "orig_nbformat": 4,
  "vscode": {
   "interpreter": {
    "hash": "b9baaabb7af3f92ae09d746be89d264ca11beda4dade21bcf0e4e74ca662ee82"
   }
  }
 },
 "nbformat": 4,
 "nbformat_minor": 2
}
