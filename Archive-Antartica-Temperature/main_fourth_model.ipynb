{
 "cells": [
  {
   "attachments": {},
   "cell_type": "markdown",
   "metadata": {},
   "source": [
    "# Notebook 2: Trying with last periodicity of 1-7, 13,14,15, 20,21,22, 27,28,29"
   ]
  },
  {
   "attachments": {},
   "cell_type": "markdown",
   "metadata": {},
   "source": [
    "# Data\n",
    "\n",
    "The data is downloaded from NATIONAL CENTRE FOR POLAR AND OCEAN RESEARCH, India: http://data.ncaor.gov.in/newhtml"
   ]
  },
  {
   "attachments": {},
   "cell_type": "markdown",
   "metadata": {},
   "source": [
    "# Dataset Info"
   ]
  },
  {
   "cell_type": "code",
   "execution_count": 1,
   "metadata": {},
   "outputs": [
    {
     "name": "stdout",
     "output_type": "stream",
     "text": [
      "\n",
      " ----------------------Synoptic Data-------------------------------------------------------------------\n",
      " \n",
      " Measurements/ data\t: Synoptic\n",
      " Parameters\t\t: Observation Time,  wind direction, wind speed, temparature, MSLP\n",
      " Duration\t\t: 05-05-2016 to\t02-08-2021\n",
      " Location\t\t: Bharati\n",
      " Latitude and Longitude\t: 69Â°24.41'S, 76Â°11.72'E\n",
      " Data file format\t: ASCII\n",
      " \n",
      " ------------------------------------------------------------------------------------------------------\n",
      " \n",
      " \n",
      " \n",
      "\n"
     ]
    }
   ],
   "source": [
    "with open('b_imdncpor_synoptic.txt') as f:\n",
    "    print(' '.join(f.readlines()))"
   ]
  },
  {
   "cell_type": "code",
   "execution_count": 2,
   "metadata": {},
   "outputs": [],
   "source": [
    "import seaborn as sns\n",
    "from matplotlib import pyplot as plt\n",
    "import pandas as pd\n",
    "import numpy as np"
   ]
  },
  {
   "cell_type": "code",
   "execution_count": 3,
   "metadata": {},
   "outputs": [
    {
     "data": {
      "text/html": [
       "<div>\n",
       "<style scoped>\n",
       "    .dataframe tbody tr th:only-of-type {\n",
       "        vertical-align: middle;\n",
       "    }\n",
       "\n",
       "    .dataframe tbody tr th {\n",
       "        vertical-align: top;\n",
       "    }\n",
       "\n",
       "    .dataframe thead th {\n",
       "        text-align: right;\n",
       "    }\n",
       "</style>\n",
       "<table border=\"1\" class=\"dataframe\">\n",
       "  <thead>\n",
       "    <tr style=\"text-align: right;\">\n",
       "      <th></th>\n",
       "      <th>Time</th>\n",
       "      <th>WindDirection</th>\n",
       "      <th>WindSpeed</th>\n",
       "      <th>Temperature</th>\n",
       "      <th>Pressure</th>\n",
       "    </tr>\n",
       "  </thead>\n",
       "  <tbody>\n",
       "    <tr>\n",
       "      <th>0</th>\n",
       "      <td>2016-05-01 00:00:00</td>\n",
       "      <td>5</td>\n",
       "      <td>8.0</td>\n",
       "      <td>-21.5</td>\n",
       "      <td>981.1</td>\n",
       "    </tr>\n",
       "    <tr>\n",
       "      <th>1</th>\n",
       "      <td>2016-05-22 00:00:00</td>\n",
       "      <td>0</td>\n",
       "      <td>0.0</td>\n",
       "      <td>-19.4</td>\n",
       "      <td>986.1</td>\n",
       "    </tr>\n",
       "    <tr>\n",
       "      <th>2</th>\n",
       "      <td>2016-05-22 06:00:00</td>\n",
       "      <td>9</td>\n",
       "      <td>10.0</td>\n",
       "      <td>-16.6</td>\n",
       "      <td>980.4</td>\n",
       "    </tr>\n",
       "    <tr>\n",
       "      <th>3</th>\n",
       "      <td>2016-05-22 12:00:00</td>\n",
       "      <td>9</td>\n",
       "      <td>9.0</td>\n",
       "      <td>-17.4</td>\n",
       "      <td>973.4</td>\n",
       "    </tr>\n",
       "    <tr>\n",
       "      <th>4</th>\n",
       "      <td>2016-05-22 18:00:00</td>\n",
       "      <td>5</td>\n",
       "      <td>13.0</td>\n",
       "      <td>-17.4</td>\n",
       "      <td>970.7</td>\n",
       "    </tr>\n",
       "  </tbody>\n",
       "</table>\n",
       "</div>"
      ],
      "text/plain": [
       "                 Time  WindDirection  WindSpeed  Temperature  Pressure\n",
       "0 2016-05-01 00:00:00              5        8.0        -21.5     981.1\n",
       "1 2016-05-22 00:00:00              0        0.0        -19.4     986.1\n",
       "2 2016-05-22 06:00:00              9       10.0        -16.6     980.4\n",
       "3 2016-05-22 12:00:00              9        9.0        -17.4     973.4\n",
       "4 2016-05-22 18:00:00              5       13.0        -17.4     970.7"
      ]
     },
     "execution_count": 3,
     "metadata": {},
     "output_type": "execute_result"
    }
   ],
   "source": [
    "df = pd.read_csv('synoptic_bharati.csv')\n",
    "df.Time = pd.to_datetime(df.Time)\n",
    "df.head()"
   ]
  },
  {
   "cell_type": "code",
   "execution_count": 4,
   "metadata": {},
   "outputs": [
    {
     "data": {
      "text/html": [
       "<div>\n",
       "<style scoped>\n",
       "    .dataframe tbody tr th:only-of-type {\n",
       "        vertical-align: middle;\n",
       "    }\n",
       "\n",
       "    .dataframe tbody tr th {\n",
       "        vertical-align: top;\n",
       "    }\n",
       "\n",
       "    .dataframe thead th {\n",
       "        text-align: right;\n",
       "    }\n",
       "</style>\n",
       "<table border=\"1\" class=\"dataframe\">\n",
       "  <thead>\n",
       "    <tr style=\"text-align: right;\">\n",
       "      <th></th>\n",
       "      <th>Time</th>\n",
       "    </tr>\n",
       "  </thead>\n",
       "  <tbody>\n",
       "    <tr>\n",
       "      <th>0</th>\n",
       "      <td>2016-05-01 00:00:00</td>\n",
       "    </tr>\n",
       "    <tr>\n",
       "      <th>1</th>\n",
       "      <td>2016-05-01 06:00:00</td>\n",
       "    </tr>\n",
       "    <tr>\n",
       "      <th>2</th>\n",
       "      <td>2016-05-01 12:00:00</td>\n",
       "    </tr>\n",
       "    <tr>\n",
       "      <th>3</th>\n",
       "      <td>2016-05-01 18:00:00</td>\n",
       "    </tr>\n",
       "    <tr>\n",
       "      <th>4</th>\n",
       "      <td>2016-05-02 00:00:00</td>\n",
       "    </tr>\n",
       "  </tbody>\n",
       "</table>\n",
       "</div>"
      ],
      "text/plain": [
       "                 Time\n",
       "0 2016-05-01 00:00:00\n",
       "1 2016-05-01 06:00:00\n",
       "2 2016-05-01 12:00:00\n",
       "3 2016-05-01 18:00:00\n",
       "4 2016-05-02 00:00:00"
      ]
     },
     "execution_count": 4,
     "metadata": {},
     "output_type": "execute_result"
    }
   ],
   "source": [
    "min_time = df.Time.min()\n",
    "max_time = df.Time.max()\n",
    "weather_data = pd.DataFrame(pd.date_range(min_time,max_time, freq='6H'), columns=['Time'])\n",
    "weather_data.head()"
   ]
  },
  {
   "attachments": {},
   "cell_type": "markdown",
   "metadata": {},
   "source": [
    "https://pandas.pydata.org/pandas-docs/stable/user_guide/timeseries.html#offset-aliases\n",
    "\n",
    "https://pandas.pydata.org/docs/reference/api/pandas.DataFrame.asfreq.html"
   ]
  },
  {
   "cell_type": "code",
   "execution_count": 5,
   "metadata": {},
   "outputs": [
    {
     "data": {
      "text/plain": [
       "Time                0\n",
       "WindDirection    1906\n",
       "WindSpeed        2013\n",
       "Temperature      1922\n",
       "Pressure         2268\n",
       "dtype: int64"
      ]
     },
     "execution_count": 5,
     "metadata": {},
     "output_type": "execute_result"
    }
   ],
   "source": [
    "weather_data = pd.merge(weather_data, df, on='Time', how='left')\n",
    "weather_data.isna().sum()"
   ]
  },
  {
   "cell_type": "code",
   "execution_count": 6,
   "metadata": {},
   "outputs": [],
   "source": [
    "weather_data = weather_data.loc[2715:6000] # Through manual inspection and checking"
   ]
  },
  {
   "attachments": {},
   "cell_type": "markdown",
   "metadata": {},
   "source": [
    "Using Temperature data to forecast future temperature."
   ]
  },
  {
   "cell_type": "code",
   "execution_count": 7,
   "metadata": {},
   "outputs": [
    {
     "data": {
      "text/html": [
       "<div>\n",
       "<style scoped>\n",
       "    .dataframe tbody tr th:only-of-type {\n",
       "        vertical-align: middle;\n",
       "    }\n",
       "\n",
       "    .dataframe tbody tr th {\n",
       "        vertical-align: top;\n",
       "    }\n",
       "\n",
       "    .dataframe thead th {\n",
       "        text-align: right;\n",
       "    }\n",
       "</style>\n",
       "<table border=\"1\" class=\"dataframe\">\n",
       "  <thead>\n",
       "    <tr style=\"text-align: right;\">\n",
       "      <th></th>\n",
       "      <th>Temperature</th>\n",
       "    </tr>\n",
       "  </thead>\n",
       "  <tbody>\n",
       "    <tr>\n",
       "      <th>2715</th>\n",
       "      <td>-14.6</td>\n",
       "    </tr>\n",
       "    <tr>\n",
       "      <th>2716</th>\n",
       "      <td>-17.2</td>\n",
       "    </tr>\n",
       "    <tr>\n",
       "      <th>2717</th>\n",
       "      <td>-14.0</td>\n",
       "    </tr>\n",
       "    <tr>\n",
       "      <th>2718</th>\n",
       "      <td>-15.5</td>\n",
       "    </tr>\n",
       "    <tr>\n",
       "      <th>2719</th>\n",
       "      <td>-16.8</td>\n",
       "    </tr>\n",
       "  </tbody>\n",
       "</table>\n",
       "</div>"
      ],
      "text/plain": [
       "      Temperature\n",
       "2715        -14.6\n",
       "2716        -17.2\n",
       "2717        -14.0\n",
       "2718        -15.5\n",
       "2719        -16.8"
      ]
     },
     "execution_count": 7,
     "metadata": {},
     "output_type": "execute_result"
    }
   ],
   "source": [
    "temp_df = weather_data[['Temperature']].copy()\n",
    "temp_df.head()"
   ]
  },
  {
   "cell_type": "code",
   "execution_count": 8,
   "metadata": {},
   "outputs": [
    {
     "data": {
      "image/png": "[encoded data removed]",
      "text/plain": [
       "<Figure size 1800x288 with 1 Axes>"
      ]
     },
     "metadata": {
      "needs_background": "light"
     },
     "output_type": "display_data"
    }
   ],
   "source": [
    "weather_data.Temperature.plot(figsize=(25,4), title='Temperature Variation with Time')\n",
    "plt.show()"
   ]
  },
  {
   "attachments": {},
   "cell_type": "markdown",
   "metadata": {},
   "source": [
    "We can see highest temperature around january and lowet temperatures around July to October."
   ]
  },
  {
   "cell_type": "code",
   "execution_count": 9,
   "metadata": {},
   "outputs": [],
   "source": [
    "def simple_x_y_splitter(dataframe, col, prev_n_days=[]):\n",
    "    df = dataframe.copy()\n",
    "    for lag in prev_n_days:\n",
    "        df[f'lag_{lag}'] = df[col].shift(lag)\n",
    "    df.dropna(inplace=True)\n",
    "    y = df[col].values\n",
    "    X = df.drop([col], axis=1).values\n",
    "    return np.expand_dims(X,2), y"
   ]
  },
  {
   "cell_type": "code",
   "execution_count": 11,
   "metadata": {},
   "outputs": [],
   "source": [
    "X, y = simple_x_y_splitter(temp_df, 'Temperature',prev_n_days=[1,2,3,4,5,6,7,13,14,15,20,21,22,27,28,29])"
   ]
  },
  {
   "cell_type": "code",
   "execution_count": 14,
   "metadata": {},
   "outputs": [
    {
     "data": {
      "text/plain": [
       "array([-11. , -10.1, -11.5,  -8.9, -12.4, -12.9, -12.9, -13.8, -14.4,\n",
       "       -10.8, -10.4, -12.8, -12.7, -11.5, -10.7, -14. , -14.2, -11.4,\n",
       "        -9.1,  -9.3,  -6.3,  -3.7,  -8.3,  -6.4,  -6.9,  -6.8,  -8.8,\n",
       "       -10.7,  -9.5,  -8.5,  -8.7,  -8. ,  -7.3,  -6.2,  -6.9,  -9.8,\n",
       "       -10.5,  -9.1,  -9.5, -11. , -10.9,  -8.4,  -7.1,  -5.5,  -6.9,\n",
       "        -7.2,  -7. ,  -9.1,  -8. ,  -5. ,  -5.8,  -4.1,  -2.8,  -9.3,\n",
       "        -6.6,  -5.3,  -5.1,  -5. ,  -7.6,  -9.2, -10.6,  -9.3,  -9.5,\n",
       "       -10.3, -12.3, -11.3, -10.5, -10.1, -10.6,  -9.3,  -8.9,  -7.9,\n",
       "        -6.4,  -6.6,  -6.4,  -6.6,  -7.9,  -8.6,  -9.6,  -9.9, -10.6,\n",
       "       -10.5, -13.5, -15. , -15.8, -13.7, -14.1, -12.4, -12.1, -10.9,\n",
       "       -11. ,  -9.6,  -8.8,  -7.1,  -5.3,  -6. ,  -6.1,  -7.1,  -8.2,\n",
       "        -9.3, -10.4, -10.7,  -9.9,  -9.7, -11.2, -11. , -10.1, -10.2,\n",
       "       -11. , -10. , -11.4, -11.5, -12.7, -10.7, -10.8, -10.8, -10.9,\n",
       "        -8.3,  -6.6,  -4.9,  -3.4,  -2.7,  -2.7,  -3.4,  -3.5,  -6.4,\n",
       "        -8.7, -10.9,  -9.3, -10.1,  -9.9, -10.1, -10.6,  -9.7, -10.1,\n",
       "       -10.8, -11.8,  -9.3,  -8.9,  -5.3,  -4.1,  -4.5,  -5.3,  -8.8,\n",
       "        -8.1,  -6.7,  -5.8,  -5. ,  -5.6,  -5.9,  -7. ,  -9.6, -10.4,\n",
       "        -9.8, -11.1, -11. , -11.3, -11.3, -12.2, -14.1, -13.7, -14. ,\n",
       "       -14.7, -11.6, -11.5,  -7.7,  -8.5,  -9.4,  -9.6,  -9.7,  -8. ,\n",
       "       -12.2, -13.8, -16.1, -16.3, -14.3, -14.7, -15.7, -17. , -18.4,\n",
       "       -17.3, -17.5, -17.2, -17.8, -17.3, -19. , -17.9,  -8.7, -12. ,\n",
       "       -11.6, -13.2, -13.4, -13.7, -15.3, -14.1, -14.9, -16.5, -15.4,\n",
       "       -15.5, -14. , -11.8,  -7.7,  -8.3,  -6.9,  -9.7, -10.2, -10.4,\n",
       "        -8.8,  -7.1,  -7.9,  -8.4,  -9.3, -12.2, -11.1,  -9.7,  -8.1,\n",
       "        -8.3, -14.5, -11.3, -12. , -13.5, -13.1, -11.2, -10.8,  -8.9,\n",
       "        -7.3,  -6.5, -11.5, -11.6, -10.7, -17.9, -18.1, -17. , -16.6,\n",
       "       -16.5, -17.3, -18.4, -20. , -19.1, -16.7, -11.5, -12.9, -16.6,\n",
       "       -17.9,  -5.4,  -6.8,  -9.5,  -9.6, -10.7, -12.9, -14.9, -14.6,\n",
       "       -13.8, -17.2, -17.7, -16.3, -16.8, -17.4, -18. , -14.1, -18.1,\n",
       "       -18.6, -20.2,  -8.2,  -8.7,  -8.6,  -8.4,  -6.6,  -8.6,  -8.1,\n",
       "        -8.2,  -9.7, -14.6, -14.4, -15.3, -15.5, -19.7, -21.1, -19.5,\n",
       "       -17.5, -22.1, -22.5, -21.2, -20.9, -24.6, -24.7, -22.3, -21.5,\n",
       "       -23.7, -25.5, -22. , -20.4, -24.4, -25.7, -21.8, -20.9, -23.8,\n",
       "       -21.7, -19.6, -14.1, -12.7, -11.9, -10.5, -10.9, -10.7, -13.7,\n",
       "       -12. , -11.1, -13.2, -14.8, -13.3, -13.1, -17. , -17.7, -13.9,\n",
       "       -13.6, -16.3, -17.6, -14.9, -14. , -16.5, -17.7, -13.9, -12.5,\n",
       "       -17. , -15.1, -11.4,  -9.5, -10.6, -13. ,  -9.5, -10.4, -11. ,\n",
       "       -11.6,  -6.2,  -4.6,  -5.1,  -5.4,  -3.6,  -7.4, -10.8,  -9.5,\n",
       "        -8. ,  -6.3,  -5.3,  -8.2,  -8.3,  -6.8,  -5.4,  -4.9,  -7.4,\n",
       "        -6.9, -12.6,  -4.8,  -4.2,  -7.8, -11.5, -10.2, -14.7,  -2.3,\n",
       "        -5.3,  -4.4,  -2.1,  -4.1,  -5.5,  -2.4,  -0.1,  -3.5,  -1.1,\n",
       "        -0.6,  -0.9,  -2.5,  -5.1,  -5.9,  -4.3,  -1.2,   0.4,  -3.9,\n",
       "        -2.5,  -4.9,  -1.8,  -2.1,  -3.4,   2.9,   1.1,   0.1,   1.7,\n",
       "         2.4,   0.2,  -0.6,   1.2,   4.3,  -1.1,  -1.3,   1.4,   0.1,\n",
       "         0.4,  -2.4,  -0.7,  -1.8,   0. ,   2.2,   1.1,  -0.5,  -2.3,\n",
       "        -0.5,   1.5,   0.5,   0.4,  -0.3,   0. ,   0.4,   1.3,   0.9,\n",
       "         2.9,   3.6,   5.7,   2. ,  -0.2,   2.8,   3. ,   1.5,  -0.5,\n",
       "        -2.4,   4.2,  -0.6,   0.5,   4. ,   6. ,   2.9,  -0.1,   2.1,\n",
       "         1.9,  -0.6,  -0.5,   2.5,   2.2,  -0.1,  -1.7,   1.9,   3.4,\n",
       "         2.2,   0.9,   3.5,   3.4,  -0.3,  -1.8,   2. ,   3.5,  -1.2,\n",
       "        -1.9,   1.6,   1. ,  -0.8,  -0.8,   0.8,   0.8,   0. ,  -0.8,\n",
       "         1.2,   2.4,   1.2,  -0.7,   1.8,   1.7,   0.5,  -1. ,  -1.1,\n",
       "        -1.3,  -2.1,  -3.2,  -1.3,  -1.6,  -3.5,  -3.5,  -0.4,   0.8,\n",
       "        -2.1,  -4.9,  -0.5,   0.6,  -3.9,  -1.5,   5.3,   5.3,   1.5,\n",
       "         0.3,  -1.5,  -0.6,  -2.6,   0.9,   2.9,   3.3,  -4.1,  -6.4,\n",
       "        -2.5,  -2.6,  -6.2,  -8. ,  -5.6,  -4.7,  -4.7,  -7.1,  -3.4,\n",
       "        -2.4,  -1.4,  -1.9,  -0.3,  -1.5,  -1.4,  -5.6,  -1.8,  -4. ,\n",
       "        -6.7, -11.2,  -7.3,  -8.1, -10.8, -11.8,  -9.6,  -8.4,  -8.1,\n",
       "        -7. ,  -5.7,  -5.8,  -5.3,  -5.4,  -3.9,  -5.3,  -5.6,  -5.9,\n",
       "        -7.1,  -6.4,  -5.7,  -9.8,  -6.8,  -5.7,  -5.6, -10. , -10.9,\n",
       "       -11.5, -15.9, -17.1,  -5.9,  -6.4,  -8.9, -10.5,  -6.7, -12.2,\n",
       "       -13. , -21.8, -17.8, -10.9, -14.1, -16. , -14.9, -16.6, -18.2,\n",
       "       -19.9, -12.4, -13.3, -12.7, -13.8, -22.1, -25.7, -21.4, -23.6,\n",
       "       -25.2, -26. , -26.3, -27.6, -20.9, -21. , -21.2, -20.6, -21.3,\n",
       "       -20.5, -20. , -18.3, -17.1, -16.3, -15.6, -17.1, -17.2, -18.3,\n",
       "       -18.7, -19.3, -19.9, -19.7, -21.4, -22. , -21.7, -21.5, -20.8,\n",
       "       -20.2, -22.7, -23. , -21.9, -20. , -13.1, -16.2, -24.6, -21. ,\n",
       "       -13.3, -31.4,  -6.9,  -7.4,  -7.2,  -7.5, -11.6, -10.6, -11.4,\n",
       "        -8.7,  -7.5,  -6.4,  -8.3,  -9.7,  -9.3, -13.6, -14.1, -13. ,\n",
       "       -27.9, -22.7, -21.4, -27.1, -28.8, -27.5, -28.2, -22.9, -21.8,\n",
       "       -29.4,  -7.7,  -7.3, -17.3, -12.6, -12.9, -13.8, -15.7, -15.9,\n",
       "       -22.7, -20.9, -19.7, -17.7, -19.9, -13.1, -17.4, -12.9, -10.9,\n",
       "       -11. , -14.7, -14.7, -13.7, -18.2, -17.2, -22.5, -12. , -10.9,\n",
       "        -5.3,  -0.9,  -0.2,  -1.7,  -1.5,   0.7,   0.7,  -4.6,  -8.3,\n",
       "        -4.9,  -4.1,  -7.8,  -7.8,  -5.8,  -5.1,  -6.3,  -8.8,  -5.4,\n",
       "        -5.7,  -6.5,  -1. ,  -1.2,  -2.7,  -0.5,  -0.3,   0.5,  -1. ,\n",
       "        -0.8,   4.6,   4.2,   2.5,   0.8,   2.7,   2. ,  -0.4,  -3.9,\n",
       "        -1.5,   3.7,   0.7,   0.2,   0.9,   2.1,  -1. ,  -1.9,  -1.9,\n",
       "        -1.7,  -1.8,  -3.3,  -1.6,  -0.7,  -3.4,  -1.7,   0.6,   0.4,\n",
       "        -1.1,   1.2,   3.8,   4.1,   1. ,   1.9,   3.2,   1.5,   0.3,\n",
       "        -0.1,   0.5,   2. ,   4.5,   3.3,   3. ,   5.3,   5.1,   5. ,\n",
       "         3. ,   1.2,   2.1,   3. ,   1.2,   0.9,   0.5,   1.4,   0.3,\n",
       "         0.1,  -1.4,  -0.5,   0.8,  -1.2,   0. ,   3.1,   3.6,   3.6,\n",
       "        -1.9,  -0.8,  -3.6, -11. , -12.9, -10.5, -13. , -13.1, -13.1,\n",
       "       -13.6, -13.3, -13.4, -10.3, -12.3, -11.6, -16. , -20.9, -16.6,\n",
       "       -15.1, -14.6, -14.1, -15.2, -18.4, -17.5, -17.3, -17.5, -19.1,\n",
       "       -19.2, -22.5, -20.5, -19.1, -20. , -18.6, -20.7, -18.8, -16.5,\n",
       "        -7.3,  -5.7,  -7.6, -15.7, -20. , -21.4, -19. , -17.1, -12.3,\n",
       "        -9.4, -11.4, -11.9, -14.9, -16.6, -15.3, -15. , -14.8, -15.4,\n",
       "       -11.6, -12.1, -16.9, -17.4, -15.8, -14.9, -14.7, -15.4, -14.5,\n",
       "       -15.5, -15.6, -14.3, -10.1, -11.3,  -8.8,  -6.5,  -5.2,  -8.9,\n",
       "        -9.7,  -9.3,  -8.7,  -8.7,  -9.4, -11.5,  -9.6,  -9.3,  -9.1,\n",
       "        -9.3,  -8.9,  -8.3, -10.6,  -9.5, -10.2, -11.1, -11.9, -12.8,\n",
       "       -11.4, -14.2, -17.9, -12.8, -14.2, -16.4, -16.7, -18.3, -16. ,\n",
       "       -18.5, -16.5, -13.8, -11.5, -12.9, -13.3, -13.1, -12.6, -15.1,\n",
       "       -14.7, -15.5, -15.5, -16.1, -16.3, -15.1, -14.2, -15.3, -19.3,\n",
       "       -15. , -13.7, -14.7, -16.6, -17.9, -15. , -15.1, -14.7, -14.2,\n",
       "       -11.3, -10.8, -10.4,  -8. ,  -5.8,  -7.3,  -6.9,  -7.9,  -6.9,\n",
       "       -12.4,  -7.3, -15.8, -17.1, -16.1,  -6. ,  -8.4,  -8.8, -10. ,\n",
       "       -11.5,  -7.9])"
      ]
     },
     "execution_count": 14,
     "metadata": {},
     "output_type": "execute_result"
    }
   ],
   "source": [
    "y"
   ]
  },
  {
   "cell_type": "code",
   "execution_count": 15,
   "metadata": {},
   "outputs": [
    {
     "data": {
      "text/plain": [
       "array([[[-11.5],\n",
       "        [-11.2],\n",
       "        [-10.1],\n",
       "        ...,\n",
       "        [-15.5],\n",
       "        [-14. ],\n",
       "        [-17.2]],\n",
       "\n",
       "       [[-11. ],\n",
       "        [-11.5],\n",
       "        [-11.2],\n",
       "        ...,\n",
       "        [-16.8],\n",
       "        [-15.5],\n",
       "        [-14. ]],\n",
       "\n",
       "       [[-10.1],\n",
       "        [-11. ],\n",
       "        [-11.5],\n",
       "        ...,\n",
       "        [-16.5],\n",
       "        [-16.8],\n",
       "        [-15.5]],\n",
       "\n",
       "       ...,\n",
       "\n",
       "       [[ -9.6],\n",
       "        [ -9.4],\n",
       "        [ -8.9],\n",
       "        ...,\n",
       "        [-16.1],\n",
       "        [-17.1],\n",
       "        [-15.8]],\n",
       "\n",
       "       [[-10. ],\n",
       "        [ -9.6],\n",
       "        [ -9.4],\n",
       "        ...,\n",
       "        [-14.9],\n",
       "        [-16.1],\n",
       "        [-17.1]],\n",
       "\n",
       "       [[-11.5],\n",
       "        [-10. ],\n",
       "        [ -9.6],\n",
       "        ...,\n",
       "        [-14.6],\n",
       "        [-14.9],\n",
       "        [-16.1]]])"
      ]
     },
     "execution_count": 15,
     "metadata": {},
     "output_type": "execute_result"
    }
   ],
   "source": [
    "X"
   ]
  },
  {
   "attachments": {},
   "cell_type": "markdown",
   "metadata": {},
   "source": [
    "# Temporal splitting"
   ]
  },
  {
   "cell_type": "code",
   "execution_count": 16,
   "metadata": {},
   "outputs": [
    {
     "name": "stdout",
     "output_type": "stream",
     "text": [
      "625 759\n"
     ]
    }
   ],
   "source": [
    "train_val_split_idx, val_test_split_idx = int(X.shape[0]*.7), int(X.shape[0]*.85)\n",
    "print(train_val_split_idx, val_test_split_idx)\n",
    "X_train, y_train = X[:train_val_split_idx], y[:train_val_split_idx]\n",
    "X_val, y_val = X[train_val_split_idx:val_test_split_idx], y[train_val_split_idx:val_test_split_idx]\n",
    "X_test, y_test = X[val_test_split_idx:], y[val_test_split_idx:]"
   ]
  },
  {
   "attachments": {},
   "cell_type": "markdown",
   "metadata": {},
   "source": [
    "# Standardization"
   ]
  },
  {
   "cell_type": "code",
   "execution_count": 17,
   "metadata": {},
   "outputs": [],
   "source": [
    "X_train_mean = X_train.mean()\n",
    "X_train_sd= X_train.std()\n",
    "y_train_mean = y_train.mean()\n",
    "y_train_sd= y_train.std()\n",
    "\n",
    "def standardize(x, y):\n",
    "    x_std = (x-X_train_mean)/X_train_sd\n",
    "    y_std = (y-y_train_mean)/y_train_sd\n",
    "    return x_std, y_std\n",
    "\n",
    "X_train_std, y_train_std = standardize(X_train, y_train)\n",
    "X_val_std, y_val_std = standardize(X_val, y_val)\n",
    "X_test_std, y_test_std = standardize(X_test, y_test)"
   ]
  },
  {
   "attachments": {},
   "cell_type": "markdown",
   "metadata": {},
   "source": [
    "# LSTM Model 1"
   ]
  },
  {
   "cell_type": "code",
   "execution_count": 18,
   "metadata": {},
   "outputs": [],
   "source": [
    "from tensorflow.keras.layers import *\n",
    "from tensorflow.keras.models import Sequential\n",
    "from tensorflow.keras.optimizers import Adam\n",
    "from tensorflow.keras.callbacks import ModelCheckpoint\n",
    "from tensorflow.keras.losses import MeanSquaredError\n",
    "from tensorflow.keras.metrics import RootMeanSquaredError"
   ]
  },
  {
   "cell_type": "code",
   "execution_count": 22,
   "metadata": {},
   "outputs": [],
   "source": [
    "from tensorflow.keras.callbacks import TensorBoard\n",
    "\n",
    "tb1 = TensorBoard(\n",
    "    log_dir='logs4',\n",
    "    histogram_freq=0,\n",
    "    write_graph=True,\n",
    "    write_images=False,\n",
    "    write_steps_per_second=False,\n",
    "    update_freq='epoch',\n",
    "    profile_batch=0,\n",
    "    embeddings_freq=0,\n",
    "    embeddings_metadata=None\n",
    ")"
   ]
  },
  {
   "cell_type": "code",
   "execution_count": 26,
   "metadata": {},
   "outputs": [
    {
     "data": {
      "text/plain": [
       "16"
      ]
     },
     "execution_count": 26,
     "metadata": {},
     "output_type": "execute_result"
    }
   ],
   "source": [
    "len([1,2,3,4,5,6,7,13,14,15,20,21,22,27,28,29])"
   ]
  },
  {
   "cell_type": "code",
   "execution_count": 27,
   "metadata": {},
   "outputs": [
    {
     "name": "stdout",
     "output_type": "stream",
     "text": [
      "Model: \"sequential_2\"\n",
      "_________________________________________________________________\n",
      " Layer (type)                Output Shape              Param #   \n",
      "=================================================================\n",
      " lstm_2 (LSTM)               (None, 64)                16896     \n",
      "                                                                 \n",
      " dense_4 (Dense)             (None, 8)                 520       \n",
      "                                                                 \n",
      " dense_5 (Dense)             (None, 1)                 9         \n",
      "                                                                 \n",
      "=================================================================\n",
      "Total params: 17,425\n",
      "Trainable params: 17,425\n",
      "Non-trainable params: 0\n",
      "_________________________________________________________________\n"
     ]
    }
   ],
   "source": [
    "model1 = Sequential()\n",
    "model1.add(InputLayer((16,1)))\n",
    "model1.add(LSTM(64))\n",
    "model1.add(Dense(8,'relu'))\n",
    "model1.add(Dense(1,'linear'))\n",
    "model1.summary()"
   ]
  },
  {
   "cell_type": "code",
   "execution_count": 28,
   "metadata": {},
   "outputs": [],
   "source": [
    "cp1 = ModelCheckpoint('model4/', save_best_only=True)\n",
    "model1.compile(loss=MeanSquaredError(), optimizer=Adam(learning_rate=0.001), metrics=[RootMeanSquaredError()])"
   ]
  },
  {
   "cell_type": "code",
   "execution_count": 29,
   "metadata": {},
   "outputs": [
    {
     "name": "stdout",
     "output_type": "stream",
     "text": [
      "Epoch 1/50\n",
      "20/20 [==============================] - ETA: 0s - loss: 102.9813 - root_mean_squared_error: 10.1480"
     ]
    },
    {
     "name": "stderr",
     "output_type": "stream",
     "text": [
      "WARNING:absl:Found untraced functions such as lstm_cell_2_layer_call_fn, lstm_cell_2_layer_call_and_return_conditional_losses while saving (showing 2 of 2). These functions will not be directly callable after loading.\n"
     ]
    },
    {
     "name": "stdout",
     "output_type": "stream",
     "text": [
      "INFO:tensorflow:Assets written to: model4\\assets\n"
     ]
    },
    {
     "name": "stderr",
     "output_type": "stream",
     "text": [
      "INFO:tensorflow:Assets written to: model4\\assets\n"
     ]
    },
    {
     "name": "stdout",
     "output_type": "stream",
     "text": [
      "20/20 [==============================] - 30s 1s/step - loss: 102.9813 - root_mean_squared_error: 10.1480 - val_loss: 59.8081 - val_root_mean_squared_error: 7.7336\n",
      "Epoch 2/50\n",
      "16/20 [=======================>......] - ETA: 0s - loss: 51.8771 - root_mean_squared_error: 7.2026"
     ]
    },
    {
     "name": "stderr",
     "output_type": "stream",
     "text": [
      "WARNING:absl:Found untraced functions such as lstm_cell_2_layer_call_fn, lstm_cell_2_layer_call_and_return_conditional_losses while saving (showing 2 of 2). These functions will not be directly callable after loading.\n"
     ]
    },
    {
     "name": "stdout",
     "output_type": "stream",
     "text": [
      "INFO:tensorflow:Assets written to: model4\\assets\n"
     ]
    },
    {
     "name": "stderr",
     "output_type": "stream",
     "text": [
      "INFO:tensorflow:Assets written to: model4\\assets\n"
     ]
    },
    {
     "name": "stdout",
     "output_type": "stream",
     "text": [
      "20/20 [==============================] - 12s 657ms/step - loss: 52.3679 - root_mean_squared_error: 7.2366 - val_loss: 39.2687 - val_root_mean_squared_error: 6.2665\n",
      "Epoch 3/50\n",
      "18/20 [==========================>...] - ETA: 0s - loss: 29.7444 - root_mean_squared_error: 5.4538"
     ]
    },
    {
     "name": "stderr",
     "output_type": "stream",
     "text": [
      "WARNING:absl:Found untraced functions such as lstm_cell_2_layer_call_fn, lstm_cell_2_layer_call_and_return_conditional_losses while saving (showing 2 of 2). These functions will not be directly callable after loading.\n"
     ]
    },
    {
     "name": "stdout",
     "output_type": "stream",
     "text": [
      "INFO:tensorflow:Assets written to: model4\\assets\n"
     ]
    },
    {
     "name": "stderr",
     "output_type": "stream",
     "text": [
      "INFO:tensorflow:Assets written to: model4\\assets\n"
     ]
    },
    {
     "name": "stdout",
     "output_type": "stream",
     "text": [
      "20/20 [==============================] - 16s 863ms/step - loss: 28.5540 - root_mean_squared_error: 5.3436 - val_loss: 23.2822 - val_root_mean_squared_error: 4.8252\n",
      "Epoch 4/50\n",
      "17/20 [========================>.....] - ETA: 0s - loss: 20.3352 - root_mean_squared_error: 4.5095"
     ]
    },
    {
     "name": "stderr",
     "output_type": "stream",
     "text": [
      "WARNING:absl:Found untraced functions such as lstm_cell_2_layer_call_fn, lstm_cell_2_layer_call_and_return_conditional_losses while saving (showing 2 of 2). These functions will not be directly callable after loading.\n"
     ]
    },
    {
     "name": "stdout",
     "output_type": "stream",
     "text": [
      "INFO:tensorflow:Assets written to: model4\\assets\n"
     ]
    },
    {
     "name": "stderr",
     "output_type": "stream",
     "text": [
      "INFO:tensorflow:Assets written to: model4\\assets\n"
     ]
    },
    {
     "name": "stdout",
     "output_type": "stream",
     "text": [
      "20/20 [==============================] - 16s 830ms/step - loss: 19.6127 - root_mean_squared_error: 4.4286 - val_loss: 18.4147 - val_root_mean_squared_error: 4.2912\n",
      "Epoch 5/50\n",
      "16/20 [=======================>......] - ETA: 0s - loss: 16.0752 - root_mean_squared_error: 4.0094"
     ]
    },
    {
     "name": "stderr",
     "output_type": "stream",
     "text": [
      "WARNING:absl:Found untraced functions such as lstm_cell_2_layer_call_fn, lstm_cell_2_layer_call_and_return_conditional_losses while saving (showing 2 of 2). These functions will not be directly callable after loading.\n"
     ]
    },
    {
     "name": "stdout",
     "output_type": "stream",
     "text": [
      "INFO:tensorflow:Assets written to: model4\\assets\n"
     ]
    },
    {
     "name": "stderr",
     "output_type": "stream",
     "text": [
      "INFO:tensorflow:Assets written to: model4\\assets\n"
     ]
    },
    {
     "name": "stdout",
     "output_type": "stream",
     "text": [
      "20/20 [==============================] - 12s 651ms/step - loss: 15.5401 - root_mean_squared_error: 3.9421 - val_loss: 14.9305 - val_root_mean_squared_error: 3.8640\n",
      "Epoch 6/50\n",
      "16/20 [=======================>......] - ETA: 0s - loss: 12.8393 - root_mean_squared_error: 3.5832"
     ]
    },
    {
     "name": "stderr",
     "output_type": "stream",
     "text": [
      "WARNING:absl:Found untraced functions such as lstm_cell_2_layer_call_fn, lstm_cell_2_layer_call_and_return_conditional_losses while saving (showing 2 of 2). These functions will not be directly callable after loading.\n"
     ]
    },
    {
     "name": "stdout",
     "output_type": "stream",
     "text": [
      "INFO:tensorflow:Assets written to: model4\\assets\n"
     ]
    },
    {
     "name": "stderr",
     "output_type": "stream",
     "text": [
      "INFO:tensorflow:Assets written to: model4\\assets\n"
     ]
    },
    {
     "name": "stdout",
     "output_type": "stream",
     "text": [
      "20/20 [==============================] - 13s 666ms/step - loss: 12.9679 - root_mean_squared_error: 3.6011 - val_loss: 13.3422 - val_root_mean_squared_error: 3.6527\n",
      "Epoch 7/50\n",
      "16/20 [=======================>......] - ETA: 0s - loss: 12.0819 - root_mean_squared_error: 3.4759"
     ]
    },
    {
     "name": "stderr",
     "output_type": "stream",
     "text": [
      "WARNING:absl:Found untraced functions such as lstm_cell_2_layer_call_fn, lstm_cell_2_layer_call_and_return_conditional_losses while saving (showing 2 of 2). These functions will not be directly callable after loading.\n"
     ]
    },
    {
     "name": "stdout",
     "output_type": "stream",
     "text": [
      "INFO:tensorflow:Assets written to: model4\\assets\n"
     ]
    },
    {
     "name": "stderr",
     "output_type": "stream",
     "text": [
      "INFO:tensorflow:Assets written to: model4\\assets\n"
     ]
    },
    {
     "name": "stdout",
     "output_type": "stream",
     "text": [
      "20/20 [==============================] - 12s 635ms/step - loss: 11.1678 - root_mean_squared_error: 3.3418 - val_loss: 11.9720 - val_root_mean_squared_error: 3.4601\n",
      "Epoch 8/50\n",
      "17/20 [========================>.....] - ETA: 0s - loss: 9.4764 - root_mean_squared_error: 3.0784"
     ]
    },
    {
     "name": "stderr",
     "output_type": "stream",
     "text": [
      "WARNING:absl:Found untraced functions such as lstm_cell_2_layer_call_fn, lstm_cell_2_layer_call_and_return_conditional_losses while saving (showing 2 of 2). These functions will not be directly callable after loading.\n"
     ]
    },
    {
     "name": "stdout",
     "output_type": "stream",
     "text": [
      "INFO:tensorflow:Assets written to: model4\\assets\n"
     ]
    },
    {
     "name": "stderr",
     "output_type": "stream",
     "text": [
      "INFO:tensorflow:Assets written to: model4\\assets\n"
     ]
    },
    {
     "name": "stdout",
     "output_type": "stream",
     "text": [
      "20/20 [==============================] - 12s 640ms/step - loss: 9.3973 - root_mean_squared_error: 3.0655 - val_loss: 11.4947 - val_root_mean_squared_error: 3.3904\n",
      "Epoch 9/50\n",
      "16/20 [=======================>......] - ETA: 0s - loss: 8.4538 - root_mean_squared_error: 2.9075"
     ]
    },
    {
     "name": "stderr",
     "output_type": "stream",
     "text": [
      "WARNING:absl:Found untraced functions such as lstm_cell_2_layer_call_fn, lstm_cell_2_layer_call_and_return_conditional_losses while saving (showing 2 of 2). These functions will not be directly callable after loading.\n"
     ]
    },
    {
     "name": "stdout",
     "output_type": "stream",
     "text": [
      "INFO:tensorflow:Assets written to: model4\\assets\n"
     ]
    },
    {
     "name": "stderr",
     "output_type": "stream",
     "text": [
      "INFO:tensorflow:Assets written to: model4\\assets\n"
     ]
    },
    {
     "name": "stdout",
     "output_type": "stream",
     "text": [
      "20/20 [==============================] - 11s 569ms/step - loss: 8.2494 - root_mean_squared_error: 2.8722 - val_loss: 9.6534 - val_root_mean_squared_error: 3.1070\n",
      "Epoch 10/50\n",
      "20/20 [==============================] - 0s 15ms/step - loss: 7.3987 - root_mean_squared_error: 2.7200 - val_loss: 9.8443 - val_root_mean_squared_error: 3.1376\n",
      "Epoch 11/50\n",
      "18/20 [==========================>...] - ETA: 0s - loss: 6.8943 - root_mean_squared_error: 2.6257"
     ]
    },
    {
     "name": "stderr",
     "output_type": "stream",
     "text": [
      "WARNING:absl:Found untraced functions such as lstm_cell_2_layer_call_fn, lstm_cell_2_layer_call_and_return_conditional_losses while saving (showing 2 of 2). These functions will not be directly callable after loading.\n"
     ]
    },
    {
     "name": "stdout",
     "output_type": "stream",
     "text": [
      "INFO:tensorflow:Assets written to: model4\\assets\n"
     ]
    },
    {
     "name": "stderr",
     "output_type": "stream",
     "text": [
      "INFO:tensorflow:Assets written to: model4\\assets\n"
     ]
    },
    {
     "name": "stdout",
     "output_type": "stream",
     "text": [
      "20/20 [==============================] - 13s 666ms/step - loss: 6.7248 - root_mean_squared_error: 2.5932 - val_loss: 8.8035 - val_root_mean_squared_error: 2.9671\n",
      "Epoch 12/50\n",
      "18/20 [==========================>...] - ETA: 0s - loss: 5.9685 - root_mean_squared_error: 2.4431"
     ]
    },
    {
     "name": "stderr",
     "output_type": "stream",
     "text": [
      "WARNING:absl:Found untraced functions such as lstm_cell_2_layer_call_fn, lstm_cell_2_layer_call_and_return_conditional_losses while saving (showing 2 of 2). These functions will not be directly callable after loading.\n"
     ]
    },
    {
     "name": "stdout",
     "output_type": "stream",
     "text": [
      "INFO:tensorflow:Assets written to: model4\\assets\n"
     ]
    },
    {
     "name": "stderr",
     "output_type": "stream",
     "text": [
      "INFO:tensorflow:Assets written to: model4\\assets\n"
     ]
    },
    {
     "name": "stdout",
     "output_type": "stream",
     "text": [
      "20/20 [==============================] - 14s 738ms/step - loss: 6.0427 - root_mean_squared_error: 2.4582 - val_loss: 8.6524 - val_root_mean_squared_error: 2.9415\n",
      "Epoch 13/50\n",
      "16/20 [=======================>......] - ETA: 0s - loss: 6.4172 - root_mean_squared_error: 2.5332"
     ]
    },
    {
     "name": "stderr",
     "output_type": "stream",
     "text": [
      "WARNING:absl:Found untraced functions such as lstm_cell_2_layer_call_fn, lstm_cell_2_layer_call_and_return_conditional_losses while saving (showing 2 of 2). These functions will not be directly callable after loading.\n"
     ]
    },
    {
     "name": "stdout",
     "output_type": "stream",
     "text": [
      "INFO:tensorflow:Assets written to: model4\\assets\n"
     ]
    },
    {
     "name": "stderr",
     "output_type": "stream",
     "text": [
      "INFO:tensorflow:Assets written to: model4\\assets\n"
     ]
    },
    {
     "name": "stdout",
     "output_type": "stream",
     "text": [
      "20/20 [==============================] - 21s 1s/step - loss: 6.1108 - root_mean_squared_error: 2.4720 - val_loss: 7.8351 - val_root_mean_squared_error: 2.7991\n",
      "Epoch 14/50\n",
      "20/20 [==============================] - 2s 96ms/step - loss: 5.9299 - root_mean_squared_error: 2.4351 - val_loss: 8.6287 - val_root_mean_squared_error: 2.9375\n",
      "Epoch 15/50\n",
      "20/20 [==============================] - ETA: 0s - loss: 5.5579 - root_mean_squared_error: 2.3575"
     ]
    },
    {
     "name": "stderr",
     "output_type": "stream",
     "text": [
      "WARNING:absl:Found untraced functions such as lstm_cell_2_layer_call_fn, lstm_cell_2_layer_call_and_return_conditional_losses while saving (showing 2 of 2). These functions will not be directly callable after loading.\n"
     ]
    },
    {
     "name": "stdout",
     "output_type": "stream",
     "text": [
      "INFO:tensorflow:Assets written to: model4\\assets\n"
     ]
    },
    {
     "name": "stderr",
     "output_type": "stream",
     "text": [
      "INFO:tensorflow:Assets written to: model4\\assets\n"
     ]
    },
    {
     "name": "stdout",
     "output_type": "stream",
     "text": [
      "20/20 [==============================] - 16s 821ms/step - loss: 5.5579 - root_mean_squared_error: 2.3575 - val_loss: 7.7554 - val_root_mean_squared_error: 2.7849\n",
      "Epoch 16/50\n",
      "20/20 [==============================] - ETA: 0s - loss: 5.0698 - root_mean_squared_error: 2.2516"
     ]
    },
    {
     "name": "stderr",
     "output_type": "stream",
     "text": [
      "WARNING:absl:Found untraced functions such as lstm_cell_2_layer_call_fn, lstm_cell_2_layer_call_and_return_conditional_losses while saving (showing 2 of 2). These functions will not be directly callable after loading.\n"
     ]
    },
    {
     "name": "stdout",
     "output_type": "stream",
     "text": [
      "INFO:tensorflow:Assets written to: model4\\assets\n"
     ]
    },
    {
     "name": "stderr",
     "output_type": "stream",
     "text": [
      "INFO:tensorflow:Assets written to: model4\\assets\n"
     ]
    },
    {
     "name": "stdout",
     "output_type": "stream",
     "text": [
      "20/20 [==============================] - 14s 721ms/step - loss: 5.0698 - root_mean_squared_error: 2.2516 - val_loss: 7.3734 - val_root_mean_squared_error: 2.7154\n",
      "Epoch 17/50\n",
      "20/20 [==============================] - ETA: 0s - loss: 4.8562 - root_mean_squared_error: 2.2037"
     ]
    },
    {
     "name": "stderr",
     "output_type": "stream",
     "text": [
      "WARNING:absl:Found untraced functions such as lstm_cell_2_layer_call_fn, lstm_cell_2_layer_call_and_return_conditional_losses while saving (showing 2 of 2). These functions will not be directly callable after loading.\n"
     ]
    },
    {
     "name": "stdout",
     "output_type": "stream",
     "text": [
      "INFO:tensorflow:Assets written to: model4\\assets\n"
     ]
    },
    {
     "name": "stderr",
     "output_type": "stream",
     "text": [
      "INFO:tensorflow:Assets written to: model4\\assets\n"
     ]
    },
    {
     "name": "stdout",
     "output_type": "stream",
     "text": [
      "20/20 [==============================] - 48s 3s/step - loss: 4.8562 - root_mean_squared_error: 2.2037 - val_loss: 7.1825 - val_root_mean_squared_error: 2.6800\n",
      "Epoch 18/50\n",
      "18/20 [==========================>...] - ETA: 0s - loss: 4.6756 - root_mean_squared_error: 2.1623"
     ]
    },
    {
     "name": "stderr",
     "output_type": "stream",
     "text": [
      "WARNING:absl:Found untraced functions such as lstm_cell_2_layer_call_fn, lstm_cell_2_layer_call_and_return_conditional_losses while saving (showing 2 of 2). These functions will not be directly callable after loading.\n"
     ]
    },
    {
     "name": "stdout",
     "output_type": "stream",
     "text": [
      "INFO:tensorflow:Assets written to: model4\\assets\n"
     ]
    },
    {
     "name": "stderr",
     "output_type": "stream",
     "text": [
      "INFO:tensorflow:Assets written to: model4\\assets\n"
     ]
    },
    {
     "name": "stdout",
     "output_type": "stream",
     "text": [
      "20/20 [==============================] - 20s 1s/step - loss: 4.6280 - root_mean_squared_error: 2.1513 - val_loss: 6.8995 - val_root_mean_squared_error: 2.6267\n",
      "Epoch 19/50\n",
      "19/20 [===========================>..] - ETA: 0s - loss: 4.8988 - root_mean_squared_error: 2.2133"
     ]
    },
    {
     "name": "stderr",
     "output_type": "stream",
     "text": [
      "WARNING:absl:Found untraced functions such as lstm_cell_2_layer_call_fn, lstm_cell_2_layer_call_and_return_conditional_losses while saving (showing 2 of 2). These functions will not be directly callable after loading.\n"
     ]
    },
    {
     "name": "stdout",
     "output_type": "stream",
     "text": [
      "INFO:tensorflow:Assets written to: model4\\assets\n"
     ]
    },
    {
     "name": "stderr",
     "output_type": "stream",
     "text": [
      "INFO:tensorflow:Assets written to: model4\\assets\n"
     ]
    },
    {
     "name": "stdout",
     "output_type": "stream",
     "text": [
      "20/20 [==============================] - 16s 849ms/step - loss: 5.0177 - root_mean_squared_error: 2.2400 - val_loss: 6.7643 - val_root_mean_squared_error: 2.6008\n",
      "Epoch 20/50\n",
      "17/20 [========================>.....] - ETA: 0s - loss: 5.0811 - root_mean_squared_error: 2.2541"
     ]
    },
    {
     "name": "stderr",
     "output_type": "stream",
     "text": [
      "WARNING:absl:Found untraced functions such as lstm_cell_2_layer_call_fn, lstm_cell_2_layer_call_and_return_conditional_losses while saving (showing 2 of 2). These functions will not be directly callable after loading.\n"
     ]
    },
    {
     "name": "stdout",
     "output_type": "stream",
     "text": [
      "INFO:tensorflow:Assets written to: model4\\assets\n"
     ]
    },
    {
     "name": "stderr",
     "output_type": "stream",
     "text": [
      "INFO:tensorflow:Assets written to: model4\\assets\n"
     ]
    },
    {
     "name": "stdout",
     "output_type": "stream",
     "text": [
      "20/20 [==============================] - 15s 771ms/step - loss: 5.0179 - root_mean_squared_error: 2.2401 - val_loss: 6.5604 - val_root_mean_squared_error: 2.5613\n",
      "Epoch 21/50\n",
      "18/20 [==========================>...] - ETA: 0s - loss: 4.5049 - root_mean_squared_error: 2.1225"
     ]
    },
    {
     "name": "stderr",
     "output_type": "stream",
     "text": [
      "WARNING:absl:Found untraced functions such as lstm_cell_2_layer_call_fn, lstm_cell_2_layer_call_and_return_conditional_losses while saving (showing 2 of 2). These functions will not be directly callable after loading.\n"
     ]
    },
    {
     "name": "stdout",
     "output_type": "stream",
     "text": [
      "INFO:tensorflow:Assets written to: model4\\assets\n"
     ]
    },
    {
     "name": "stderr",
     "output_type": "stream",
     "text": [
      "INFO:tensorflow:Assets written to: model4\\assets\n"
     ]
    },
    {
     "name": "stdout",
     "output_type": "stream",
     "text": [
      "20/20 [==============================] - 12s 615ms/step - loss: 4.3838 - root_mean_squared_error: 2.0938 - val_loss: 6.5095 - val_root_mean_squared_error: 2.5514\n",
      "Epoch 22/50\n",
      "20/20 [==============================] - 0s 17ms/step - loss: 4.5502 - root_mean_squared_error: 2.1331 - val_loss: 6.6464 - val_root_mean_squared_error: 2.5781\n",
      "Epoch 23/50\n",
      "18/20 [==========================>...] - ETA: 0s - loss: 4.2863 - root_mean_squared_error: 2.0703"
     ]
    },
    {
     "name": "stderr",
     "output_type": "stream",
     "text": [
      "WARNING:absl:Found untraced functions such as lstm_cell_2_layer_call_fn, lstm_cell_2_layer_call_and_return_conditional_losses while saving (showing 2 of 2). These functions will not be directly callable after loading.\n"
     ]
    },
    {
     "name": "stdout",
     "output_type": "stream",
     "text": [
      "INFO:tensorflow:Assets written to: model4\\assets\n"
     ]
    },
    {
     "name": "stderr",
     "output_type": "stream",
     "text": [
      "INFO:tensorflow:Assets written to: model4\\assets\n"
     ]
    },
    {
     "name": "stdout",
     "output_type": "stream",
     "text": [
      "20/20 [==============================] - 12s 652ms/step - loss: 4.2503 - root_mean_squared_error: 2.0616 - val_loss: 5.9830 - val_root_mean_squared_error: 2.4460\n",
      "Epoch 24/50\n",
      "20/20 [==============================] - 0s 15ms/step - loss: 4.3741 - root_mean_squared_error: 2.0914 - val_loss: 6.4928 - val_root_mean_squared_error: 2.5481\n",
      "Epoch 25/50\n",
      "20/20 [==============================] - 0s 15ms/step - loss: 4.3833 - root_mean_squared_error: 2.0936 - val_loss: 6.3534 - val_root_mean_squared_error: 2.5206\n",
      "Epoch 26/50\n",
      "20/20 [==============================] - 0s 16ms/step - loss: 4.1851 - root_mean_squared_error: 2.0457 - val_loss: 6.4411 - val_root_mean_squared_error: 2.5379\n",
      "Epoch 27/50\n",
      "20/20 [==============================] - 0s 24ms/step - loss: 4.1957 - root_mean_squared_error: 2.0483 - val_loss: 6.4780 - val_root_mean_squared_error: 2.5452\n",
      "Epoch 28/50\n",
      "20/20 [==============================] - 0s 16ms/step - loss: 4.2205 - root_mean_squared_error: 2.0544 - val_loss: 6.4194 - val_root_mean_squared_error: 2.5337\n",
      "Epoch 29/50\n",
      "20/20 [==============================] - 0s 15ms/step - loss: 4.0760 - root_mean_squared_error: 2.0189 - val_loss: 6.0951 - val_root_mean_squared_error: 2.4688\n",
      "Epoch 30/50\n",
      "20/20 [==============================] - 0s 15ms/step - loss: 4.0658 - root_mean_squared_error: 2.0164 - val_loss: 6.5222 - val_root_mean_squared_error: 2.5539\n",
      "Epoch 31/50\n",
      "20/20 [==============================] - 0s 15ms/step - loss: 4.3748 - root_mean_squared_error: 2.0916 - val_loss: 6.2143 - val_root_mean_squared_error: 2.4928\n",
      "Epoch 32/50\n",
      "20/20 [==============================] - ETA: 0s - loss: 4.0462 - root_mean_squared_error: 2.0115"
     ]
    },
    {
     "name": "stderr",
     "output_type": "stream",
     "text": [
      "WARNING:absl:Found untraced functions such as lstm_cell_2_layer_call_fn, lstm_cell_2_layer_call_and_return_conditional_losses while saving (showing 2 of 2). These functions will not be directly callable after loading.\n"
     ]
    },
    {
     "name": "stdout",
     "output_type": "stream",
     "text": [
      "INFO:tensorflow:Assets written to: model4\\assets\n"
     ]
    },
    {
     "name": "stderr",
     "output_type": "stream",
     "text": [
      "INFO:tensorflow:Assets written to: model4\\assets\n"
     ]
    },
    {
     "name": "stdout",
     "output_type": "stream",
     "text": [
      "20/20 [==============================] - 11s 596ms/step - loss: 4.0462 - root_mean_squared_error: 2.0115 - val_loss: 5.6818 - val_root_mean_squared_error: 2.3836\n",
      "Epoch 33/50\n",
      "20/20 [==============================] - 0s 15ms/step - loss: 3.8428 - root_mean_squared_error: 1.9603 - val_loss: 5.9983 - val_root_mean_squared_error: 2.4491\n",
      "Epoch 34/50\n",
      "20/20 [==============================] - 0s 20ms/step - loss: 3.9257 - root_mean_squared_error: 1.9813 - val_loss: 5.9051 - val_root_mean_squared_error: 2.4300\n",
      "Epoch 35/50\n",
      "20/20 [==============================] - 0s 23ms/step - loss: 4.2766 - root_mean_squared_error: 2.0680 - val_loss: 5.7727 - val_root_mean_squared_error: 2.4026\n",
      "Epoch 36/50\n",
      "20/20 [==============================] - 0s 16ms/step - loss: 3.8319 - root_mean_squared_error: 1.9575 - val_loss: 5.7050 - val_root_mean_squared_error: 2.3885\n",
      "Epoch 37/50\n",
      "20/20 [==============================] - ETA: 0s - loss: 3.9045 - root_mean_squared_error: 1.9760"
     ]
    },
    {
     "name": "stderr",
     "output_type": "stream",
     "text": [
      "WARNING:absl:Found untraced functions such as lstm_cell_2_layer_call_fn, lstm_cell_2_layer_call_and_return_conditional_losses while saving (showing 2 of 2). These functions will not be directly callable after loading.\n"
     ]
    },
    {
     "name": "stdout",
     "output_type": "stream",
     "text": [
      "INFO:tensorflow:Assets written to: model4\\assets\n"
     ]
    },
    {
     "name": "stderr",
     "output_type": "stream",
     "text": [
      "INFO:tensorflow:Assets written to: model4\\assets\n"
     ]
    },
    {
     "name": "stdout",
     "output_type": "stream",
     "text": [
      "20/20 [==============================] - 12s 611ms/step - loss: 3.9045 - root_mean_squared_error: 1.9760 - val_loss: 5.6172 - val_root_mean_squared_error: 2.3701\n",
      "Epoch 38/50\n",
      "20/20 [==============================] - 0s 15ms/step - loss: 3.8492 - root_mean_squared_error: 1.9620 - val_loss: 5.7993 - val_root_mean_squared_error: 2.4082\n",
      "Epoch 39/50\n",
      "20/20 [==============================] - 0s 15ms/step - loss: 3.7616 - root_mean_squared_error: 1.9395 - val_loss: 5.6398 - val_root_mean_squared_error: 2.3748\n",
      "Epoch 40/50\n",
      "20/20 [==============================] - 0s 15ms/step - loss: 3.7504 - root_mean_squared_error: 1.9366 - val_loss: 5.9842 - val_root_mean_squared_error: 2.4463\n",
      "Epoch 41/50\n",
      "20/20 [==============================] - 0s 24ms/step - loss: 3.7621 - root_mean_squared_error: 1.9396 - val_loss: 5.6211 - val_root_mean_squared_error: 2.3709\n",
      "Epoch 42/50\n",
      "20/20 [==============================] - 0s 15ms/step - loss: 3.8054 - root_mean_squared_error: 1.9507 - val_loss: 5.7535 - val_root_mean_squared_error: 2.3987\n",
      "Epoch 43/50\n",
      "20/20 [==============================] - 0s 15ms/step - loss: 4.0401 - root_mean_squared_error: 2.0100 - val_loss: 5.6430 - val_root_mean_squared_error: 2.3755\n",
      "Epoch 44/50\n",
      "16/20 [=======================>......] - ETA: 0s - loss: 3.8541 - root_mean_squared_error: 1.9632"
     ]
    },
    {
     "name": "stderr",
     "output_type": "stream",
     "text": [
      "WARNING:absl:Found untraced functions such as lstm_cell_2_layer_call_fn, lstm_cell_2_layer_call_and_return_conditional_losses while saving (showing 2 of 2). These functions will not be directly callable after loading.\n"
     ]
    },
    {
     "name": "stdout",
     "output_type": "stream",
     "text": [
      "INFO:tensorflow:Assets written to: model4\\assets\n"
     ]
    },
    {
     "name": "stderr",
     "output_type": "stream",
     "text": [
      "INFO:tensorflow:Assets written to: model4\\assets\n"
     ]
    },
    {
     "name": "stdout",
     "output_type": "stream",
     "text": [
      "20/20 [==============================] - 12s 631ms/step - loss: 4.0211 - root_mean_squared_error: 2.0053 - val_loss: 5.5705 - val_root_mean_squared_error: 2.3602\n",
      "Epoch 45/50\n",
      "18/20 [==========================>...] - ETA: 0s - loss: 3.6123 - root_mean_squared_error: 1.9006"
     ]
    },
    {
     "name": "stderr",
     "output_type": "stream",
     "text": [
      "WARNING:absl:Found untraced functions such as lstm_cell_2_layer_call_fn, lstm_cell_2_layer_call_and_return_conditional_losses while saving (showing 2 of 2). These functions will not be directly callable after loading.\n"
     ]
    },
    {
     "name": "stdout",
     "output_type": "stream",
     "text": [
      "INFO:tensorflow:Assets written to: model4\\assets\n"
     ]
    },
    {
     "name": "stderr",
     "output_type": "stream",
     "text": [
      "INFO:tensorflow:Assets written to: model4\\assets\n"
     ]
    },
    {
     "name": "stdout",
     "output_type": "stream",
     "text": [
      "20/20 [==============================] - 13s 680ms/step - loss: 3.6609 - root_mean_squared_error: 1.9133 - val_loss: 5.4137 - val_root_mean_squared_error: 2.3267\n",
      "Epoch 46/50\n",
      "18/20 [==========================>...] - ETA: 0s - loss: 3.9848 - root_mean_squared_error: 1.9962"
     ]
    },
    {
     "name": "stderr",
     "output_type": "stream",
     "text": [
      "WARNING:absl:Found untraced functions such as lstm_cell_2_layer_call_fn, lstm_cell_2_layer_call_and_return_conditional_losses while saving (showing 2 of 2). These functions will not be directly callable after loading.\n"
     ]
    },
    {
     "name": "stdout",
     "output_type": "stream",
     "text": [
      "INFO:tensorflow:Assets written to: model4\\assets\n"
     ]
    },
    {
     "name": "stderr",
     "output_type": "stream",
     "text": [
      "INFO:tensorflow:Assets written to: model4\\assets\n"
     ]
    },
    {
     "name": "stdout",
     "output_type": "stream",
     "text": [
      "20/20 [==============================] - 16s 828ms/step - loss: 3.9314 - root_mean_squared_error: 1.9828 - val_loss: 5.3994 - val_root_mean_squared_error: 2.3237\n",
      "Epoch 47/50\n",
      "20/20 [==============================] - 1s 30ms/step - loss: 3.8518 - root_mean_squared_error: 1.9626 - val_loss: 5.6709 - val_root_mean_squared_error: 2.3814\n",
      "Epoch 48/50\n",
      "20/20 [==============================] - ETA: 0s - loss: 3.8463 - root_mean_squared_error: 1.9612"
     ]
    },
    {
     "name": "stderr",
     "output_type": "stream",
     "text": [
      "WARNING:absl:Found untraced functions such as lstm_cell_2_layer_call_fn, lstm_cell_2_layer_call_and_return_conditional_losses while saving (showing 2 of 2). These functions will not be directly callable after loading.\n"
     ]
    },
    {
     "name": "stdout",
     "output_type": "stream",
     "text": [
      "INFO:tensorflow:Assets written to: model4\\assets\n"
     ]
    },
    {
     "name": "stderr",
     "output_type": "stream",
     "text": [
      "INFO:tensorflow:Assets written to: model4\\assets\n"
     ]
    },
    {
     "name": "stdout",
     "output_type": "stream",
     "text": [
      "20/20 [==============================] - 18s 962ms/step - loss: 3.8463 - root_mean_squared_error: 1.9612 - val_loss: 5.2989 - val_root_mean_squared_error: 2.3019\n",
      "Epoch 49/50\n",
      "20/20 [==============================] - 1s 45ms/step - loss: 3.6691 - root_mean_squared_error: 1.9155 - val_loss: 6.0434 - val_root_mean_squared_error: 2.4583\n",
      "Epoch 50/50\n",
      "20/20 [==============================] - 0s 17ms/step - loss: 3.9227 - root_mean_squared_error: 1.9806 - val_loss: 5.3910 - val_root_mean_squared_error: 2.3219\n"
     ]
    },
    {
     "data": {
      "text/plain": [
       "<keras.callbacks.History at 0x14756728b20>"
      ]
     },
     "execution_count": 29,
     "metadata": {},
     "output_type": "execute_result"
    }
   ],
   "source": [
    "model1.fit(X_train, y_train, validation_data=(X_val, y_val), epochs=50, callbacks=[cp1, tb1])"
   ]
  },
  {
   "cell_type": "code",
   "execution_count": 30,
   "metadata": {},
   "outputs": [],
   "source": [
    "def post_process(y):\n",
    "    return (X_train_sd*y)+X_train_mean"
   ]
  },
  {
   "cell_type": "code",
   "execution_count": 31,
   "metadata": {},
   "outputs": [],
   "source": [
    "from tensorflow.keras.models import load_model\n",
    "model1 = load_model('model4/')"
   ]
  },
  {
   "cell_type": "code",
   "execution_count": 32,
   "metadata": {},
   "outputs": [
    {
     "name": "stdout",
     "output_type": "stream",
     "text": [
      "5/5 [==============================] - 2s 6ms/step\n",
      "5/5 [==============================] - 0s 9ms/step\n",
      "20/20 [==============================] - 0s 13ms/step\n"
     ]
    }
   ],
   "source": [
    "predicted_test_df = pd.DataFrame({'Predicted Temperature':post_process(model1.predict(X_test_std).flatten()), 'Actual Temperature': y_test})\n",
    "predicted_val_df = pd.DataFrame({'Predicted Temperature':post_process(model1.predict(X_val_std).flatten()), 'Actual Temperature': y_val})\n",
    "predicted_train_df = pd.DataFrame({'Predicted Temperature':post_process(model1.predict(X_train_std).flatten()), 'Actual Temperature': y_train})"
   ]
  },
  {
   "cell_type": "code",
   "execution_count": 33,
   "metadata": {},
   "outputs": [],
   "source": [
    "from sklearn.metrics import mean_squared_error"
   ]
  },
  {
   "cell_type": "code",
   "execution_count": 34,
   "metadata": {},
   "outputs": [
    {
     "data": {
      "text/plain": [
       "<AxesSubplot:title={'center':'RMSE: 4.442627213446369'}>"
      ]
     },
     "execution_count": 34,
     "metadata": {},
     "output_type": "execute_result"
    },
    {
     "data": {
      "image/png": "[encoded data removed]",
      "text/plain": [
       "<Figure size 432x288 with 1 Axes>"
      ]
     },
     "metadata": {
      "needs_background": "light"
     },
     "output_type": "display_data"
    }
   ],
   "source": [
    "predicted_train_df.plot(title=f\"RMSE: {mean_squared_error(predicted_train_df['Actual Temperature'], predicted_train_df['Predicted Temperature'], squared=False)}\")"
   ]
  },
  {
   "cell_type": "code",
   "execution_count": 35,
   "metadata": {},
   "outputs": [
    {
     "data": {
      "text/plain": [
       "<AxesSubplot:title={'center':'RMSE:4.049101051383514'}>"
      ]
     },
     "execution_count": 35,
     "metadata": {},
     "output_type": "execute_result"
    },
    {
     "data": {
      "image/png": "[encoded data removed]",
      "text/plain": [
       "<Figure size 432x288 with 1 Axes>"
      ]
     },
     "metadata": {
      "needs_background": "light"
     },
     "output_type": "display_data"
    }
   ],
   "source": [
    "predicted_val_df.plot(title = f\"RMSE:{mean_squared_error(predicted_val_df['Actual Temperature'], predicted_val_df['Predicted Temperature'], squared=False)}\")"
   ]
  },
  {
   "cell_type": "code",
   "execution_count": 36,
   "metadata": {},
   "outputs": [
    {
     "data": {
      "text/plain": [
       "<AxesSubplot:title={'center':'RMSE:4.489537844110755'}>"
      ]
     },
     "execution_count": 36,
     "metadata": {},
     "output_type": "execute_result"
    },
    {
     "data": {
      "image/png": "[encoded data removed]",
      "text/plain": [
       "<Figure size 432x288 with 1 Axes>"
      ]
     },
     "metadata": {
      "needs_background": "light"
     },
     "output_type": "display_data"
    }
   ],
   "source": [
    "predicted_test_df.plot(title = f\"RMSE:{mean_squared_error(predicted_test_df['Actual Temperature'], predicted_test_df['Predicted Temperature'], squared=False)}\")\n"
   ]
  },
  {
   "cell_type": "code",
   "execution_count": 37,
   "metadata": {},
   "outputs": [
    {
     "data": {
      "text/plain": [
       "(893,)"
      ]
     },
     "execution_count": 37,
     "metadata": {},
     "output_type": "execute_result"
    }
   ],
   "source": [
    "y.shape"
   ]
  },
  {
   "attachments": {},
   "cell_type": "markdown",
   "metadata": {},
   "source": [
    "RMSE got way worse when trying with last values of 1-7, 13,14,15, 20,21,22, 27,28,29"
   ]
  },
  {
   "attachments": {},
   "cell_type": "markdown",
   "metadata": {},
   "source": [
    "Trying with small values with input size 7x1"
   ]
  }
 ],
 "metadata": {
  "kernelspec": {
   "display_name": "base",
   "language": "python",
   "name": "python3"
  },
  "language_info": {
   "codemirror_mode": {
    "name": "ipython",
    "version": 3
   },
   "file_extension": ".py",
   "mimetype": "text/x-python",
   "name": "python",
   "nbconvert_exporter": "python",
   "pygments_lexer": "ipython3",
   "version": "3.9.12"
  },
  "orig_nbformat": 4,
  "vscode": {
   "interpreter": {
    "hash": "b9baaabb7af3f92ae09d746be89d264ca11beda4dade21bcf0e4e74ca662ee82"
   }
  }
 },
 "nbformat": 4,
 "nbformat_minor": 2
}
